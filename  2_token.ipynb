{
 "cells": [
  {
   "cell_type": "code",
   "execution_count": 1,
   "metadata": {},
   "outputs": [],
   "source": [
    "#recuperation des données de l'API OpenRouteService\n",
    "import pandas as pd\n",
    "import datetime\n",
    "import openrouteservice as ors\n",
    "from openrouteservice.directions import directions"
   ]
  },
  {
   "cell_type": "code",
   "execution_count": 2,
   "metadata": {},
   "outputs": [],
   "source": [
    "myTok = \"5b3ce3597851110001cf6248298d7a0c6f634872abaf5d03752cc6c4\"\n",
    "client = ors.Client(key=myTok)"
   ]
  },
  {
   "cell_type": "code",
   "execution_count": 3,
   "metadata": {},
   "outputs": [],
   "source": [
    "Train = pd.read_csv(\"Train.csv\")\n",
    "Test = pd.read_csv(\"Test.csv\")"
   ]
  },
  {
   "cell_type": "code",
   "execution_count": 4,
   "metadata": {},
   "outputs": [
    {
     "name": "stderr",
     "output_type": "stream",
     "text": [
      "/home/moussa/snap/jupyter/common/lib/python3.7/site-packages/openrouteservice/client.py:214: UserWarning: Rate limit exceeded. Retrying for the 1st time.\n",
      "  stacklevel=1)\n",
      "/home/moussa/snap/jupyter/common/lib/python3.7/site-packages/openrouteservice/client.py:214: UserWarning: Rate limit exceeded. Retrying for the 2nd time.\n",
      "  stacklevel=1)\n",
      "/home/moussa/snap/jupyter/common/lib/python3.7/site-packages/openrouteservice/client.py:214: UserWarning: Rate limit exceeded. Retrying for the 3rd time.\n",
      "  stacklevel=1)\n",
      "/home/moussa/snap/jupyter/common/lib/python3.7/site-packages/openrouteservice/client.py:214: UserWarning: Rate limit exceeded. Retrying for the 4th time.\n",
      "  stacklevel=1)\n",
      "/home/moussa/snap/jupyter/common/lib/python3.7/site-packages/openrouteservice/client.py:214: UserWarning: Rate limit exceeded. Retrying for the 5th time.\n",
      "  stacklevel=1)\n",
      "/home/moussa/snap/jupyter/common/lib/python3.7/site-packages/openrouteservice/client.py:214: UserWarning: Rate limit exceeded. Retrying for the 6th time.\n",
      "  stacklevel=1)\n",
      "/home/moussa/snap/jupyter/common/lib/python3.7/site-packages/openrouteservice/client.py:214: UserWarning: Rate limit exceeded. Retrying for the 7th time.\n",
      "  stacklevel=1)\n",
      "/home/moussa/snap/jupyter/common/lib/python3.7/site-packages/openrouteservice/client.py:214: UserWarning: Rate limit exceeded. Retrying for the 8th time.\n",
      "  stacklevel=1)\n",
      "/home/moussa/snap/jupyter/common/lib/python3.7/site-packages/openrouteservice/client.py:214: UserWarning: Rate limit exceeded. Retrying for the 9th time.\n",
      "  stacklevel=1)\n",
      "/home/moussa/snap/jupyter/common/lib/python3.7/site-packages/openrouteservice/client.py:214: UserWarning: Rate limit exceeded. Retrying for the 10th time.\n",
      "  stacklevel=1)\n"
     ]
    },
    {
     "name": "stdout",
     "output_type": "stream",
     "text": [
      "Temps total: 1:13:50.569963\n"
     ]
    }
   ],
   "source": [
    "# exemple recuperer de 9221 à 11221\n",
    "t_ = Train[3221:5221]\n",
    "time_init = datetime.datetime.now()\n",
    "filename = \"ors_3221_5221.csv\"\n",
    "with open(filename,mode=\"w+\",encoding=\"utf-8\") as f:\n",
    " for i,j,k,l in zip(t_['Pickup Long'].T,t_['Pickup Lat'].T,t_['Destination Long'].T,t_['Destination Lat'].T):\n",
    "   coords = ((i,j),(k,l))\n",
    "   routes = directions(client, coords,profile='cycling-regular',language='fr')\n",
    "   info = \"{},{}\\n\"\n",
    "   f.write(info.format(routes[\"routes\"][0][\"summary\"][\"distance\"],routes[\"routes\"][0][\"summary\"][\"duration\"]))\n",
    "f.close()\n",
    "time_fin = datetime.datetime.now()\n",
    "print(\"Temps total: {}\".format(time_fin - time_init))"
   ]
  },
  {
   "cell_type": "code",
   "execution_count": null,
   "metadata": {},
   "outputs": [],
   "source": []
  }
 ],
 "metadata": {
  "kernelspec": {
   "display_name": "Python 3",
   "language": "python",
   "name": "python3"
  },
  "language_info": {
   "codemirror_mode": {
    "name": "ipython",
    "version": 3
   },
   "file_extension": ".py",
   "mimetype": "text/x-python",
   "name": "python",
   "nbconvert_exporter": "python",
   "pygments_lexer": "ipython3",
   "version": "3.7.3"
  }
 },
 "nbformat": 4,
 "nbformat_minor": 2
}
