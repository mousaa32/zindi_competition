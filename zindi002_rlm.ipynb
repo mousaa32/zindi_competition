{
 "cells": [
  {
   "cell_type": "code",
   "execution_count": 1,
   "metadata": {
    "colab": {},
    "colab_type": "code",
    "id": "aTitcXE2vEMl"
   },
   "outputs": [],
   "source": [
    "import pandas as pd\n",
    "from matplotlib import pyplot as plt\n",
    "import numpy as np\n",
    "from sklearn.model_selection import train_test_split\n",
    "from sklearn.linear_model import LinearRegression\n",
    "from sklearn.neighbors import KNeighborsClassifier\n",
    "from sklearn.neighbors import KNeighborsRegressor\n",
    "\n",
    "from sklearn.metrics import mean_squared_error\n",
    "from sklearn.metrics import accuracy_score\n",
    "\n",
    "import datetime"
   ]
  },
  {
   "cell_type": "code",
   "execution_count": 2,
   "metadata": {
    "colab": {
     "base_uri": "https://localhost:8080/",
     "height": 53
    },
    "colab_type": "code",
    "executionInfo": {
     "elapsed": 790,
     "status": "ok",
     "timestamp": 1572569840145,
     "user": {
      "displayName": "Armel Drey",
      "photoUrl": "",
      "userId": "16665257867221137373"
     },
     "user_tz": 0
    },
    "id": "U6AbM7BSxBMT",
    "outputId": "1b2657a8-bcd2-4d45-f968-eeb3a35c724a"
   },
   "outputs": [
    {
     "name": "stdout",
     "output_type": "stream",
     "text": [
      "(21201, 29)\n",
      "(7068, 25)\n"
     ]
    }
   ],
   "source": [
    "\"\"\"**Loading**\"\"\"\n",
    "\n",
    "data = pd.read_csv(\"Train.csv\")\n",
    "data2 = pd.read_csv(\"Test.csv\")\n",
    "data3 = pd.read_csv(\"Riders.csv\")\n",
    "\n",
    "print(data.shape)\n",
    "print(data2.shape)"
   ]
  },
  {
   "cell_type": "code",
   "execution_count": 3,
   "metadata": {
    "colab": {
     "base_uri": "https://localhost:8080/",
     "height": 411
    },
    "colab_type": "code",
    "executionInfo": {
     "elapsed": 1116,
     "status": "ok",
     "timestamp": 1572564231033,
     "user": {
      "displayName": "Armel Drey",
      "photoUrl": "",
      "userId": "16665257867221137373"
     },
     "user_tz": 0
    },
    "id": "PYKNFQVrxBJi",
    "outputId": "9ef744a1-606a-43ed-c374-626bdc283ea8"
   },
   "outputs": [
    {
     "data": {
      "text/plain": [
       "Order No                                     0.000000\n",
       "User Id                                      0.000000\n",
       "Vehicle Type                                 0.000000\n",
       "Platform Type                                0.000000\n",
       "Personal or Business                         0.000000\n",
       "Placement - Day of Month                     0.000000\n",
       "Placement - Weekday (Mo = 1)                 0.000000\n",
       "Placement - Time                             0.000000\n",
       "Confirmation - Day of Month                  0.000000\n",
       "Confirmation - Weekday (Mo = 1)              0.000000\n",
       "Confirmation - Time                          0.000000\n",
       "Arrival at Pickup - Day of Month             0.000000\n",
       "Arrival at Pickup - Weekday (Mo = 1)         0.000000\n",
       "Arrival at Pickup - Time                     0.000000\n",
       "Pickup - Day of Month                        0.000000\n",
       "Pickup - Weekday (Mo = 1)                    0.000000\n",
       "Pickup - Time                                0.000000\n",
       "Arrival at Destination - Day of Month        0.000000\n",
       "Arrival at Destination - Weekday (Mo = 1)    0.000000\n",
       "Arrival at Destination - Time                0.000000\n",
       "Distance (KM)                                0.000000\n",
       "Temperature                                  0.205934\n",
       "Precipitation in millimeters                 0.973963\n",
       "Pickup Lat                                   0.000000\n",
       "Pickup Long                                  0.000000\n",
       "Destination Lat                              0.000000\n",
       "Destination Long                             0.000000\n",
       "Rider Id                                     0.000000\n",
       "Time from Pickup to Arrival                  0.000000\n",
       "dtype: float64"
      ]
     },
     "execution_count": 3,
     "metadata": {},
     "output_type": "execute_result"
    }
   ],
   "source": [
    "\"\"\"**DATA TRAIN**\"\"\"\n",
    "\n",
    "data.head()\n",
    "\n",
    "data.isnull().sum()/len(data)"
   ]
  },
  {
   "cell_type": "code",
   "execution_count": 4,
   "metadata": {
    "colab": {
     "base_uri": "https://localhost:8080/",
     "height": 368
    },
    "colab_type": "code",
    "executionInfo": {
     "elapsed": 818,
     "status": "ok",
     "timestamp": 1572564622068,
     "user": {
      "displayName": "Armel Drey",
      "photoUrl": "",
      "userId": "16665257867221137373"
     },
     "user_tz": 0
    },
    "id": "XTwJfsQ-xBAq",
    "outputId": "1f2cfcfc-08f3-40b3-f02e-62a462a0c5be"
   },
   "outputs": [
    {
     "data": {
      "text/html": [
       "<div>\n",
       "<style scoped>\n",
       "    .dataframe tbody tr th:only-of-type {\n",
       "        vertical-align: middle;\n",
       "    }\n",
       "\n",
       "    .dataframe tbody tr th {\n",
       "        vertical-align: top;\n",
       "    }\n",
       "\n",
       "    .dataframe thead th {\n",
       "        text-align: right;\n",
       "    }\n",
       "</style>\n",
       "<table border=\"1\" class=\"dataframe\">\n",
       "  <thead>\n",
       "    <tr style=\"text-align: right;\">\n",
       "      <th></th>\n",
       "      <th>Platform Type</th>\n",
       "      <th>Placement - Day of Month</th>\n",
       "      <th>Placement - Weekday (Mo = 1)</th>\n",
       "      <th>Confirmation - Day of Month</th>\n",
       "      <th>Confirmation - Weekday (Mo = 1)</th>\n",
       "      <th>Arrival at Pickup - Day of Month</th>\n",
       "      <th>Arrival at Pickup - Weekday (Mo = 1)</th>\n",
       "      <th>Pickup - Day of Month</th>\n",
       "      <th>Pickup - Weekday (Mo = 1)</th>\n",
       "      <th>Arrival at Destination - Day of Month</th>\n",
       "      <th>Arrival at Destination - Weekday (Mo = 1)</th>\n",
       "      <th>Distance (KM)</th>\n",
       "      <th>Temperature</th>\n",
       "      <th>Precipitation in millimeters</th>\n",
       "      <th>Pickup Lat</th>\n",
       "      <th>Pickup Long</th>\n",
       "      <th>Destination Lat</th>\n",
       "      <th>Destination Long</th>\n",
       "      <th>Time from Pickup to Arrival</th>\n",
       "    </tr>\n",
       "  </thead>\n",
       "  <tbody>\n",
       "    <tr>\n",
       "      <th>count</th>\n",
       "      <td>21201.000000</td>\n",
       "      <td>21201.000000</td>\n",
       "      <td>21201.000000</td>\n",
       "      <td>21201.000000</td>\n",
       "      <td>21201.000000</td>\n",
       "      <td>21201.000000</td>\n",
       "      <td>21201.000000</td>\n",
       "      <td>21201.000000</td>\n",
       "      <td>21201.000000</td>\n",
       "      <td>21201.000000</td>\n",
       "      <td>21201.000000</td>\n",
       "      <td>21201.000000</td>\n",
       "      <td>16835.000000</td>\n",
       "      <td>552.000000</td>\n",
       "      <td>21201.000000</td>\n",
       "      <td>21201.000000</td>\n",
       "      <td>21201.000000</td>\n",
       "      <td>21201.000000</td>\n",
       "      <td>21201.000000</td>\n",
       "    </tr>\n",
       "    <tr>\n",
       "      <th>mean</th>\n",
       "      <td>2.752182</td>\n",
       "      <td>15.653696</td>\n",
       "      <td>3.240083</td>\n",
       "      <td>15.653837</td>\n",
       "      <td>3.240225</td>\n",
       "      <td>15.653837</td>\n",
       "      <td>3.240225</td>\n",
       "      <td>15.653837</td>\n",
       "      <td>3.240225</td>\n",
       "      <td>15.653837</td>\n",
       "      <td>3.240225</td>\n",
       "      <td>9.506533</td>\n",
       "      <td>23.258889</td>\n",
       "      <td>7.905797</td>\n",
       "      <td>-1.281470</td>\n",
       "      <td>36.811264</td>\n",
       "      <td>-1.282581</td>\n",
       "      <td>36.811220</td>\n",
       "      <td>1556.920947</td>\n",
       "    </tr>\n",
       "    <tr>\n",
       "      <th>std</th>\n",
       "      <td>0.625178</td>\n",
       "      <td>8.798916</td>\n",
       "      <td>1.567295</td>\n",
       "      <td>8.798886</td>\n",
       "      <td>1.567228</td>\n",
       "      <td>8.798886</td>\n",
       "      <td>1.567228</td>\n",
       "      <td>8.798886</td>\n",
       "      <td>1.567228</td>\n",
       "      <td>8.798886</td>\n",
       "      <td>1.567228</td>\n",
       "      <td>5.668963</td>\n",
       "      <td>3.615768</td>\n",
       "      <td>17.089971</td>\n",
       "      <td>0.030507</td>\n",
       "      <td>0.037473</td>\n",
       "      <td>0.034824</td>\n",
       "      <td>0.044721</td>\n",
       "      <td>987.270788</td>\n",
       "    </tr>\n",
       "    <tr>\n",
       "      <th>min</th>\n",
       "      <td>1.000000</td>\n",
       "      <td>1.000000</td>\n",
       "      <td>1.000000</td>\n",
       "      <td>1.000000</td>\n",
       "      <td>1.000000</td>\n",
       "      <td>1.000000</td>\n",
       "      <td>1.000000</td>\n",
       "      <td>1.000000</td>\n",
       "      <td>1.000000</td>\n",
       "      <td>1.000000</td>\n",
       "      <td>1.000000</td>\n",
       "      <td>1.000000</td>\n",
       "      <td>11.200000</td>\n",
       "      <td>0.100000</td>\n",
       "      <td>-1.438302</td>\n",
       "      <td>36.653621</td>\n",
       "      <td>-1.430298</td>\n",
       "      <td>36.606594</td>\n",
       "      <td>1.000000</td>\n",
       "    </tr>\n",
       "    <tr>\n",
       "      <th>25%</th>\n",
       "      <td>3.000000</td>\n",
       "      <td>8.000000</td>\n",
       "      <td>2.000000</td>\n",
       "      <td>8.000000</td>\n",
       "      <td>2.000000</td>\n",
       "      <td>8.000000</td>\n",
       "      <td>2.000000</td>\n",
       "      <td>8.000000</td>\n",
       "      <td>2.000000</td>\n",
       "      <td>8.000000</td>\n",
       "      <td>2.000000</td>\n",
       "      <td>5.000000</td>\n",
       "      <td>20.600000</td>\n",
       "      <td>1.075000</td>\n",
       "      <td>-1.300921</td>\n",
       "      <td>36.784605</td>\n",
       "      <td>-1.301201</td>\n",
       "      <td>36.785661</td>\n",
       "      <td>882.000000</td>\n",
       "    </tr>\n",
       "    <tr>\n",
       "      <th>50%</th>\n",
       "      <td>3.000000</td>\n",
       "      <td>15.000000</td>\n",
       "      <td>3.000000</td>\n",
       "      <td>15.000000</td>\n",
       "      <td>3.000000</td>\n",
       "      <td>15.000000</td>\n",
       "      <td>3.000000</td>\n",
       "      <td>15.000000</td>\n",
       "      <td>3.000000</td>\n",
       "      <td>15.000000</td>\n",
       "      <td>3.000000</td>\n",
       "      <td>8.000000</td>\n",
       "      <td>23.500000</td>\n",
       "      <td>2.900000</td>\n",
       "      <td>-1.279395</td>\n",
       "      <td>36.807040</td>\n",
       "      <td>-1.284382</td>\n",
       "      <td>36.808002</td>\n",
       "      <td>1369.000000</td>\n",
       "    </tr>\n",
       "    <tr>\n",
       "      <th>75%</th>\n",
       "      <td>3.000000</td>\n",
       "      <td>23.000000</td>\n",
       "      <td>5.000000</td>\n",
       "      <td>23.000000</td>\n",
       "      <td>5.000000</td>\n",
       "      <td>23.000000</td>\n",
       "      <td>5.000000</td>\n",
       "      <td>23.000000</td>\n",
       "      <td>5.000000</td>\n",
       "      <td>23.000000</td>\n",
       "      <td>5.000000</td>\n",
       "      <td>13.000000</td>\n",
       "      <td>26.000000</td>\n",
       "      <td>4.900000</td>\n",
       "      <td>-1.257147</td>\n",
       "      <td>36.829741</td>\n",
       "      <td>-1.261177</td>\n",
       "      <td>36.829477</td>\n",
       "      <td>2040.000000</td>\n",
       "    </tr>\n",
       "    <tr>\n",
       "      <th>max</th>\n",
       "      <td>4.000000</td>\n",
       "      <td>31.000000</td>\n",
       "      <td>7.000000</td>\n",
       "      <td>31.000000</td>\n",
       "      <td>7.000000</td>\n",
       "      <td>31.000000</td>\n",
       "      <td>7.000000</td>\n",
       "      <td>31.000000</td>\n",
       "      <td>7.000000</td>\n",
       "      <td>31.000000</td>\n",
       "      <td>7.000000</td>\n",
       "      <td>49.000000</td>\n",
       "      <td>32.100000</td>\n",
       "      <td>99.100000</td>\n",
       "      <td>-1.147170</td>\n",
       "      <td>36.991046</td>\n",
       "      <td>-1.030225</td>\n",
       "      <td>37.016779</td>\n",
       "      <td>7883.000000</td>\n",
       "    </tr>\n",
       "  </tbody>\n",
       "</table>\n",
       "</div>"
      ],
      "text/plain": [
       "       Platform Type  Placement - Day of Month  Placement - Weekday (Mo = 1)  \\\n",
       "count   21201.000000              21201.000000                  21201.000000   \n",
       "mean        2.752182                 15.653696                      3.240083   \n",
       "std         0.625178                  8.798916                      1.567295   \n",
       "min         1.000000                  1.000000                      1.000000   \n",
       "25%         3.000000                  8.000000                      2.000000   \n",
       "50%         3.000000                 15.000000                      3.000000   \n",
       "75%         3.000000                 23.000000                      5.000000   \n",
       "max         4.000000                 31.000000                      7.000000   \n",
       "\n",
       "       Confirmation - Day of Month  Confirmation - Weekday (Mo = 1)  \\\n",
       "count                 21201.000000                     21201.000000   \n",
       "mean                     15.653837                         3.240225   \n",
       "std                       8.798886                         1.567228   \n",
       "min                       1.000000                         1.000000   \n",
       "25%                       8.000000                         2.000000   \n",
       "50%                      15.000000                         3.000000   \n",
       "75%                      23.000000                         5.000000   \n",
       "max                      31.000000                         7.000000   \n",
       "\n",
       "       Arrival at Pickup - Day of Month  Arrival at Pickup - Weekday (Mo = 1)  \\\n",
       "count                      21201.000000                          21201.000000   \n",
       "mean                          15.653837                              3.240225   \n",
       "std                            8.798886                              1.567228   \n",
       "min                            1.000000                              1.000000   \n",
       "25%                            8.000000                              2.000000   \n",
       "50%                           15.000000                              3.000000   \n",
       "75%                           23.000000                              5.000000   \n",
       "max                           31.000000                              7.000000   \n",
       "\n",
       "       Pickup - Day of Month  Pickup - Weekday (Mo = 1)  \\\n",
       "count           21201.000000               21201.000000   \n",
       "mean               15.653837                   3.240225   \n",
       "std                 8.798886                   1.567228   \n",
       "min                 1.000000                   1.000000   \n",
       "25%                 8.000000                   2.000000   \n",
       "50%                15.000000                   3.000000   \n",
       "75%                23.000000                   5.000000   \n",
       "max                31.000000                   7.000000   \n",
       "\n",
       "       Arrival at Destination - Day of Month  \\\n",
       "count                           21201.000000   \n",
       "mean                               15.653837   \n",
       "std                                 8.798886   \n",
       "min                                 1.000000   \n",
       "25%                                 8.000000   \n",
       "50%                                15.000000   \n",
       "75%                                23.000000   \n",
       "max                                31.000000   \n",
       "\n",
       "       Arrival at Destination - Weekday (Mo = 1)  Distance (KM)   Temperature  \\\n",
       "count                               21201.000000   21201.000000  16835.000000   \n",
       "mean                                    3.240225       9.506533     23.258889   \n",
       "std                                     1.567228       5.668963      3.615768   \n",
       "min                                     1.000000       1.000000     11.200000   \n",
       "25%                                     2.000000       5.000000     20.600000   \n",
       "50%                                     3.000000       8.000000     23.500000   \n",
       "75%                                     5.000000      13.000000     26.000000   \n",
       "max                                     7.000000      49.000000     32.100000   \n",
       "\n",
       "       Precipitation in millimeters    Pickup Lat   Pickup Long  \\\n",
       "count                    552.000000  21201.000000  21201.000000   \n",
       "mean                       7.905797     -1.281470     36.811264   \n",
       "std                       17.089971      0.030507      0.037473   \n",
       "min                        0.100000     -1.438302     36.653621   \n",
       "25%                        1.075000     -1.300921     36.784605   \n",
       "50%                        2.900000     -1.279395     36.807040   \n",
       "75%                        4.900000     -1.257147     36.829741   \n",
       "max                       99.100000     -1.147170     36.991046   \n",
       "\n",
       "       Destination Lat  Destination Long  Time from Pickup to Arrival  \n",
       "count     21201.000000      21201.000000                 21201.000000  \n",
       "mean         -1.282581         36.811220                  1556.920947  \n",
       "std           0.034824          0.044721                   987.270788  \n",
       "min          -1.430298         36.606594                     1.000000  \n",
       "25%          -1.301201         36.785661                   882.000000  \n",
       "50%          -1.284382         36.808002                  1369.000000  \n",
       "75%          -1.261177         36.829477                  2040.000000  \n",
       "max          -1.030225         37.016779                  7883.000000  "
      ]
     },
     "execution_count": 4,
     "metadata": {},
     "output_type": "execute_result"
    }
   ],
   "source": [
    "\"\"\"**Stat desc univariée**\"\"\"\n",
    "\n",
    "data.describe()\n",
    "\n",
    "#data.dtypes"
   ]
  },
  {
   "cell_type": "code",
   "execution_count": 5,
   "metadata": {
    "colab": {
     "base_uri": "https://localhost:8080/",
     "height": 35
    },
    "colab_type": "code",
    "executionInfo": {
     "elapsed": 1076,
     "status": "ok",
     "timestamp": 1572569847500,
     "user": {
      "displayName": "Armel Drey",
      "photoUrl": "",
      "userId": "16665257867221137373"
     },
     "user_tz": 0
    },
    "id": "4xLfq8AUxA-p",
    "outputId": "82f7e6c0-dac5-42c3-96ec-ee296ac3f47f"
   },
   "outputs": [
    {
     "data": {
      "text/plain": [
       "(21201, 27)"
      ]
     },
     "execution_count": 5,
     "metadata": {},
     "output_type": "execute_result"
    }
   ],
   "source": [
    "\"\"\"**Imputations**\"\"\"\n",
    "\n",
    "del data[\"Precipitation in millimeters\"]\n",
    "del data[\"Vehicle Type\"]\n",
    "data['Temperature'] = data['Temperature'].fillna(data['Temperature'].mean())\n",
    "\n",
    "data.shape"
   ]
  },
  {
   "cell_type": "code",
   "execution_count": 6,
   "metadata": {
    "colab": {},
    "colab_type": "code",
    "id": "nWQmBK8sGFZT"
   },
   "outputs": [],
   "source": [
    "def convert_time24(nom,col):\n",
    "  tab = []\n",
    "  for i in col:\n",
    "    s = i.split()\n",
    "    terminaison = s[1]\n",
    "    if terminaison == \"PM\":\n",
    "      time = s[0].split(\":\")\n",
    "      time = (int(time[0]) + 12) * 3600 + int(time[1]) * 60 + int(time[2])\n",
    "      tab.append(time)\n",
    "    else:\n",
    "      time = s[0].split(\":\")\n",
    "      time = (int(time[0]) + 12) * 3600 + int(time[1]) * 60 + int(time[2])\n",
    "      tab.append(time)\n",
    "  data[nom] = tab\n",
    "  return True"
   ]
  },
  {
   "cell_type": "code",
   "execution_count": 7,
   "metadata": {
    "colab": {
     "base_uri": "https://localhost:8080/",
     "height": 35
    },
    "colab_type": "code",
    "executionInfo": {
     "elapsed": 802,
     "status": "ok",
     "timestamp": 1572569853438,
     "user": {
      "displayName": "Armel Drey",
      "photoUrl": "",
      "userId": "16665257867221137373"
     },
     "user_tz": 0
    },
    "id": "pMal2OJLHqFX",
    "outputId": "89ccf39b-80c3-473d-8d19-ba2ab8c8ba2a"
   },
   "outputs": [
    {
     "data": {
      "text/plain": [
       "True"
      ]
     },
     "execution_count": 7,
     "metadata": {},
     "output_type": "execute_result"
    }
   ],
   "source": [
    "convert_time24(\"Placement - Time\",data[\"Placement - Time\"])\n",
    "convert_time24(\"Confirmation - Time\",data[\"Confirmation - Time\"])\n",
    "convert_time24(\"Arrival at Pickup - Time\",data[\"Arrival at Pickup - Time\"])\n",
    "convert_time24(\"Pickup - Time\",data[\"Pickup - Time\"])\n",
    "convert_time24(\"Arrival at Destination - Time\",data[\"Arrival at Destination - Time\"])"
   ]
  },
  {
   "cell_type": "code",
   "execution_count": 8,
   "metadata": {
    "colab": {
     "base_uri": "https://localhost:8080/",
     "height": 521
    },
    "colab_type": "code",
    "executionInfo": {
     "elapsed": 964,
     "status": "ok",
     "timestamp": 1572564273018,
     "user": {
      "displayName": "Armel Drey",
      "photoUrl": "",
      "userId": "16665257867221137373"
     },
     "user_tz": 0
    },
    "id": "ogBm2XaaIkCl",
    "outputId": "6afe02b5-b4d7-4f41-c84f-aff40fbd268f"
   },
   "outputs": [
    {
     "data": {
      "text/plain": [
       "Order No                                      object\n",
       "User Id                                       object\n",
       "Platform Type                                  int64\n",
       "Personal or Business                          object\n",
       "Placement - Day of Month                       int64\n",
       "Placement - Weekday (Mo = 1)                   int64\n",
       "Placement - Time                               int64\n",
       "Confirmation - Day of Month                    int64\n",
       "Confirmation - Weekday (Mo = 1)                int64\n",
       "Confirmation - Time                            int64\n",
       "Arrival at Pickup - Day of Month               int64\n",
       "Arrival at Pickup - Weekday (Mo = 1)           int64\n",
       "Arrival at Pickup - Time                       int64\n",
       "Pickup - Day of Month                          int64\n",
       "Pickup - Weekday (Mo = 1)                      int64\n",
       "Pickup - Time                                  int64\n",
       "Arrival at Destination - Day of Month          int64\n",
       "Arrival at Destination - Weekday (Mo = 1)      int64\n",
       "Arrival at Destination - Time                  int64\n",
       "Distance (KM)                                  int64\n",
       "Temperature                                  float64\n",
       "Pickup Lat                                   float64\n",
       "Pickup Long                                  float64\n",
       "Destination Lat                              float64\n",
       "Destination Long                             float64\n",
       "Rider Id                                      object\n",
       "Time from Pickup to Arrival                    int64\n",
       "dtype: object"
      ]
     },
     "execution_count": 8,
     "metadata": {},
     "output_type": "execute_result"
    }
   ],
   "source": [
    "data.dtypes"
   ]
  },
  {
   "cell_type": "code",
   "execution_count": 9,
   "metadata": {
    "colab": {
     "base_uri": "https://localhost:8080/",
     "height": 368
    },
    "colab_type": "code",
    "executionInfo": {
     "elapsed": 988,
     "status": "ok",
     "timestamp": 1572564668071,
     "user": {
      "displayName": "Armel Drey",
      "photoUrl": "",
      "userId": "16665257867221137373"
     },
     "user_tz": 0
    },
    "id": "aZp9lnLRKIBT",
    "outputId": "c932cbae-a502-489c-d390-d66940a265e5"
   },
   "outputs": [
    {
     "data": {
      "text/html": [
       "<div>\n",
       "<style scoped>\n",
       "    .dataframe tbody tr th:only-of-type {\n",
       "        vertical-align: middle;\n",
       "    }\n",
       "\n",
       "    .dataframe tbody tr th {\n",
       "        vertical-align: top;\n",
       "    }\n",
       "\n",
       "    .dataframe thead th {\n",
       "        text-align: right;\n",
       "    }\n",
       "</style>\n",
       "<table border=\"1\" class=\"dataframe\">\n",
       "  <thead>\n",
       "    <tr style=\"text-align: right;\">\n",
       "      <th></th>\n",
       "      <th>Platform Type</th>\n",
       "      <th>Placement - Day of Month</th>\n",
       "      <th>Placement - Weekday (Mo = 1)</th>\n",
       "      <th>Placement - Time</th>\n",
       "      <th>Confirmation - Day of Month</th>\n",
       "      <th>Confirmation - Weekday (Mo = 1)</th>\n",
       "      <th>Confirmation - Time</th>\n",
       "      <th>Arrival at Pickup - Day of Month</th>\n",
       "      <th>Arrival at Pickup - Weekday (Mo = 1)</th>\n",
       "      <th>Arrival at Pickup - Time</th>\n",
       "      <th>...</th>\n",
       "      <th>Arrival at Destination - Day of Month</th>\n",
       "      <th>Arrival at Destination - Weekday (Mo = 1)</th>\n",
       "      <th>Arrival at Destination - Time</th>\n",
       "      <th>Distance (KM)</th>\n",
       "      <th>Temperature</th>\n",
       "      <th>Pickup Lat</th>\n",
       "      <th>Pickup Long</th>\n",
       "      <th>Destination Lat</th>\n",
       "      <th>Destination Long</th>\n",
       "      <th>Time from Pickup to Arrival</th>\n",
       "    </tr>\n",
       "  </thead>\n",
       "  <tbody>\n",
       "    <tr>\n",
       "      <th>count</th>\n",
       "      <td>21201.000000</td>\n",
       "      <td>21201.000000</td>\n",
       "      <td>21201.000000</td>\n",
       "      <td>21201.000000</td>\n",
       "      <td>21201.000000</td>\n",
       "      <td>21201.000000</td>\n",
       "      <td>21201.000000</td>\n",
       "      <td>21201.000000</td>\n",
       "      <td>21201.000000</td>\n",
       "      <td>21201.000000</td>\n",
       "      <td>...</td>\n",
       "      <td>21201.000000</td>\n",
       "      <td>21201.000000</td>\n",
       "      <td>21201.000000</td>\n",
       "      <td>21201.000000</td>\n",
       "      <td>21201.000000</td>\n",
       "      <td>21201.000000</td>\n",
       "      <td>21201.000000</td>\n",
       "      <td>21201.000000</td>\n",
       "      <td>21201.000000</td>\n",
       "      <td>21201.000000</td>\n",
       "    </tr>\n",
       "    <tr>\n",
       "      <th>mean</th>\n",
       "      <td>2.752182</td>\n",
       "      <td>15.653696</td>\n",
       "      <td>3.240083</td>\n",
       "      <td>69275.234800</td>\n",
       "      <td>15.653837</td>\n",
       "      <td>3.240225</td>\n",
       "      <td>69023.818971</td>\n",
       "      <td>15.653837</td>\n",
       "      <td>3.240225</td>\n",
       "      <td>68628.697561</td>\n",
       "      <td>...</td>\n",
       "      <td>15.653837</td>\n",
       "      <td>3.240225</td>\n",
       "      <td>67335.408424</td>\n",
       "      <td>9.506533</td>\n",
       "      <td>23.258889</td>\n",
       "      <td>-1.281470</td>\n",
       "      <td>36.811264</td>\n",
       "      <td>-1.282581</td>\n",
       "      <td>36.811220</td>\n",
       "      <td>1556.920947</td>\n",
       "    </tr>\n",
       "    <tr>\n",
       "      <th>std</th>\n",
       "      <td>0.625178</td>\n",
       "      <td>8.798916</td>\n",
       "      <td>1.567295</td>\n",
       "      <td>14710.524863</td>\n",
       "      <td>8.798886</td>\n",
       "      <td>1.567228</td>\n",
       "      <td>14703.064869</td>\n",
       "      <td>8.798886</td>\n",
       "      <td>1.567228</td>\n",
       "      <td>14725.837143</td>\n",
       "      <td>...</td>\n",
       "      <td>8.798886</td>\n",
       "      <td>1.567228</td>\n",
       "      <td>14596.742398</td>\n",
       "      <td>5.668963</td>\n",
       "      <td>3.222006</td>\n",
       "      <td>0.030507</td>\n",
       "      <td>0.037473</td>\n",
       "      <td>0.034824</td>\n",
       "      <td>0.044721</td>\n",
       "      <td>987.270788</td>\n",
       "    </tr>\n",
       "    <tr>\n",
       "      <th>min</th>\n",
       "      <td>1.000000</td>\n",
       "      <td>1.000000</td>\n",
       "      <td>1.000000</td>\n",
       "      <td>46801.000000</td>\n",
       "      <td>1.000000</td>\n",
       "      <td>1.000000</td>\n",
       "      <td>46800.000000</td>\n",
       "      <td>1.000000</td>\n",
       "      <td>1.000000</td>\n",
       "      <td>46803.000000</td>\n",
       "      <td>...</td>\n",
       "      <td>1.000000</td>\n",
       "      <td>1.000000</td>\n",
       "      <td>46800.000000</td>\n",
       "      <td>1.000000</td>\n",
       "      <td>11.200000</td>\n",
       "      <td>-1.438302</td>\n",
       "      <td>36.653621</td>\n",
       "      <td>-1.430298</td>\n",
       "      <td>36.606594</td>\n",
       "      <td>1.000000</td>\n",
       "    </tr>\n",
       "    <tr>\n",
       "      <th>25%</th>\n",
       "      <td>3.000000</td>\n",
       "      <td>8.000000</td>\n",
       "      <td>2.000000</td>\n",
       "      <td>54367.000000</td>\n",
       "      <td>8.000000</td>\n",
       "      <td>2.000000</td>\n",
       "      <td>54427.000000</td>\n",
       "      <td>8.000000</td>\n",
       "      <td>2.000000</td>\n",
       "      <td>54427.000000</td>\n",
       "      <td>...</td>\n",
       "      <td>8.000000</td>\n",
       "      <td>2.000000</td>\n",
       "      <td>54351.000000</td>\n",
       "      <td>5.000000</td>\n",
       "      <td>21.400000</td>\n",
       "      <td>-1.300921</td>\n",
       "      <td>36.784605</td>\n",
       "      <td>-1.301201</td>\n",
       "      <td>36.785661</td>\n",
       "      <td>882.000000</td>\n",
       "    </tr>\n",
       "    <tr>\n",
       "      <th>50%</th>\n",
       "      <td>3.000000</td>\n",
       "      <td>15.000000</td>\n",
       "      <td>3.000000</td>\n",
       "      <td>74742.000000</td>\n",
       "      <td>15.000000</td>\n",
       "      <td>3.000000</td>\n",
       "      <td>74039.000000</td>\n",
       "      <td>15.000000</td>\n",
       "      <td>3.000000</td>\n",
       "      <td>68536.000000</td>\n",
       "      <td>...</td>\n",
       "      <td>15.000000</td>\n",
       "      <td>3.000000</td>\n",
       "      <td>61995.000000</td>\n",
       "      <td>8.000000</td>\n",
       "      <td>23.258889</td>\n",
       "      <td>-1.279395</td>\n",
       "      <td>36.807040</td>\n",
       "      <td>-1.284382</td>\n",
       "      <td>36.808002</td>\n",
       "      <td>1369.000000</td>\n",
       "    </tr>\n",
       "    <tr>\n",
       "      <th>75%</th>\n",
       "      <td>3.000000</td>\n",
       "      <td>23.000000</td>\n",
       "      <td>5.000000</td>\n",
       "      <td>82968.000000</td>\n",
       "      <td>23.000000</td>\n",
       "      <td>5.000000</td>\n",
       "      <td>82918.000000</td>\n",
       "      <td>23.000000</td>\n",
       "      <td>5.000000</td>\n",
       "      <td>82890.000000</td>\n",
       "      <td>...</td>\n",
       "      <td>23.000000</td>\n",
       "      <td>5.000000</td>\n",
       "      <td>82691.000000</td>\n",
       "      <td>13.000000</td>\n",
       "      <td>25.300000</td>\n",
       "      <td>-1.257147</td>\n",
       "      <td>36.829741</td>\n",
       "      <td>-1.261177</td>\n",
       "      <td>36.829477</td>\n",
       "      <td>2040.000000</td>\n",
       "    </tr>\n",
       "    <tr>\n",
       "      <th>max</th>\n",
       "      <td>4.000000</td>\n",
       "      <td>31.000000</td>\n",
       "      <td>7.000000</td>\n",
       "      <td>89999.000000</td>\n",
       "      <td>31.000000</td>\n",
       "      <td>7.000000</td>\n",
       "      <td>89998.000000</td>\n",
       "      <td>31.000000</td>\n",
       "      <td>7.000000</td>\n",
       "      <td>89998.000000</td>\n",
       "      <td>...</td>\n",
       "      <td>31.000000</td>\n",
       "      <td>7.000000</td>\n",
       "      <td>89999.000000</td>\n",
       "      <td>49.000000</td>\n",
       "      <td>32.100000</td>\n",
       "      <td>-1.147170</td>\n",
       "      <td>36.991046</td>\n",
       "      <td>-1.030225</td>\n",
       "      <td>37.016779</td>\n",
       "      <td>7883.000000</td>\n",
       "    </tr>\n",
       "  </tbody>\n",
       "</table>\n",
       "<p>8 rows × 23 columns</p>\n",
       "</div>"
      ],
      "text/plain": [
       "       Platform Type  Placement - Day of Month  Placement - Weekday (Mo = 1)  \\\n",
       "count   21201.000000              21201.000000                  21201.000000   \n",
       "mean        2.752182                 15.653696                      3.240083   \n",
       "std         0.625178                  8.798916                      1.567295   \n",
       "min         1.000000                  1.000000                      1.000000   \n",
       "25%         3.000000                  8.000000                      2.000000   \n",
       "50%         3.000000                 15.000000                      3.000000   \n",
       "75%         3.000000                 23.000000                      5.000000   \n",
       "max         4.000000                 31.000000                      7.000000   \n",
       "\n",
       "       Placement - Time  Confirmation - Day of Month  \\\n",
       "count      21201.000000                 21201.000000   \n",
       "mean       69275.234800                    15.653837   \n",
       "std        14710.524863                     8.798886   \n",
       "min        46801.000000                     1.000000   \n",
       "25%        54367.000000                     8.000000   \n",
       "50%        74742.000000                    15.000000   \n",
       "75%        82968.000000                    23.000000   \n",
       "max        89999.000000                    31.000000   \n",
       "\n",
       "       Confirmation - Weekday (Mo = 1)  Confirmation - Time  \\\n",
       "count                     21201.000000         21201.000000   \n",
       "mean                          3.240225         69023.818971   \n",
       "std                           1.567228         14703.064869   \n",
       "min                           1.000000         46800.000000   \n",
       "25%                           2.000000         54427.000000   \n",
       "50%                           3.000000         74039.000000   \n",
       "75%                           5.000000         82918.000000   \n",
       "max                           7.000000         89998.000000   \n",
       "\n",
       "       Arrival at Pickup - Day of Month  Arrival at Pickup - Weekday (Mo = 1)  \\\n",
       "count                      21201.000000                          21201.000000   \n",
       "mean                          15.653837                              3.240225   \n",
       "std                            8.798886                              1.567228   \n",
       "min                            1.000000                              1.000000   \n",
       "25%                            8.000000                              2.000000   \n",
       "50%                           15.000000                              3.000000   \n",
       "75%                           23.000000                              5.000000   \n",
       "max                           31.000000                              7.000000   \n",
       "\n",
       "       Arrival at Pickup - Time  ...  Arrival at Destination - Day of Month  \\\n",
       "count              21201.000000  ...                           21201.000000   \n",
       "mean               68628.697561  ...                              15.653837   \n",
       "std                14725.837143  ...                               8.798886   \n",
       "min                46803.000000  ...                               1.000000   \n",
       "25%                54427.000000  ...                               8.000000   \n",
       "50%                68536.000000  ...                              15.000000   \n",
       "75%                82890.000000  ...                              23.000000   \n",
       "max                89998.000000  ...                              31.000000   \n",
       "\n",
       "       Arrival at Destination - Weekday (Mo = 1)  \\\n",
       "count                               21201.000000   \n",
       "mean                                    3.240225   \n",
       "std                                     1.567228   \n",
       "min                                     1.000000   \n",
       "25%                                     2.000000   \n",
       "50%                                     3.000000   \n",
       "75%                                     5.000000   \n",
       "max                                     7.000000   \n",
       "\n",
       "       Arrival at Destination - Time  Distance (KM)   Temperature  \\\n",
       "count                   21201.000000   21201.000000  21201.000000   \n",
       "mean                    67335.408424       9.506533     23.258889   \n",
       "std                     14596.742398       5.668963      3.222006   \n",
       "min                     46800.000000       1.000000     11.200000   \n",
       "25%                     54351.000000       5.000000     21.400000   \n",
       "50%                     61995.000000       8.000000     23.258889   \n",
       "75%                     82691.000000      13.000000     25.300000   \n",
       "max                     89999.000000      49.000000     32.100000   \n",
       "\n",
       "         Pickup Lat   Pickup Long  Destination Lat  Destination Long  \\\n",
       "count  21201.000000  21201.000000     21201.000000      21201.000000   \n",
       "mean      -1.281470     36.811264        -1.282581         36.811220   \n",
       "std        0.030507      0.037473         0.034824          0.044721   \n",
       "min       -1.438302     36.653621        -1.430298         36.606594   \n",
       "25%       -1.300921     36.784605        -1.301201         36.785661   \n",
       "50%       -1.279395     36.807040        -1.284382         36.808002   \n",
       "75%       -1.257147     36.829741        -1.261177         36.829477   \n",
       "max       -1.147170     36.991046        -1.030225         37.016779   \n",
       "\n",
       "       Time from Pickup to Arrival  \n",
       "count                 21201.000000  \n",
       "mean                   1556.920947  \n",
       "std                     987.270788  \n",
       "min                       1.000000  \n",
       "25%                     882.000000  \n",
       "50%                    1369.000000  \n",
       "75%                    2040.000000  \n",
       "max                    7883.000000  \n",
       "\n",
       "[8 rows x 23 columns]"
      ]
     },
     "execution_count": 9,
     "metadata": {},
     "output_type": "execute_result"
    }
   ],
   "source": [
    "data.describe()"
   ]
  },
  {
   "cell_type": "code",
   "execution_count": 10,
   "metadata": {
    "colab": {},
    "colab_type": "code",
    "id": "2NzGZqdZxA7h"
   },
   "outputs": [],
   "source": [
    "def histo(param,tit):\n",
    "  plt.grid()\n",
    "  plt.hist(param)\n",
    "  plt.title(\"Hist of \" + tit)"
   ]
  },
  {
   "cell_type": "code",
   "execution_count": 11,
   "metadata": {
    "colab": {},
    "colab_type": "code",
    "id": "zHufJ-3BxA5V"
   },
   "outputs": [
    {
     "name": "stderr",
     "output_type": "stream",
     "text": [
      "/snap/jupyter/6/lib/python3.7/site-packages/ipykernel_launcher.py:6: MatplotlibDeprecationWarning: Adding an axes using the same arguments as a previous axes currently reuses the earlier instance.  In a future version, a new instance will always be created and returned.  Meanwhile, this warning can be suppressed, and the future behavior ensured, by passing a unique label to each axes instance.\n",
      "  \n",
      "/snap/jupyter/6/lib/python3.7/site-packages/ipykernel_launcher.py:8: MatplotlibDeprecationWarning: Adding an axes using the same arguments as a previous axes currently reuses the earlier instance.  In a future version, a new instance will always be created and returned.  Meanwhile, this warning can be suppressed, and the future behavior ensured, by passing a unique label to each axes instance.\n",
      "  \n",
      "/snap/jupyter/6/lib/python3.7/site-packages/ipykernel_launcher.py:11: MatplotlibDeprecationWarning: Adding an axes using the same arguments as a previous axes currently reuses the earlier instance.  In a future version, a new instance will always be created and returned.  Meanwhile, this warning can be suppressed, and the future behavior ensured, by passing a unique label to each axes instance.\n",
      "  # This is added back by InteractiveShellApp.init_path()\n",
      "/snap/jupyter/6/lib/python3.7/site-packages/ipykernel_launcher.py:13: MatplotlibDeprecationWarning: Adding an axes using the same arguments as a previous axes currently reuses the earlier instance.  In a future version, a new instance will always be created and returned.  Meanwhile, this warning can be suppressed, and the future behavior ensured, by passing a unique label to each axes instance.\n",
      "  del sys.path[0]\n",
      "/snap/jupyter/6/lib/python3.7/site-packages/ipykernel_launcher.py:37: MatplotlibDeprecationWarning: Adding an axes using the same arguments as a previous axes currently reuses the earlier instance.  In a future version, a new instance will always be created and returned.  Meanwhile, this warning can be suppressed, and the future behavior ensured, by passing a unique label to each axes instance.\n",
      "/snap/jupyter/6/lib/python3.7/site-packages/ipykernel_launcher.py:42: MatplotlibDeprecationWarning: Adding an axes using the same arguments as a previous axes currently reuses the earlier instance.  In a future version, a new instance will always be created and returned.  Meanwhile, this warning can be suppressed, and the future behavior ensured, by passing a unique label to each axes instance.\n",
      "/snap/jupyter/6/lib/python3.7/site-packages/ipykernel_launcher.py:47: MatplotlibDeprecationWarning: Adding an axes using the same arguments as a previous axes currently reuses the earlier instance.  In a future version, a new instance will always be created and returned.  Meanwhile, this warning can be suppressed, and the future behavior ensured, by passing a unique label to each axes instance.\n"
     ]
    },
    {
     "data": {
      "text/plain": [
       "Text(0.5, 1.0, 'Hist of Arrival at Pickup')"
      ]
     },
     "execution_count": 11,
     "metadata": {},
     "output_type": "execute_result"
    },
    {
     "data": {
      "image/png": "[encoded data removed]",
      "text/plain": [
       "<Figure size 432x288 with 3 Axes>"
      ]
     },
     "metadata": {
      "needs_background": "light"
     },
     "output_type": "display_data"
    }
   ],
   "source": [
    "plt.subplot(1,2,1)\n",
    "histo(data[\"Temperature\"],\"Temperature\")\n",
    "plt.subplot(1,2,2)\n",
    "histo(data[\"Distance (KM)\"],\"Distance (KM)\")\n",
    "\n",
    "plt.subplot(1,2,1)\n",
    "histo(data[\"Destination Long\"],\"Destination Long\")\n",
    "plt.subplot(1,2,2)\n",
    "histo(data[\"Destination Lat\"],\"Destination Lat\")\n",
    "\n",
    "plt.subplot(1,2,1)\n",
    "histo(data[\"Pickup Long\"],\"Pickup Long\")\n",
    "plt.subplot(1,2,2)\n",
    "histo(data[\"Pickup Lat\"],\"Pickup Lat\")\n",
    "\n",
    "histo(data[\"Time from Pickup to Arrival\"],\"Time from Pickup to Arrival\")\n",
    "\n",
    "histo(data[\"Placement - Time\"],\"Placement - Time\")\n",
    "histo(data[\"Confirmation - Time\"],\"Confirmation - Time\")\n",
    "histo(data[\"Arrival at Pickup - Time\"],\"Arrival at Pickup - Time\")\n",
    "\n",
    "plt.subplot(1,3,1)\n",
    "conf = data.groupby('Confirmation - Weekday (Mo = 1)')['Confirmation - Weekday (Mo = 1)'].count()\n",
    "plt.bar(conf.index,conf.values)\n",
    "plt.title(\"Hist of Confirmation\")\n",
    "\n",
    "plt.subplot(1,3,2)\n",
    "conf = data.groupby('Placement - Weekday (Mo = 1)')['Placement - Weekday (Mo = 1)'].count()\n",
    "plt.bar(conf.index,conf.values)\n",
    "plt.title(\"Hist of Placement\")\n",
    "\n",
    "plt.subplot(1,3,3)\n",
    "conf = data.groupby('Arrival at Pickup - Weekday (Mo = 1)')['Arrival at Pickup - Weekday (Mo = 1)'].count()\n",
    "plt.bar(conf.index,conf.values)\n",
    "plt.title(\"Hist of Arrival at Pickup\")\n",
    "\n",
    "plt.subplot(1,3,1)\n",
    "conf1 = data.groupby('Confirmation - Day of Month')['Confirmation - Day of Month'].count()\n",
    "plt.bar(conf1.index,conf1.values)\n",
    "plt.title(\"Hist of Confirmation\")\n",
    "\n",
    "plt.subplot(1,3,2)\n",
    "conf1 = data.groupby('Placement - Day of Month')['Placement - Day of Month'].count()\n",
    "plt.bar(conf1.index,conf1.values)\n",
    "plt.title(\"Hist of Placement\")\n",
    "\n",
    "plt.subplot(1,3,3)\n",
    "conf1 = data.groupby('Arrival at Pickup - Day of Month')['Arrival at Pickup - Day of Month'].count()\n",
    "plt.bar(conf1.index,conf1.values)\n",
    "plt.title(\"Hist of Arrival at Pickup\")"
   ]
  },
  {
   "cell_type": "code",
   "execution_count": 12,
   "metadata": {
    "colab": {
     "base_uri": "https://localhost:8080/",
     "height": 761
    },
    "colab_type": "code",
    "executionInfo": {
     "elapsed": 1048,
     "status": "ok",
     "timestamp": 1572564359004,
     "user": {
      "displayName": "Armel Drey",
      "photoUrl": "",
      "userId": "16665257867221137373"
     },
     "user_tz": 0
    },
    "id": "ZrBN6UnyxA3K",
    "outputId": "de09bcbb-08bc-4322-8f68-c17b31f776f0"
   },
   "outputs": [
    {
     "data": {
      "text/html": [
       "<div>\n",
       "<style scoped>\n",
       "    .dataframe tbody tr th:only-of-type {\n",
       "        vertical-align: middle;\n",
       "    }\n",
       "\n",
       "    .dataframe tbody tr th {\n",
       "        vertical-align: top;\n",
       "    }\n",
       "\n",
       "    .dataframe thead th {\n",
       "        text-align: right;\n",
       "    }\n",
       "</style>\n",
       "<table border=\"1\" class=\"dataframe\">\n",
       "  <thead>\n",
       "    <tr style=\"text-align: right;\">\n",
       "      <th></th>\n",
       "      <th>Platform Type</th>\n",
       "      <th>Distance (KM)</th>\n",
       "      <th>Temperature</th>\n",
       "      <th>Pickup Lat</th>\n",
       "      <th>Pickup Long</th>\n",
       "      <th>Destination Lat</th>\n",
       "      <th>Destination Long</th>\n",
       "      <th>Placement - Time</th>\n",
       "      <th>Confirmation - Time</th>\n",
       "      <th>Arrival at Pickup - Time</th>\n",
       "      <th>Pickup - Time</th>\n",
       "      <th>Arrival at Destination - Time</th>\n",
       "      <th>Time from Pickup to Arrival</th>\n",
       "    </tr>\n",
       "  </thead>\n",
       "  <tbody>\n",
       "    <tr>\n",
       "      <th>Platform Type</th>\n",
       "      <td>1.000000</td>\n",
       "      <td>0.005528</td>\n",
       "      <td>0.211494</td>\n",
       "      <td>-0.002742</td>\n",
       "      <td>0.021327</td>\n",
       "      <td>0.006319</td>\n",
       "      <td>0.043924</td>\n",
       "      <td>-0.003403</td>\n",
       "      <td>-0.006287</td>\n",
       "      <td>-0.008741</td>\n",
       "      <td>-0.015789</td>\n",
       "      <td>-0.023077</td>\n",
       "      <td>-0.003827</td>\n",
       "    </tr>\n",
       "    <tr>\n",
       "      <th>Distance (KM)</th>\n",
       "      <td>0.005528</td>\n",
       "      <td>1.000000</td>\n",
       "      <td>-0.002090</td>\n",
       "      <td>-0.124338</td>\n",
       "      <td>0.178537</td>\n",
       "      <td>-0.079366</td>\n",
       "      <td>0.135397</td>\n",
       "      <td>0.026674</td>\n",
       "      <td>0.023085</td>\n",
       "      <td>0.021874</td>\n",
       "      <td>0.018861</td>\n",
       "      <td>-0.009344</td>\n",
       "      <td>0.580608</td>\n",
       "    </tr>\n",
       "    <tr>\n",
       "      <th>Temperature</th>\n",
       "      <td>0.211494</td>\n",
       "      <td>-0.002090</td>\n",
       "      <td>1.000000</td>\n",
       "      <td>0.015950</td>\n",
       "      <td>0.007824</td>\n",
       "      <td>0.009236</td>\n",
       "      <td>0.023421</td>\n",
       "      <td>-0.270470</td>\n",
       "      <td>-0.281677</td>\n",
       "      <td>-0.289268</td>\n",
       "      <td>-0.291132</td>\n",
       "      <td>-0.296367</td>\n",
       "      <td>0.005772</td>\n",
       "    </tr>\n",
       "    <tr>\n",
       "      <th>Pickup Lat</th>\n",
       "      <td>-0.002742</td>\n",
       "      <td>-0.124338</td>\n",
       "      <td>0.015950</td>\n",
       "      <td>1.000000</td>\n",
       "      <td>-0.147629</td>\n",
       "      <td>0.114975</td>\n",
       "      <td>0.051399</td>\n",
       "      <td>-0.022462</td>\n",
       "      <td>-0.023947</td>\n",
       "      <td>-0.025570</td>\n",
       "      <td>-0.024090</td>\n",
       "      <td>-0.021798</td>\n",
       "      <td>-0.053823</td>\n",
       "    </tr>\n",
       "    <tr>\n",
       "      <th>Pickup Long</th>\n",
       "      <td>0.021327</td>\n",
       "      <td>0.178537</td>\n",
       "      <td>0.007824</td>\n",
       "      <td>-0.147629</td>\n",
       "      <td>1.000000</td>\n",
       "      <td>0.014992</td>\n",
       "      <td>0.082803</td>\n",
       "      <td>0.009371</td>\n",
       "      <td>0.003770</td>\n",
       "      <td>0.001545</td>\n",
       "      <td>-0.003455</td>\n",
       "      <td>-0.008282</td>\n",
       "      <td>0.060285</td>\n",
       "    </tr>\n",
       "    <tr>\n",
       "      <th>Destination Lat</th>\n",
       "      <td>0.006319</td>\n",
       "      <td>-0.079366</td>\n",
       "      <td>0.009236</td>\n",
       "      <td>0.114975</td>\n",
       "      <td>0.014992</td>\n",
       "      <td>1.000000</td>\n",
       "      <td>0.046767</td>\n",
       "      <td>-0.000022</td>\n",
       "      <td>-0.004107</td>\n",
       "      <td>-0.009230</td>\n",
       "      <td>-0.012777</td>\n",
       "      <td>-0.007566</td>\n",
       "      <td>-0.061872</td>\n",
       "    </tr>\n",
       "    <tr>\n",
       "      <th>Destination Long</th>\n",
       "      <td>0.043924</td>\n",
       "      <td>0.135397</td>\n",
       "      <td>0.023421</td>\n",
       "      <td>0.051399</td>\n",
       "      <td>0.082803</td>\n",
       "      <td>0.046767</td>\n",
       "      <td>1.000000</td>\n",
       "      <td>0.003820</td>\n",
       "      <td>0.003877</td>\n",
       "      <td>-0.000725</td>\n",
       "      <td>-0.001366</td>\n",
       "      <td>-0.015781</td>\n",
       "      <td>0.070425</td>\n",
       "    </tr>\n",
       "    <tr>\n",
       "      <th>Placement - Time</th>\n",
       "      <td>-0.003403</td>\n",
       "      <td>0.026674</td>\n",
       "      <td>-0.270470</td>\n",
       "      <td>-0.022462</td>\n",
       "      <td>0.009371</td>\n",
       "      <td>-0.000022</td>\n",
       "      <td>0.003820</td>\n",
       "      <td>1.000000</td>\n",
       "      <td>0.937901</td>\n",
       "      <td>0.830836</td>\n",
       "      <td>0.734769</td>\n",
       "      <td>0.537607</td>\n",
       "      <td>0.001890</td>\n",
       "    </tr>\n",
       "    <tr>\n",
       "      <th>Confirmation - Time</th>\n",
       "      <td>-0.006287</td>\n",
       "      <td>0.023085</td>\n",
       "      <td>-0.281677</td>\n",
       "      <td>-0.023947</td>\n",
       "      <td>0.003770</td>\n",
       "      <td>-0.004107</td>\n",
       "      <td>0.003877</td>\n",
       "      <td>0.937901</td>\n",
       "      <td>1.000000</td>\n",
       "      <td>0.888654</td>\n",
       "      <td>0.789126</td>\n",
       "      <td>0.583695</td>\n",
       "      <td>-0.005739</td>\n",
       "    </tr>\n",
       "    <tr>\n",
       "      <th>Arrival at Pickup - Time</th>\n",
       "      <td>-0.008741</td>\n",
       "      <td>0.021874</td>\n",
       "      <td>-0.289268</td>\n",
       "      <td>-0.025570</td>\n",
       "      <td>0.001545</td>\n",
       "      <td>-0.009230</td>\n",
       "      <td>-0.000725</td>\n",
       "      <td>0.830836</td>\n",
       "      <td>0.888654</td>\n",
       "      <td>1.000000</td>\n",
       "      <td>0.895000</td>\n",
       "      <td>0.676203</td>\n",
       "      <td>-0.010883</td>\n",
       "    </tr>\n",
       "    <tr>\n",
       "      <th>Pickup - Time</th>\n",
       "      <td>-0.015789</td>\n",
       "      <td>0.018861</td>\n",
       "      <td>-0.291132</td>\n",
       "      <td>-0.024090</td>\n",
       "      <td>-0.003455</td>\n",
       "      <td>-0.012777</td>\n",
       "      <td>-0.001366</td>\n",
       "      <td>0.734769</td>\n",
       "      <td>0.789126</td>\n",
       "      <td>0.895000</td>\n",
       "      <td>1.000000</td>\n",
       "      <td>0.769816</td>\n",
       "      <td>-0.007578</td>\n",
       "    </tr>\n",
       "    <tr>\n",
       "      <th>Arrival at Destination - Time</th>\n",
       "      <td>-0.023077</td>\n",
       "      <td>-0.009344</td>\n",
       "      <td>-0.296367</td>\n",
       "      <td>-0.021798</td>\n",
       "      <td>-0.008282</td>\n",
       "      <td>-0.007566</td>\n",
       "      <td>-0.015781</td>\n",
       "      <td>0.537607</td>\n",
       "      <td>0.583695</td>\n",
       "      <td>0.676203</td>\n",
       "      <td>0.769816</td>\n",
       "      <td>1.000000</td>\n",
       "      <td>-0.056246</td>\n",
       "    </tr>\n",
       "    <tr>\n",
       "      <th>Time from Pickup to Arrival</th>\n",
       "      <td>-0.003827</td>\n",
       "      <td>0.580608</td>\n",
       "      <td>0.005772</td>\n",
       "      <td>-0.053823</td>\n",
       "      <td>0.060285</td>\n",
       "      <td>-0.061872</td>\n",
       "      <td>0.070425</td>\n",
       "      <td>0.001890</td>\n",
       "      <td>-0.005739</td>\n",
       "      <td>-0.010883</td>\n",
       "      <td>-0.007578</td>\n",
       "      <td>-0.056246</td>\n",
       "      <td>1.000000</td>\n",
       "    </tr>\n",
       "  </tbody>\n",
       "</table>\n",
       "</div>"
      ],
      "text/plain": [
       "                               Platform Type  Distance (KM)  Temperature  \\\n",
       "Platform Type                       1.000000       0.005528     0.211494   \n",
       "Distance (KM)                       0.005528       1.000000    -0.002090   \n",
       "Temperature                         0.211494      -0.002090     1.000000   \n",
       "Pickup Lat                         -0.002742      -0.124338     0.015950   \n",
       "Pickup Long                         0.021327       0.178537     0.007824   \n",
       "Destination Lat                     0.006319      -0.079366     0.009236   \n",
       "Destination Long                    0.043924       0.135397     0.023421   \n",
       "Placement - Time                   -0.003403       0.026674    -0.270470   \n",
       "Confirmation - Time                -0.006287       0.023085    -0.281677   \n",
       "Arrival at Pickup - Time           -0.008741       0.021874    -0.289268   \n",
       "Pickup - Time                      -0.015789       0.018861    -0.291132   \n",
       "Arrival at Destination - Time      -0.023077      -0.009344    -0.296367   \n",
       "Time from Pickup to Arrival        -0.003827       0.580608     0.005772   \n",
       "\n",
       "                               Pickup Lat  Pickup Long  Destination Lat  \\\n",
       "Platform Type                   -0.002742     0.021327         0.006319   \n",
       "Distance (KM)                   -0.124338     0.178537        -0.079366   \n",
       "Temperature                      0.015950     0.007824         0.009236   \n",
       "Pickup Lat                       1.000000    -0.147629         0.114975   \n",
       "Pickup Long                     -0.147629     1.000000         0.014992   \n",
       "Destination Lat                  0.114975     0.014992         1.000000   \n",
       "Destination Long                 0.051399     0.082803         0.046767   \n",
       "Placement - Time                -0.022462     0.009371        -0.000022   \n",
       "Confirmation - Time             -0.023947     0.003770        -0.004107   \n",
       "Arrival at Pickup - Time        -0.025570     0.001545        -0.009230   \n",
       "Pickup - Time                   -0.024090    -0.003455        -0.012777   \n",
       "Arrival at Destination - Time   -0.021798    -0.008282        -0.007566   \n",
       "Time from Pickup to Arrival     -0.053823     0.060285        -0.061872   \n",
       "\n",
       "                               Destination Long  Placement - Time  \\\n",
       "Platform Type                          0.043924         -0.003403   \n",
       "Distance (KM)                          0.135397          0.026674   \n",
       "Temperature                            0.023421         -0.270470   \n",
       "Pickup Lat                             0.051399         -0.022462   \n",
       "Pickup Long                            0.082803          0.009371   \n",
       "Destination Lat                        0.046767         -0.000022   \n",
       "Destination Long                       1.000000          0.003820   \n",
       "Placement - Time                       0.003820          1.000000   \n",
       "Confirmation - Time                    0.003877          0.937901   \n",
       "Arrival at Pickup - Time              -0.000725          0.830836   \n",
       "Pickup - Time                         -0.001366          0.734769   \n",
       "Arrival at Destination - Time         -0.015781          0.537607   \n",
       "Time from Pickup to Arrival            0.070425          0.001890   \n",
       "\n",
       "                               Confirmation - Time  Arrival at Pickup - Time  \\\n",
       "Platform Type                            -0.006287                 -0.008741   \n",
       "Distance (KM)                             0.023085                  0.021874   \n",
       "Temperature                              -0.281677                 -0.289268   \n",
       "Pickup Lat                               -0.023947                 -0.025570   \n",
       "Pickup Long                               0.003770                  0.001545   \n",
       "Destination Lat                          -0.004107                 -0.009230   \n",
       "Destination Long                          0.003877                 -0.000725   \n",
       "Placement - Time                          0.937901                  0.830836   \n",
       "Confirmation - Time                       1.000000                  0.888654   \n",
       "Arrival at Pickup - Time                  0.888654                  1.000000   \n",
       "Pickup - Time                             0.789126                  0.895000   \n",
       "Arrival at Destination - Time             0.583695                  0.676203   \n",
       "Time from Pickup to Arrival              -0.005739                 -0.010883   \n",
       "\n",
       "                               Pickup - Time  Arrival at Destination - Time  \\\n",
       "Platform Type                      -0.015789                      -0.023077   \n",
       "Distance (KM)                       0.018861                      -0.009344   \n",
       "Temperature                        -0.291132                      -0.296367   \n",
       "Pickup Lat                         -0.024090                      -0.021798   \n",
       "Pickup Long                        -0.003455                      -0.008282   \n",
       "Destination Lat                    -0.012777                      -0.007566   \n",
       "Destination Long                   -0.001366                      -0.015781   \n",
       "Placement - Time                    0.734769                       0.537607   \n",
       "Confirmation - Time                 0.789126                       0.583695   \n",
       "Arrival at Pickup - Time            0.895000                       0.676203   \n",
       "Pickup - Time                       1.000000                       0.769816   \n",
       "Arrival at Destination - Time       0.769816                       1.000000   \n",
       "Time from Pickup to Arrival        -0.007578                      -0.056246   \n",
       "\n",
       "                               Time from Pickup to Arrival  \n",
       "Platform Type                                    -0.003827  \n",
       "Distance (KM)                                     0.580608  \n",
       "Temperature                                       0.005772  \n",
       "Pickup Lat                                       -0.053823  \n",
       "Pickup Long                                       0.060285  \n",
       "Destination Lat                                  -0.061872  \n",
       "Destination Long                                  0.070425  \n",
       "Placement - Time                                  0.001890  \n",
       "Confirmation - Time                              -0.005739  \n",
       "Arrival at Pickup - Time                         -0.010883  \n",
       "Pickup - Time                                    -0.007578  \n",
       "Arrival at Destination - Time                    -0.056246  \n",
       "Time from Pickup to Arrival                       1.000000  "
      ]
     },
     "execution_count": 12,
     "metadata": {},
     "output_type": "execute_result"
    }
   ],
   "source": [
    "\"\"\"**stat desc bivariée**\"\"\"\n",
    "\n",
    "# data[\"Distance (KM)\"].corr(data[\"Time from Pickup to Arrival\"])\n",
    "# data[[\"Distance (KM)\",\"Time from Pickup to Arrival\"]].rcorr(stars=False)\n",
    "# pg.corr(x=data[\"Distance (KM)\"], y=data[\"Time from Pickup to Arrival\"])\n",
    "\n",
    "data[[\"Platform Type\",\"Distance (KM)\",\"Temperature\",\"Pickup Lat\",\"Pickup Long\",\"Destination Lat\",\"Destination Long\",\"Placement - Time\",\"Confirmation - Time\",\"Arrival at Pickup - Time\",\"Pickup - Time\",\"Arrival at Destination - Time\",\"Time from Pickup to Arrival\"]].corr()"
   ]
  },
  {
   "cell_type": "code",
   "execution_count": null,
   "metadata": {
    "colab": {},
    "colab_type": "code",
    "id": "MQxx6n69JzR0"
   },
   "outputs": [],
   "source": []
  },
  {
   "cell_type": "code",
   "execution_count": 14,
   "metadata": {
    "colab": {},
    "colab_type": "code",
    "id": "uKiorvzzxA0_"
   },
   "outputs": [],
   "source": [
    "def npt(x,y,lx=\"\",ly=\"Time from Pickup to Arrival\",tit=\"\"):\n",
    "  plt.scatter(x,y)\n",
    "  plt.xlabel(lx)\n",
    "  plt.ylabel(ly)\n",
    "  plt.title(\"Scatter of \" + tit + \" - Time from Pickup to Arrival\")"
   ]
  },
  {
   "cell_type": "code",
   "execution_count": 15,
   "metadata": {
    "colab": {},
    "colab_type": "code",
    "id": "jzpNgIARxAy6"
   },
   "outputs": [
    {
     "data": {
      "image/png": "[encoded data removed]",
      "text/plain": [
       "<Figure size 432x288 with 1 Axes>"
      ]
     },
     "metadata": {
      "needs_background": "light"
     },
     "output_type": "display_data"
    }
   ],
   "source": [
    "npt(data[\"Platform Type\"],data[\"Time from Pickup to Arrival\"],\"Platform Type\",\"\",\"platform type\")\n",
    "\n",
    "npt(data[\"Distance (KM)\"],data[\"Time from Pickup to Arrival\"],\"Distance (KM)\",\"\",\"Distance (KM)\")\n",
    "\n",
    "npt(data[\"Temperature\"],data[\"Time from Pickup to Arrival\"],\"Temperature\",\"\",\"Temperature\")\n",
    "\n",
    "npt(data[\"Destination Long\"],data[\"Time from Pickup to Arrival\"],\"Destination Long\",\"\",\"Destination Long\")\n",
    "\n",
    "npt(data[\"Destination Lat\"],data[\"Time from Pickup to Arrival\"],\"Destination Lat\",\"\",\"Destination Lat\")\n",
    "\n",
    "npt(data[\"Pickup Long\"],data[\"Time from Pickup to Arrival\"],\"Pickup Long\",\"\",\"Pickup Long\")\n",
    "\n",
    "npt(data[\"Pickup Lat\"],data[\"Time from Pickup to Arrival\"],\"Pickup Lat\",\"\",\"Pickup Lat\")"
   ]
  },
  {
   "cell_type": "code",
   "execution_count": 16,
   "metadata": {
    "colab": {
     "base_uri": "https://localhost:8080/",
     "height": 275
    },
    "colab_type": "code",
    "executionInfo": {
     "elapsed": 881,
     "status": "ok",
     "timestamp": 1572565697207,
     "user": {
      "displayName": "Armel Drey",
      "photoUrl": "",
      "userId": "16665257867221137373"
     },
     "user_tz": 0
    },
    "id": "tUuGabNnxAxO",
    "outputId": "222b7eee-4663-4002-cddb-5e94178de24f"
   },
   "outputs": [
    {
     "data": {
      "text/html": [
       "<div>\n",
       "<style scoped>\n",
       "    .dataframe tbody tr th:only-of-type {\n",
       "        vertical-align: middle;\n",
       "    }\n",
       "\n",
       "    .dataframe tbody tr th {\n",
       "        vertical-align: top;\n",
       "    }\n",
       "\n",
       "    .dataframe thead th {\n",
       "        text-align: right;\n",
       "    }\n",
       "</style>\n",
       "<table border=\"1\" class=\"dataframe\">\n",
       "  <thead>\n",
       "    <tr style=\"text-align: right;\">\n",
       "      <th></th>\n",
       "      <th>Platform Type</th>\n",
       "      <th>Distance (KM)</th>\n",
       "      <th>Temperature</th>\n",
       "      <th>Pickup Lat</th>\n",
       "      <th>Pickup Long</th>\n",
       "      <th>Destination Lat</th>\n",
       "      <th>Destination Long</th>\n",
       "      <th>Placement - Time</th>\n",
       "      <th>Confirmation - Time</th>\n",
       "      <th>Arrival at Pickup - Time</th>\n",
       "      <th>Pickup - Time</th>\n",
       "      <th>Arrival at Destination - Time</th>\n",
       "    </tr>\n",
       "  </thead>\n",
       "  <tbody>\n",
       "    <tr>\n",
       "      <th>15568</th>\n",
       "      <td>3</td>\n",
       "      <td>13</td>\n",
       "      <td>18.2</td>\n",
       "      <td>-1.330929</td>\n",
       "      <td>36.835151</td>\n",
       "      <td>-1.257147</td>\n",
       "      <td>36.795063</td>\n",
       "      <td>75913</td>\n",
       "      <td>75939</td>\n",
       "      <td>77032</td>\n",
       "      <td>77739</td>\n",
       "      <td>79535</td>\n",
       "    </tr>\n",
       "    <tr>\n",
       "      <th>11862</th>\n",
       "      <td>1</td>\n",
       "      <td>6</td>\n",
       "      <td>26.6</td>\n",
       "      <td>-1.285397</td>\n",
       "      <td>36.818312</td>\n",
       "      <td>-1.281278</td>\n",
       "      <td>36.781033</td>\n",
       "      <td>49220</td>\n",
       "      <td>49722</td>\n",
       "      <td>50947</td>\n",
       "      <td>51908</td>\n",
       "      <td>52890</td>\n",
       "    </tr>\n",
       "    <tr>\n",
       "      <th>4488</th>\n",
       "      <td>3</td>\n",
       "      <td>12</td>\n",
       "      <td>18.0</td>\n",
       "      <td>-1.247525</td>\n",
       "      <td>36.881344</td>\n",
       "      <td>-1.272932</td>\n",
       "      <td>36.811562</td>\n",
       "      <td>75116</td>\n",
       "      <td>75142</td>\n",
       "      <td>75932</td>\n",
       "      <td>76708</td>\n",
       "      <td>77948</td>\n",
       "    </tr>\n",
       "    <tr>\n",
       "      <th>5144</th>\n",
       "      <td>3</td>\n",
       "      <td>5</td>\n",
       "      <td>24.4</td>\n",
       "      <td>-1.255189</td>\n",
       "      <td>36.782203</td>\n",
       "      <td>-1.271198</td>\n",
       "      <td>36.824020</td>\n",
       "      <td>55882</td>\n",
       "      <td>55899</td>\n",
       "      <td>55922</td>\n",
       "      <td>56112</td>\n",
       "      <td>57258</td>\n",
       "    </tr>\n",
       "    <tr>\n",
       "      <th>20311</th>\n",
       "      <td>2</td>\n",
       "      <td>8</td>\n",
       "      <td>19.9</td>\n",
       "      <td>-1.251921</td>\n",
       "      <td>36.828379</td>\n",
       "      <td>-1.251359</td>\n",
       "      <td>36.794767</td>\n",
       "      <td>79960</td>\n",
       "      <td>79996</td>\n",
       "      <td>80768</td>\n",
       "      <td>81606</td>\n",
       "      <td>82724</td>\n",
       "    </tr>\n",
       "  </tbody>\n",
       "</table>\n",
       "</div>"
      ],
      "text/plain": [
       "       Platform Type  Distance (KM)  Temperature  Pickup Lat  Pickup Long  \\\n",
       "15568              3             13         18.2   -1.330929    36.835151   \n",
       "11862              1              6         26.6   -1.285397    36.818312   \n",
       "4488               3             12         18.0   -1.247525    36.881344   \n",
       "5144               3              5         24.4   -1.255189    36.782203   \n",
       "20311              2              8         19.9   -1.251921    36.828379   \n",
       "\n",
       "       Destination Lat  Destination Long  Placement - Time  \\\n",
       "15568        -1.257147         36.795063             75913   \n",
       "11862        -1.281278         36.781033             49220   \n",
       "4488         -1.272932         36.811562             75116   \n",
       "5144         -1.271198         36.824020             55882   \n",
       "20311        -1.251359         36.794767             79960   \n",
       "\n",
       "       Confirmation - Time  Arrival at Pickup - Time  Pickup - Time  \\\n",
       "15568                75939                     77032          77739   \n",
       "11862                49722                     50947          51908   \n",
       "4488                 75142                     75932          76708   \n",
       "5144                 55899                     55922          56112   \n",
       "20311                79996                     80768          81606   \n",
       "\n",
       "       Arrival at Destination - Time  \n",
       "15568                          79535  \n",
       "11862                          52890  \n",
       "4488                           77948  \n",
       "5144                           57258  \n",
       "20311                          82724  "
      ]
     },
     "execution_count": 16,
     "metadata": {},
     "output_type": "execute_result"
    }
   ],
   "source": [
    "\"\"\"**Decoupage de la dataset**\"\"\"\n",
    "\n",
    "X = data[[\"Platform Type\",\"Distance (KM)\",\"Temperature\",\"Pickup Lat\",\"Pickup Long\",\"Destination Lat\",\"Destination Long\",\"Placement - Time\",\"Confirmation - Time\",\"Arrival at Pickup - Time\",\"Pickup - Time\",\"Arrival at Destination - Time\"]]\n",
    "y = data[\"Time from Pickup to Arrival\"]\n",
    "X_train, X_test, y_train, y_test = train_test_split(X, y, test_size=0.25, random_state=42)\n",
    "\n",
    "X_train.head()"
   ]
  },
  {
   "cell_type": "code",
   "execution_count": 18,
   "metadata": {
    "colab": {},
    "colab_type": "code",
    "id": "tHPGudADxAue"
   },
   "outputs": [],
   "source": [
    "\"\"\"**Regression Lineaire Multiple**\"\"\"\n",
    "\n",
    "def rl(X_train,y_train,X_test,y_test):\n",
    "  regression = LinearRegression()\n",
    "  regression.fit(X_train,y_train)\n",
    "\n",
    "  y_pred = regression.predict(X_test)\n",
    "  score_test = regression.score(X_test, y_test)\n",
    "\n",
    "  rmse = np.sqrt(mean_squared_error(y_test, y_pred))\n",
    "  \n",
    "  return \"score de prediction: \" + str(score_test), \"rmse: \" + str(rmse)"
   ]
  },
  {
   "cell_type": "code",
   "execution_count": 19,
   "metadata": {
    "colab": {
     "base_uri": "https://localhost:8080/",
     "height": 35
    },
    "colab_type": "code",
    "executionInfo": {
     "elapsed": 864,
     "status": "ok",
     "timestamp": 1572575170497,
     "user": {
      "displayName": "Armel Drey",
      "photoUrl": "",
      "userId": "16665257867221137373"
     },
     "user_tz": 0
    },
    "id": "_QA6B9E7xAmY",
    "outputId": "29722069-5638-417c-de8b-31f846354dd5"
   },
   "outputs": [
    {
     "data": {
      "text/plain": [
       "('score de prediction: 0.3349131991759049', 'rmse: 810.1809365103663')"
      ]
     },
     "execution_count": 19,
     "metadata": {},
     "output_type": "execute_result"
    }
   ],
   "source": [
    "#score = regression.score(X_test, y_test)\n",
    "rl(X_train,y_train,X_test,y_test)"
   ]
  },
  {
   "cell_type": "code",
   "execution_count": 20,
   "metadata": {
    "colab": {},
    "colab_type": "code",
    "id": "Iqpw4hAgxAkv"
   },
   "outputs": [
    {
     "data": {
      "text/plain": [
       "(21201, 30)"
      ]
     },
     "execution_count": 20,
     "metadata": {},
     "output_type": "execute_result"
    }
   ],
   "source": [
    "dummy_platform_type = pd.get_dummies(data[\"Platform Type\"])\n",
    "dummy_platform_type.columns = [\"Platform Type1\",\"Platform Type2\",\"Platform Type3\",\"Platform Type4\"]\n",
    "\n",
    "data = pd.concat([data,dummy_platform_type], axis=1)\n",
    "del data[\"Platform Type\"]\n",
    "data.shape"
   ]
  },
  {
   "cell_type": "code",
   "execution_count": 21,
   "metadata": {
    "colab": {
     "base_uri": "https://localhost:8080/",
     "height": 35
    },
    "colab_type": "code",
    "executionInfo": {
     "elapsed": 1425,
     "status": "ok",
     "timestamp": 1572569879074,
     "user": {
      "displayName": "Armel Drey",
      "photoUrl": "",
      "userId": "16665257867221137373"
     },
     "user_tz": 0
    },
    "id": "r-QbKNm4xAhW",
    "outputId": "5dd4d509-1b52-4e65-b582-b02e944807e8"
   },
   "outputs": [
    {
     "data": {
      "text/plain": [
       "('score de prediction: 0.33489716690638627', 'rmse: 810.1907013717655')"
      ]
     },
     "execution_count": 21,
     "metadata": {},
     "output_type": "execute_result"
    }
   ],
   "source": [
    "X = data[[\"Distance (KM)\",\"Temperature\",\"Pickup Lat\",\"Pickup Long\",\"Destination Lat\",\"Destination Long\",\"Platform Type1\",\"Platform Type2\",\"Platform Type3\",\"Platform Type4\",\"Placement - Time\",\"Confirmation - Time\",\"Arrival at Pickup - Time\",\"Pickup - Time\",\"Arrival at Destination - Time\"]]\n",
    "y = data[\"Time from Pickup to Arrival\"]\n",
    "X_train, X_test, y_train, y_test = train_test_split(X, y, test_size=0.25, random_state=42)\n",
    "\n",
    "rl(X_train,y_train,X_test,y_test)"
   ]
  },
  {
   "cell_type": "code",
   "execution_count": 22,
   "metadata": {
    "colab": {
     "base_uri": "https://localhost:8080/",
     "height": 35
    },
    "colab_type": "code",
    "executionInfo": {
     "elapsed": 807,
     "status": "ok",
     "timestamp": 1572569881395,
     "user": {
      "displayName": "Armel Drey",
      "photoUrl": "",
      "userId": "16665257867221137373"
     },
     "user_tz": 0
    },
    "id": "OpUcZylOxAfy",
    "outputId": "8e448f39-90a7-4884-de5f-151697ae3300"
   },
   "outputs": [
    {
     "data": {
      "text/plain": [
       "(21201, 31)"
      ]
     },
     "execution_count": 22,
     "metadata": {},
     "output_type": "execute_result"
    }
   ],
   "source": [
    "dummy_personal_business = pd.get_dummies(data[\"Personal or Business\"])\n",
    "data = pd.concat([data,dummy_personal_business], axis=1)\n",
    "del data[\"Personal or Business\"]\n",
    "data.shape"
   ]
  },
  {
   "cell_type": "code",
   "execution_count": 23,
   "metadata": {
    "colab": {
     "base_uri": "https://localhost:8080/",
     "height": 35
    },
    "colab_type": "code",
    "executionInfo": {
     "elapsed": 813,
     "status": "ok",
     "timestamp": 1572569883847,
     "user": {
      "displayName": "Armel Drey",
      "photoUrl": "",
      "userId": "16665257867221137373"
     },
     "user_tz": 0
    },
    "id": "fiapVs77xAc3",
    "outputId": "cfe3add5-3688-45f8-fd4e-6b9800063b1f"
   },
   "outputs": [
    {
     "data": {
      "text/plain": [
       "('score de prediction: 0.3356067638216568', 'rmse: 809.7583905936489')"
      ]
     },
     "execution_count": 23,
     "metadata": {},
     "output_type": "execute_result"
    }
   ],
   "source": [
    "X = data[[\"Distance (KM)\",\"Temperature\",\"Pickup Lat\",\"Pickup Long\",\"Destination Lat\",\"Destination Long\",\"Platform Type1\",\"Platform Type2\",\"Platform Type3\",\"Platform Type4\",\"Personal\",\"Business\",\"Placement - Time\",\"Confirmation - Time\",\"Arrival at Pickup - Time\",\"Pickup - Time\",\"Arrival at Destination - Time\"]]\n",
    "y = data[\"Time from Pickup to Arrival\"]\n",
    "X_train, X_test, y_train, y_test = train_test_split(X, y, test_size=0.25, random_state=42)\n",
    "rl(X_train,y_train,X_test,y_test)"
   ]
  },
  {
   "cell_type": "code",
   "execution_count": 24,
   "metadata": {
    "colab": {
     "base_uri": "https://localhost:8080/",
     "height": 35
    },
    "colab_type": "code",
    "executionInfo": {
     "elapsed": 851,
     "status": "ok",
     "timestamp": 1572569886687,
     "user": {
      "displayName": "Armel Drey",
      "photoUrl": "",
      "userId": "16665257867221137373"
     },
     "user_tz": 0
    },
    "id": "s66O7vC3xAbb",
    "outputId": "cfc1e7ad-3d6f-42e8-9683-920a37f0e37c"
   },
   "outputs": [
    {
     "data": {
      "text/plain": [
       "('score de prediction: 0.33374782176016515', 'rmse: 810.8904328725887')"
      ]
     },
     "execution_count": 24,
     "metadata": {},
     "output_type": "execute_result"
    }
   ],
   "source": [
    "X = data[[\"Distance (KM)\",\"Temperature\",\"Platform Type1\",\"Platform Type2\",\"Platform Type3\",\"Platform Type4\",\"Personal\",\"Business\",\"Placement - Time\",\"Confirmation - Time\",\"Arrival at Pickup - Time\",\"Pickup - Time\",\"Arrival at Destination - Time\"]]\n",
    "y = data[\"Time from Pickup to Arrival\"]\n",
    "X_train, X_test, y_train, y_test = train_test_split(X, y, test_size=0.25, random_state=42)\n",
    "rl(X_train,y_train,X_test,y_test)"
   ]
  },
  {
   "cell_type": "code",
   "execution_count": 25,
   "metadata": {
    "colab": {},
    "colab_type": "code",
    "id": "c4t-uzUVxAYc"
   },
   "outputs": [],
   "source": [
    "# nb: nombre colonne; nom: nom des variables; var: variable à renommer\n",
    "def rename_col(nb,nom,var):\n",
    "  tab = []\n",
    "  for i in range(1,nb+1):\n",
    "    tab.append(nom + str(i))\n",
    "  var.columns = tab\n",
    "  return tab"
   ]
  },
  {
   "cell_type": "code",
   "execution_count": 26,
   "metadata": {
    "colab": {},
    "colab_type": "code",
    "id": "pE_Mm8cS3kgD"
   },
   "outputs": [],
   "source": [
    "dummy_placement_month = pd.get_dummies(data[\"Placement - Day of Month\"])\n",
    "dummy_placement_week = pd.get_dummies(data[\"Placement - Weekday (Mo = 1)\"])"
   ]
  },
  {
   "cell_type": "code",
   "execution_count": 27,
   "metadata": {
    "colab": {},
    "colab_type": "code",
    "id": "zSJYRBU-4G-9"
   },
   "outputs": [
    {
     "data": {
      "text/plain": [
       "['placement_month1',\n",
       " 'placement_month2',\n",
       " 'placement_month3',\n",
       " 'placement_month4',\n",
       " 'placement_month5',\n",
       " 'placement_month6',\n",
       " 'placement_month7',\n",
       " 'placement_month8',\n",
       " 'placement_month9',\n",
       " 'placement_month10',\n",
       " 'placement_month11',\n",
       " 'placement_month12',\n",
       " 'placement_month13',\n",
       " 'placement_month14',\n",
       " 'placement_month15',\n",
       " 'placement_month16',\n",
       " 'placement_month17',\n",
       " 'placement_month18',\n",
       " 'placement_month19',\n",
       " 'placement_month20',\n",
       " 'placement_month21',\n",
       " 'placement_month22',\n",
       " 'placement_month23',\n",
       " 'placement_month24',\n",
       " 'placement_month25',\n",
       " 'placement_month26',\n",
       " 'placement_month27',\n",
       " 'placement_month28',\n",
       " 'placement_month29',\n",
       " 'placement_month30',\n",
       " 'placement_month31']"
      ]
     },
     "execution_count": 27,
     "metadata": {},
     "output_type": "execute_result"
    }
   ],
   "source": [
    "rename_col(7,\"placement_weekday\",dummy_placement_week)\n",
    "rename_col(31,\"placement_month\",dummy_placement_month)"
   ]
  },
  {
   "cell_type": "code",
   "execution_count": 28,
   "metadata": {
    "colab": {},
    "colab_type": "code",
    "id": "XLmHRoi63kdd"
   },
   "outputs": [],
   "source": [
    "del data[\"Placement - Weekday (Mo = 1)\"]\n",
    "del data[\"Placement - Day of Month\"]"
   ]
  },
  {
   "cell_type": "code",
   "execution_count": 29,
   "metadata": {
    "colab": {},
    "colab_type": "code",
    "id": "x2cGReSJ3kcA"
   },
   "outputs": [],
   "source": [
    "data = pd.concat([data,dummy_placement_week], axis=1)\n",
    "data = pd.concat([data,dummy_placement_month], axis=1)"
   ]
  },
  {
   "cell_type": "code",
   "execution_count": 30,
   "metadata": {
    "colab": {
     "base_uri": "https://localhost:8080/",
     "height": 35
    },
    "colab_type": "code",
    "executionInfo": {
     "elapsed": 918,
     "status": "ok",
     "timestamp": 1572565937076,
     "user": {
      "displayName": "Armel Drey",
      "photoUrl": "",
      "userId": "16665257867221137373"
     },
     "user_tz": 0
    },
    "id": "Xv0meAuO3kZP",
    "outputId": "eb904dc5-1168-49d5-ce1c-4b1be34a171a"
   },
   "outputs": [
    {
     "data": {
      "text/plain": [
       "(21201, 67)"
      ]
     },
     "execution_count": 30,
     "metadata": {},
     "output_type": "execute_result"
    }
   ],
   "source": [
    "data.shape"
   ]
  },
  {
   "cell_type": "code",
   "execution_count": 31,
   "metadata": {
    "colab": {
     "base_uri": "https://localhost:8080/",
     "height": 35
    },
    "colab_type": "code",
    "executionInfo": {
     "elapsed": 826,
     "status": "ok",
     "timestamp": 1572569911930,
     "user": {
      "displayName": "Armel Drey",
      "photoUrl": "",
      "userId": "16665257867221137373"
     },
     "user_tz": 0
    },
    "id": "hHBQTgRC3kW_",
    "outputId": "5fdea15c-7e1b-49ec-fdf2-07ff3f03cf6f"
   },
   "outputs": [
    {
     "data": {
      "text/plain": [
       "('score de prediction: 0.335304562894018', 'rmse: 809.9425299730816')"
      ]
     },
     "execution_count": 31,
     "metadata": {},
     "output_type": "execute_result"
    }
   ],
   "source": [
    "col = [\"Distance (KM)\",\"Temperature\",\"Platform Type1\",\"Platform Type2\",\"Platform Type3\",\"Platform Type4\",\"Personal\",\"Business\",\"Placement - Time\",\"Confirmation - Time\",\"Arrival at Pickup - Time\",\"Pickup - Time\",\"Arrival at Destination - Time\"] + rename_col(7,\"placement_weekday\",dummy_placement_week) + rename_col(31,\"placement_month\",dummy_placement_month)\n",
    "X = data[col]\n",
    "y = data[\"Time from Pickup to Arrival\"]\n",
    "X_train, X_test, y_train, y_test = train_test_split(X, y, test_size=0.25, random_state=42)\n",
    "rl(X_train,y_train,X_test,y_test)"
   ]
  },
  {
   "cell_type": "code",
   "execution_count": null,
   "metadata": {
    "colab": {},
    "colab_type": "code",
    "id": "-FgKVw4Z3kTU"
   },
   "outputs": [],
   "source": []
  },
  {
   "cell_type": "code",
   "execution_count": 32,
   "metadata": {
    "colab": {
     "base_uri": "https://localhost:8080/",
     "height": 53
    },
    "colab_type": "code",
    "executionInfo": {
     "elapsed": 1077,
     "status": "ok",
     "timestamp": 1572569915721,
     "user": {
      "displayName": "Armel Drey",
      "photoUrl": "",
      "userId": "16665257867221137373"
     },
     "user_tz": 0
    },
    "id": "LUwc5Osz4eti",
    "outputId": "40c1c32e-eeb9-4d5f-a96f-c4a4e62ccba5"
   },
   "outputs": [
    {
     "name": "stdout",
     "output_type": "stream",
     "text": [
      "(15900, 55)\n"
     ]
    },
    {
     "data": {
      "text/plain": [
       "('score de prediction: 0.3371245426185172', 'rmse: 808.8329320164637')"
      ]
     },
     "execution_count": 32,
     "metadata": {},
     "output_type": "execute_result"
    }
   ],
   "source": [
    "# avec lat et long\n",
    "\n",
    "col = [\"Distance (KM)\",\"Pickup Lat\",\"Pickup Long\",\"Destination Lat\",\"Destination Long\",\"Temperature\",\"Platform Type1\",\"Platform Type2\",\"Platform Type3\",\"Platform Type4\",\"Personal\",\"Business\",\"Placement - Time\",\"Confirmation - Time\",\"Arrival at Pickup - Time\",\"Pickup - Time\",\"Arrival at Destination - Time\"] + rename_col(7,\"placement_weekday\",dummy_placement_week) + rename_col(31,\"placement_month\",dummy_placement_month)\n",
    "X = data[col]\n",
    "y = data[\"Time from Pickup to Arrival\"]\n",
    "X_train, X_test, y_train, y_test = train_test_split(X, y, test_size=0.25, random_state=42)\n",
    "\n",
    "print(X_train.shape)\n",
    "\n",
    "rl(X_train,y_train,X_test,y_test)"
   ]
  },
  {
   "cell_type": "code",
   "execution_count": null,
   "metadata": {
    "colab": {},
    "colab_type": "code",
    "id": "QtYU-jbR4erB"
   },
   "outputs": [],
   "source": []
  },
  {
   "cell_type": "code",
   "execution_count": null,
   "metadata": {},
   "outputs": [],
   "source": []
  },
  {
   "cell_type": "code",
   "execution_count": null,
   "metadata": {},
   "outputs": [],
   "source": []
  },
  {
   "cell_type": "code",
   "execution_count": 33,
   "metadata": {
    "colab": {},
    "colab_type": "code",
    "id": "9cQRTUjJ4epI"
   },
   "outputs": [],
   "source": [
    "#data = pd.merge(data, data3, how='left', left_on='Rider Id', right_on='Rider Id', left_index=True)\n",
    "#data2 = pd.merge(data2, data3, how='left', left_on='Rider Id', right_on='Rider Id', left_index=True)"
   ]
  },
  {
   "cell_type": "code",
   "execution_count": 34,
   "metadata": {
    "colab": {
     "base_uri": "https://localhost:8080/",
     "height": 326
    },
    "colab_type": "code",
    "executionInfo": {
     "elapsed": 802,
     "status": "ok",
     "timestamp": 1572571333718,
     "user": {
      "displayName": "Armel Drey",
      "photoUrl": "",
      "userId": "16665257867221137373"
     },
     "user_tz": 0
    },
    "id": "dL6hiI_U4enA",
    "outputId": "8ceff5f3-7c7f-44aa-fa42-c814e9287b81"
   },
   "outputs": [
    {
     "ename": "NameError",
     "evalue": "name 'train_' is not defined",
     "output_type": "error",
     "traceback": [
      "\u001b[0;31m---------------------------------------------------------------------------\u001b[0m",
      "\u001b[0;31mNameError\u001b[0m                                 Traceback (most recent call last)",
      "\u001b[0;32m<ipython-input-34-ba9467b06d1c>\u001b[0m in \u001b[0;36m<module>\u001b[0;34m\u001b[0m\n\u001b[0;32m----> 1\u001b[0;31m \u001b[0mtrain_\u001b[0m\u001b[0;34m.\u001b[0m\u001b[0mhead\u001b[0m\u001b[0;34m(\u001b[0m\u001b[0;34m)\u001b[0m\u001b[0;34m\u001b[0m\u001b[0;34m\u001b[0m\u001b[0m\n\u001b[0m",
      "\u001b[0;31mNameError\u001b[0m: name 'train_' is not defined"
     ]
    }
   ],
   "source": [
    "train_.head()"
   ]
  },
  {
   "cell_type": "code",
   "execution_count": 35,
   "metadata": {
    "colab": {},
    "colab_type": "code",
    "id": "aZoRIZ16g59s"
   },
   "outputs": [
    {
     "data": {
      "text/plain": [
       "Index(['Order No', 'User Id', 'Placement - Time',\n",
       "       'Confirmation - Day of Month', 'Confirmation - Weekday (Mo = 1)',\n",
       "       'Confirmation - Time', 'Arrival at Pickup - Day of Month',\n",
       "       'Arrival at Pickup - Weekday (Mo = 1)', 'Arrival at Pickup - Time',\n",
       "       'Pickup - Day of Month', 'Pickup - Weekday (Mo = 1)', 'Pickup - Time',\n",
       "       'Arrival at Destination - Day of Month',\n",
       "       'Arrival at Destination - Weekday (Mo = 1)',\n",
       "       'Arrival at Destination - Time', 'Distance (KM)', 'Temperature',\n",
       "       'Pickup Lat', 'Pickup Long', 'Destination Lat', 'Destination Long',\n",
       "       'Rider Id', 'Time from Pickup to Arrival', 'Platform Type1',\n",
       "       'Platform Type2', 'Platform Type3', 'Platform Type4', 'Business',\n",
       "       'Personal', 'placement_weekday1', 'placement_weekday2',\n",
       "       'placement_weekday3', 'placement_weekday4', 'placement_weekday5',\n",
       "       'placement_weekday6', 'placement_weekday7', 'placement_month1',\n",
       "       'placement_month2', 'placement_month3', 'placement_month4',\n",
       "       'placement_month5', 'placement_month6', 'placement_month7',\n",
       "       'placement_month8', 'placement_month9', 'placement_month10',\n",
       "       'placement_month11', 'placement_month12', 'placement_month13',\n",
       "       'placement_month14', 'placement_month15', 'placement_month16',\n",
       "       'placement_month17', 'placement_month18', 'placement_month19',\n",
       "       'placement_month20', 'placement_month21', 'placement_month22',\n",
       "       'placement_month23', 'placement_month24', 'placement_month25',\n",
       "       'placement_month26', 'placement_month27', 'placement_month28',\n",
       "       'placement_month29', 'placement_month30', 'placement_month31'],\n",
       "      dtype='object')"
      ]
     },
     "execution_count": 35,
     "metadata": {},
     "output_type": "execute_result"
    }
   ],
   "source": [
    "data.columns"
   ]
  },
  {
   "cell_type": "code",
   "execution_count": null,
   "metadata": {
    "colab": {},
    "colab_type": "code",
    "id": "OUd8Pl41jIlL"
   },
   "outputs": [],
   "source": []
  },
  {
   "cell_type": "code",
   "execution_count": 36,
   "metadata": {
    "colab": {
     "base_uri": "https://localhost:8080/",
     "height": 53
    },
    "colab_type": "code",
    "executionInfo": {
     "elapsed": 805,
     "status": "ok",
     "timestamp": 1572571359489,
     "user": {
      "displayName": "Armel Drey",
      "photoUrl": "",
      "userId": "16665257867221137373"
     },
     "user_tz": 0
    },
    "id": "15sorC37jIXG",
    "outputId": "cbff9eb3-c8e5-4476-a250-41c02219ab46"
   },
   "outputs": [
    {
     "ename": "KeyError",
     "evalue": "\"['Average_Rating', 'No_of_Ratings', 'Age', 'No_Of_Orders'] not in index\"",
     "output_type": "error",
     "traceback": [
      "\u001b[0;31m---------------------------------------------------------------------------\u001b[0m",
      "\u001b[0;31mKeyError\u001b[0m                                  Traceback (most recent call last)",
      "\u001b[0;32m<ipython-input-36-136b5980e728>\u001b[0m in \u001b[0;36m<module>\u001b[0;34m\u001b[0m\n\u001b[1;32m      4\u001b[0m \u001b[0;34m\u001b[0m\u001b[0m\n\u001b[1;32m      5\u001b[0m \u001b[0mcol\u001b[0m \u001b[0;34m=\u001b[0m \u001b[0;34m[\u001b[0m\u001b[0;34m\"Distance (KM)\"\u001b[0m\u001b[0;34m,\u001b[0m\u001b[0;34m\"Temperature\"\u001b[0m\u001b[0;34m]\u001b[0m \u001b[0;34m+\u001b[0m \u001b[0mc\u001b[0m\u001b[0;34m\u001b[0m\u001b[0;34m\u001b[0m\u001b[0m\n\u001b[0;32m----> 6\u001b[0;31m \u001b[0mX\u001b[0m \u001b[0;34m=\u001b[0m \u001b[0mdata\u001b[0m\u001b[0;34m[\u001b[0m\u001b[0mcol\u001b[0m\u001b[0;34m]\u001b[0m\u001b[0;34m\u001b[0m\u001b[0;34m\u001b[0m\u001b[0m\n\u001b[0m\u001b[1;32m      7\u001b[0m \u001b[0my\u001b[0m \u001b[0;34m=\u001b[0m \u001b[0mdata\u001b[0m\u001b[0;34m[\u001b[0m\u001b[0;34m\"Time from Pickup to Arrival\"\u001b[0m\u001b[0;34m]\u001b[0m\u001b[0;34m\u001b[0m\u001b[0;34m\u001b[0m\u001b[0m\n\u001b[1;32m      8\u001b[0m \u001b[0mX_train\u001b[0m\u001b[0;34m,\u001b[0m \u001b[0mX_test\u001b[0m\u001b[0;34m,\u001b[0m \u001b[0my_train\u001b[0m\u001b[0;34m,\u001b[0m \u001b[0my_test\u001b[0m \u001b[0;34m=\u001b[0m \u001b[0mtrain_test_split\u001b[0m\u001b[0;34m(\u001b[0m\u001b[0mX\u001b[0m\u001b[0;34m,\u001b[0m \u001b[0my\u001b[0m\u001b[0;34m,\u001b[0m \u001b[0mtest_size\u001b[0m\u001b[0;34m=\u001b[0m\u001b[0;36m0.25\u001b[0m\u001b[0;34m,\u001b[0m \u001b[0mrandom_state\u001b[0m\u001b[0;34m=\u001b[0m\u001b[0;36m42\u001b[0m\u001b[0;34m)\u001b[0m\u001b[0;34m\u001b[0m\u001b[0;34m\u001b[0m\u001b[0m\n",
      "\u001b[0;32m/home/moussa/snap/jupyter/common/lib/python3.7/site-packages/pandas/core/frame.py\u001b[0m in \u001b[0;36m__getitem__\u001b[0;34m(self, key)\u001b[0m\n\u001b[1;32m   2999\u001b[0m             \u001b[0;32mif\u001b[0m \u001b[0mis_iterator\u001b[0m\u001b[0;34m(\u001b[0m\u001b[0mkey\u001b[0m\u001b[0;34m)\u001b[0m\u001b[0;34m:\u001b[0m\u001b[0;34m\u001b[0m\u001b[0;34m\u001b[0m\u001b[0m\n\u001b[1;32m   3000\u001b[0m                 \u001b[0mkey\u001b[0m \u001b[0;34m=\u001b[0m \u001b[0mlist\u001b[0m\u001b[0;34m(\u001b[0m\u001b[0mkey\u001b[0m\u001b[0;34m)\u001b[0m\u001b[0;34m\u001b[0m\u001b[0;34m\u001b[0m\u001b[0m\n\u001b[0;32m-> 3001\u001b[0;31m             \u001b[0mindexer\u001b[0m \u001b[0;34m=\u001b[0m \u001b[0mself\u001b[0m\u001b[0;34m.\u001b[0m\u001b[0mloc\u001b[0m\u001b[0;34m.\u001b[0m\u001b[0m_convert_to_indexer\u001b[0m\u001b[0;34m(\u001b[0m\u001b[0mkey\u001b[0m\u001b[0;34m,\u001b[0m \u001b[0maxis\u001b[0m\u001b[0;34m=\u001b[0m\u001b[0;36m1\u001b[0m\u001b[0;34m,\u001b[0m \u001b[0mraise_missing\u001b[0m\u001b[0;34m=\u001b[0m\u001b[0;32mTrue\u001b[0m\u001b[0;34m)\u001b[0m\u001b[0;34m\u001b[0m\u001b[0;34m\u001b[0m\u001b[0m\n\u001b[0m\u001b[1;32m   3002\u001b[0m \u001b[0;34m\u001b[0m\u001b[0m\n\u001b[1;32m   3003\u001b[0m         \u001b[0;31m# take() does not accept boolean indexers\u001b[0m\u001b[0;34m\u001b[0m\u001b[0;34m\u001b[0m\u001b[0;34m\u001b[0m\u001b[0m\n",
      "\u001b[0;32m/home/moussa/snap/jupyter/common/lib/python3.7/site-packages/pandas/core/indexing.py\u001b[0m in \u001b[0;36m_convert_to_indexer\u001b[0;34m(self, obj, axis, is_setter, raise_missing)\u001b[0m\n\u001b[1;32m   1283\u001b[0m                 \u001b[0;31m# When setting, missing keys are not allowed, even with .loc:\u001b[0m\u001b[0;34m\u001b[0m\u001b[0;34m\u001b[0m\u001b[0;34m\u001b[0m\u001b[0m\n\u001b[1;32m   1284\u001b[0m                 \u001b[0mkwargs\u001b[0m \u001b[0;34m=\u001b[0m \u001b[0;34m{\u001b[0m\u001b[0;34m\"raise_missing\"\u001b[0m\u001b[0;34m:\u001b[0m \u001b[0;32mTrue\u001b[0m \u001b[0;32mif\u001b[0m \u001b[0mis_setter\u001b[0m \u001b[0;32melse\u001b[0m \u001b[0mraise_missing\u001b[0m\u001b[0;34m}\u001b[0m\u001b[0;34m\u001b[0m\u001b[0;34m\u001b[0m\u001b[0m\n\u001b[0;32m-> 1285\u001b[0;31m                 \u001b[0;32mreturn\u001b[0m \u001b[0mself\u001b[0m\u001b[0;34m.\u001b[0m\u001b[0m_get_listlike_indexer\u001b[0m\u001b[0;34m(\u001b[0m\u001b[0mobj\u001b[0m\u001b[0;34m,\u001b[0m \u001b[0maxis\u001b[0m\u001b[0;34m,\u001b[0m \u001b[0;34m**\u001b[0m\u001b[0mkwargs\u001b[0m\u001b[0;34m)\u001b[0m\u001b[0;34m[\u001b[0m\u001b[0;36m1\u001b[0m\u001b[0;34m]\u001b[0m\u001b[0;34m\u001b[0m\u001b[0;34m\u001b[0m\u001b[0m\n\u001b[0m\u001b[1;32m   1286\u001b[0m         \u001b[0;32melse\u001b[0m\u001b[0;34m:\u001b[0m\u001b[0;34m\u001b[0m\u001b[0;34m\u001b[0m\u001b[0m\n\u001b[1;32m   1287\u001b[0m             \u001b[0;32mtry\u001b[0m\u001b[0;34m:\u001b[0m\u001b[0;34m\u001b[0m\u001b[0;34m\u001b[0m\u001b[0m\n",
      "\u001b[0;32m/home/moussa/snap/jupyter/common/lib/python3.7/site-packages/pandas/core/indexing.py\u001b[0m in \u001b[0;36m_get_listlike_indexer\u001b[0;34m(self, key, axis, raise_missing)\u001b[0m\n\u001b[1;32m   1090\u001b[0m \u001b[0;34m\u001b[0m\u001b[0m\n\u001b[1;32m   1091\u001b[0m         self._validate_read_indexer(\n\u001b[0;32m-> 1092\u001b[0;31m             \u001b[0mkeyarr\u001b[0m\u001b[0;34m,\u001b[0m \u001b[0mindexer\u001b[0m\u001b[0;34m,\u001b[0m \u001b[0mo\u001b[0m\u001b[0;34m.\u001b[0m\u001b[0m_get_axis_number\u001b[0m\u001b[0;34m(\u001b[0m\u001b[0maxis\u001b[0m\u001b[0;34m)\u001b[0m\u001b[0;34m,\u001b[0m \u001b[0mraise_missing\u001b[0m\u001b[0;34m=\u001b[0m\u001b[0mraise_missing\u001b[0m\u001b[0;34m\u001b[0m\u001b[0;34m\u001b[0m\u001b[0m\n\u001b[0m\u001b[1;32m   1093\u001b[0m         )\n\u001b[1;32m   1094\u001b[0m         \u001b[0;32mreturn\u001b[0m \u001b[0mkeyarr\u001b[0m\u001b[0;34m,\u001b[0m \u001b[0mindexer\u001b[0m\u001b[0;34m\u001b[0m\u001b[0;34m\u001b[0m\u001b[0m\n",
      "\u001b[0;32m/home/moussa/snap/jupyter/common/lib/python3.7/site-packages/pandas/core/indexing.py\u001b[0m in \u001b[0;36m_validate_read_indexer\u001b[0;34m(self, key, indexer, axis, raise_missing)\u001b[0m\n\u001b[1;32m   1183\u001b[0m             \u001b[0;32mif\u001b[0m \u001b[0;32mnot\u001b[0m \u001b[0;34m(\u001b[0m\u001b[0mself\u001b[0m\u001b[0;34m.\u001b[0m\u001b[0mname\u001b[0m \u001b[0;34m==\u001b[0m \u001b[0;34m\"loc\"\u001b[0m \u001b[0;32mand\u001b[0m \u001b[0;32mnot\u001b[0m \u001b[0mraise_missing\u001b[0m\u001b[0;34m)\u001b[0m\u001b[0;34m:\u001b[0m\u001b[0;34m\u001b[0m\u001b[0;34m\u001b[0m\u001b[0m\n\u001b[1;32m   1184\u001b[0m                 \u001b[0mnot_found\u001b[0m \u001b[0;34m=\u001b[0m \u001b[0mlist\u001b[0m\u001b[0;34m(\u001b[0m\u001b[0mset\u001b[0m\u001b[0;34m(\u001b[0m\u001b[0mkey\u001b[0m\u001b[0;34m)\u001b[0m \u001b[0;34m-\u001b[0m \u001b[0mset\u001b[0m\u001b[0;34m(\u001b[0m\u001b[0max\u001b[0m\u001b[0;34m)\u001b[0m\u001b[0;34m)\u001b[0m\u001b[0;34m\u001b[0m\u001b[0;34m\u001b[0m\u001b[0m\n\u001b[0;32m-> 1185\u001b[0;31m                 \u001b[0;32mraise\u001b[0m \u001b[0mKeyError\u001b[0m\u001b[0;34m(\u001b[0m\u001b[0;34m\"{} not in index\"\u001b[0m\u001b[0;34m.\u001b[0m\u001b[0mformat\u001b[0m\u001b[0;34m(\u001b[0m\u001b[0mnot_found\u001b[0m\u001b[0;34m)\u001b[0m\u001b[0;34m)\u001b[0m\u001b[0;34m\u001b[0m\u001b[0;34m\u001b[0m\u001b[0m\n\u001b[0m\u001b[1;32m   1186\u001b[0m \u001b[0;34m\u001b[0m\u001b[0m\n\u001b[1;32m   1187\u001b[0m             \u001b[0;31m# we skip the warning on Categorical/Interval\u001b[0m\u001b[0;34m\u001b[0m\u001b[0;34m\u001b[0m\u001b[0;34m\u001b[0m\u001b[0m\n",
      "\u001b[0;31mKeyError\u001b[0m: \"['Average_Rating', 'No_of_Ratings', 'Age', 'No_Of_Orders'] not in index\""
     ]
    }
   ],
   "source": [
    "c = [\"No_Of_Orders\",\"Age\",\"Average_Rating\",\"No_of_Ratings\"]\n",
    "\n",
    "# fusion train & riders\n",
    "\n",
    "col = [\"Distance (KM)\",\"Temperature\"] + c\n",
    "X = data[col]\n",
    "y = data[\"Time from Pickup to Arrival\"]\n",
    "X_train, X_test, y_train, y_test = train_test_split(X, y, test_size=0.25, random_state=42)\n",
    "\n",
    "print(X.shape)\n",
    "\n",
    "rl(X_train,y_train,X_test,y_test)"
   ]
  },
  {
   "cell_type": "code",
   "execution_count": 37,
   "metadata": {
    "colab": {
     "base_uri": "https://localhost:8080/",
     "height": 53
    },
    "colab_type": "code",
    "executionInfo": {
     "elapsed": 803,
     "status": "ok",
     "timestamp": 1572571575138,
     "user": {
      "displayName": "Armel Drey",
      "photoUrl": "",
      "userId": "16665257867221137373"
     },
     "user_tz": 0
    },
    "id": "K6Q4hVKn4ekw",
    "outputId": "22736844-cbce-49d9-948a-e6f1795f4f1b"
   },
   "outputs": [
    {
     "ename": "KeyError",
     "evalue": "\"['Average_Rating', 'No_of_Ratings', 'Age', 'No_Of_Orders'] not in index\"",
     "output_type": "error",
     "traceback": [
      "\u001b[0;31m---------------------------------------------------------------------------\u001b[0m",
      "\u001b[0;31mKeyError\u001b[0m                                  Traceback (most recent call last)",
      "\u001b[0;32m<ipython-input-37-e38716b726b3>\u001b[0m in \u001b[0;36m<module>\u001b[0;34m\u001b[0m\n\u001b[1;32m      4\u001b[0m \u001b[0;34m\u001b[0m\u001b[0m\n\u001b[1;32m      5\u001b[0m \u001b[0mcol\u001b[0m \u001b[0;34m=\u001b[0m \u001b[0;34m[\u001b[0m\u001b[0;34m\"Distance (KM)\"\u001b[0m\u001b[0;34m,\u001b[0m\u001b[0;34m\"Pickup Lat\"\u001b[0m\u001b[0;34m,\u001b[0m\u001b[0;34m\"Pickup Long\"\u001b[0m\u001b[0;34m,\u001b[0m\u001b[0;34m\"Destination Lat\"\u001b[0m\u001b[0;34m,\u001b[0m\u001b[0;34m\"Destination Long\"\u001b[0m\u001b[0;34m,\u001b[0m\u001b[0;34m\"Temperature\"\u001b[0m\u001b[0;34m,\u001b[0m\u001b[0;34m\"Platform Type1\"\u001b[0m\u001b[0;34m,\u001b[0m\u001b[0;34m\"Platform Type2\"\u001b[0m\u001b[0;34m,\u001b[0m\u001b[0;34m\"Platform Type3\"\u001b[0m\u001b[0;34m,\u001b[0m\u001b[0;34m\"Platform Type4\"\u001b[0m\u001b[0;34m,\u001b[0m\u001b[0;34m\"Personal\"\u001b[0m\u001b[0;34m,\u001b[0m\u001b[0;34m\"Business\"\u001b[0m\u001b[0;34m,\u001b[0m\u001b[0;34m\"Placement - Time\"\u001b[0m\u001b[0;34m,\u001b[0m\u001b[0;34m\"Confirmation - Time\"\u001b[0m\u001b[0;34m,\u001b[0m\u001b[0;34m\"Arrival at Pickup - Time\"\u001b[0m\u001b[0;34m,\u001b[0m\u001b[0;34m\"Pickup - Time\"\u001b[0m\u001b[0;34m,\u001b[0m\u001b[0;34m\"Arrival at Destination - Time\"\u001b[0m\u001b[0;34m]\u001b[0m \u001b[0;34m+\u001b[0m \u001b[0mrename_col\u001b[0m\u001b[0;34m(\u001b[0m\u001b[0;36m7\u001b[0m\u001b[0;34m,\u001b[0m\u001b[0;34m\"placement_weekday\"\u001b[0m\u001b[0;34m,\u001b[0m\u001b[0mdummy_placement_week\u001b[0m\u001b[0;34m)\u001b[0m \u001b[0;34m+\u001b[0m \u001b[0mrename_col\u001b[0m\u001b[0;34m(\u001b[0m\u001b[0;36m31\u001b[0m\u001b[0;34m,\u001b[0m\u001b[0;34m\"placement_month\"\u001b[0m\u001b[0;34m,\u001b[0m\u001b[0mdummy_placement_month\u001b[0m\u001b[0;34m)\u001b[0m \u001b[0;34m+\u001b[0m \u001b[0mc\u001b[0m\u001b[0;34m\u001b[0m\u001b[0;34m\u001b[0m\u001b[0m\n\u001b[0;32m----> 6\u001b[0;31m \u001b[0mX\u001b[0m \u001b[0;34m=\u001b[0m \u001b[0mdata\u001b[0m\u001b[0;34m[\u001b[0m\u001b[0mcol\u001b[0m\u001b[0;34m]\u001b[0m\u001b[0;34m\u001b[0m\u001b[0;34m\u001b[0m\u001b[0m\n\u001b[0m\u001b[1;32m      7\u001b[0m \u001b[0my\u001b[0m \u001b[0;34m=\u001b[0m \u001b[0mdata\u001b[0m\u001b[0;34m[\u001b[0m\u001b[0;34m\"Time from Pickup to Arrival\"\u001b[0m\u001b[0;34m]\u001b[0m\u001b[0;34m\u001b[0m\u001b[0;34m\u001b[0m\u001b[0m\n\u001b[1;32m      8\u001b[0m \u001b[0mX_train\u001b[0m\u001b[0;34m,\u001b[0m \u001b[0mX_test\u001b[0m\u001b[0;34m,\u001b[0m \u001b[0my_train\u001b[0m\u001b[0;34m,\u001b[0m \u001b[0my_test\u001b[0m \u001b[0;34m=\u001b[0m \u001b[0mtrain_test_split\u001b[0m\u001b[0;34m(\u001b[0m\u001b[0mX\u001b[0m\u001b[0;34m,\u001b[0m \u001b[0my\u001b[0m\u001b[0;34m,\u001b[0m \u001b[0mtest_size\u001b[0m\u001b[0;34m=\u001b[0m\u001b[0;36m0.25\u001b[0m\u001b[0;34m,\u001b[0m \u001b[0mrandom_state\u001b[0m\u001b[0;34m=\u001b[0m\u001b[0;36m42\u001b[0m\u001b[0;34m)\u001b[0m\u001b[0;34m\u001b[0m\u001b[0;34m\u001b[0m\u001b[0m\n",
      "\u001b[0;32m/home/moussa/snap/jupyter/common/lib/python3.7/site-packages/pandas/core/frame.py\u001b[0m in \u001b[0;36m__getitem__\u001b[0;34m(self, key)\u001b[0m\n\u001b[1;32m   2999\u001b[0m             \u001b[0;32mif\u001b[0m \u001b[0mis_iterator\u001b[0m\u001b[0;34m(\u001b[0m\u001b[0mkey\u001b[0m\u001b[0;34m)\u001b[0m\u001b[0;34m:\u001b[0m\u001b[0;34m\u001b[0m\u001b[0;34m\u001b[0m\u001b[0m\n\u001b[1;32m   3000\u001b[0m                 \u001b[0mkey\u001b[0m \u001b[0;34m=\u001b[0m \u001b[0mlist\u001b[0m\u001b[0;34m(\u001b[0m\u001b[0mkey\u001b[0m\u001b[0;34m)\u001b[0m\u001b[0;34m\u001b[0m\u001b[0;34m\u001b[0m\u001b[0m\n\u001b[0;32m-> 3001\u001b[0;31m             \u001b[0mindexer\u001b[0m \u001b[0;34m=\u001b[0m \u001b[0mself\u001b[0m\u001b[0;34m.\u001b[0m\u001b[0mloc\u001b[0m\u001b[0;34m.\u001b[0m\u001b[0m_convert_to_indexer\u001b[0m\u001b[0;34m(\u001b[0m\u001b[0mkey\u001b[0m\u001b[0;34m,\u001b[0m \u001b[0maxis\u001b[0m\u001b[0;34m=\u001b[0m\u001b[0;36m1\u001b[0m\u001b[0;34m,\u001b[0m \u001b[0mraise_missing\u001b[0m\u001b[0;34m=\u001b[0m\u001b[0;32mTrue\u001b[0m\u001b[0;34m)\u001b[0m\u001b[0;34m\u001b[0m\u001b[0;34m\u001b[0m\u001b[0m\n\u001b[0m\u001b[1;32m   3002\u001b[0m \u001b[0;34m\u001b[0m\u001b[0m\n\u001b[1;32m   3003\u001b[0m         \u001b[0;31m# take() does not accept boolean indexers\u001b[0m\u001b[0;34m\u001b[0m\u001b[0;34m\u001b[0m\u001b[0;34m\u001b[0m\u001b[0m\n",
      "\u001b[0;32m/home/moussa/snap/jupyter/common/lib/python3.7/site-packages/pandas/core/indexing.py\u001b[0m in \u001b[0;36m_convert_to_indexer\u001b[0;34m(self, obj, axis, is_setter, raise_missing)\u001b[0m\n\u001b[1;32m   1283\u001b[0m                 \u001b[0;31m# When setting, missing keys are not allowed, even with .loc:\u001b[0m\u001b[0;34m\u001b[0m\u001b[0;34m\u001b[0m\u001b[0;34m\u001b[0m\u001b[0m\n\u001b[1;32m   1284\u001b[0m                 \u001b[0mkwargs\u001b[0m \u001b[0;34m=\u001b[0m \u001b[0;34m{\u001b[0m\u001b[0;34m\"raise_missing\"\u001b[0m\u001b[0;34m:\u001b[0m \u001b[0;32mTrue\u001b[0m \u001b[0;32mif\u001b[0m \u001b[0mis_setter\u001b[0m \u001b[0;32melse\u001b[0m \u001b[0mraise_missing\u001b[0m\u001b[0;34m}\u001b[0m\u001b[0;34m\u001b[0m\u001b[0;34m\u001b[0m\u001b[0m\n\u001b[0;32m-> 1285\u001b[0;31m                 \u001b[0;32mreturn\u001b[0m \u001b[0mself\u001b[0m\u001b[0;34m.\u001b[0m\u001b[0m_get_listlike_indexer\u001b[0m\u001b[0;34m(\u001b[0m\u001b[0mobj\u001b[0m\u001b[0;34m,\u001b[0m \u001b[0maxis\u001b[0m\u001b[0;34m,\u001b[0m \u001b[0;34m**\u001b[0m\u001b[0mkwargs\u001b[0m\u001b[0;34m)\u001b[0m\u001b[0;34m[\u001b[0m\u001b[0;36m1\u001b[0m\u001b[0;34m]\u001b[0m\u001b[0;34m\u001b[0m\u001b[0;34m\u001b[0m\u001b[0m\n\u001b[0m\u001b[1;32m   1286\u001b[0m         \u001b[0;32melse\u001b[0m\u001b[0;34m:\u001b[0m\u001b[0;34m\u001b[0m\u001b[0;34m\u001b[0m\u001b[0m\n\u001b[1;32m   1287\u001b[0m             \u001b[0;32mtry\u001b[0m\u001b[0;34m:\u001b[0m\u001b[0;34m\u001b[0m\u001b[0;34m\u001b[0m\u001b[0m\n",
      "\u001b[0;32m/home/moussa/snap/jupyter/common/lib/python3.7/site-packages/pandas/core/indexing.py\u001b[0m in \u001b[0;36m_get_listlike_indexer\u001b[0;34m(self, key, axis, raise_missing)\u001b[0m\n\u001b[1;32m   1090\u001b[0m \u001b[0;34m\u001b[0m\u001b[0m\n\u001b[1;32m   1091\u001b[0m         self._validate_read_indexer(\n\u001b[0;32m-> 1092\u001b[0;31m             \u001b[0mkeyarr\u001b[0m\u001b[0;34m,\u001b[0m \u001b[0mindexer\u001b[0m\u001b[0;34m,\u001b[0m \u001b[0mo\u001b[0m\u001b[0;34m.\u001b[0m\u001b[0m_get_axis_number\u001b[0m\u001b[0;34m(\u001b[0m\u001b[0maxis\u001b[0m\u001b[0;34m)\u001b[0m\u001b[0;34m,\u001b[0m \u001b[0mraise_missing\u001b[0m\u001b[0;34m=\u001b[0m\u001b[0mraise_missing\u001b[0m\u001b[0;34m\u001b[0m\u001b[0;34m\u001b[0m\u001b[0m\n\u001b[0m\u001b[1;32m   1093\u001b[0m         )\n\u001b[1;32m   1094\u001b[0m         \u001b[0;32mreturn\u001b[0m \u001b[0mkeyarr\u001b[0m\u001b[0;34m,\u001b[0m \u001b[0mindexer\u001b[0m\u001b[0;34m\u001b[0m\u001b[0;34m\u001b[0m\u001b[0m\n",
      "\u001b[0;32m/home/moussa/snap/jupyter/common/lib/python3.7/site-packages/pandas/core/indexing.py\u001b[0m in \u001b[0;36m_validate_read_indexer\u001b[0;34m(self, key, indexer, axis, raise_missing)\u001b[0m\n\u001b[1;32m   1183\u001b[0m             \u001b[0;32mif\u001b[0m \u001b[0;32mnot\u001b[0m \u001b[0;34m(\u001b[0m\u001b[0mself\u001b[0m\u001b[0;34m.\u001b[0m\u001b[0mname\u001b[0m \u001b[0;34m==\u001b[0m \u001b[0;34m\"loc\"\u001b[0m \u001b[0;32mand\u001b[0m \u001b[0;32mnot\u001b[0m \u001b[0mraise_missing\u001b[0m\u001b[0;34m)\u001b[0m\u001b[0;34m:\u001b[0m\u001b[0;34m\u001b[0m\u001b[0;34m\u001b[0m\u001b[0m\n\u001b[1;32m   1184\u001b[0m                 \u001b[0mnot_found\u001b[0m \u001b[0;34m=\u001b[0m \u001b[0mlist\u001b[0m\u001b[0;34m(\u001b[0m\u001b[0mset\u001b[0m\u001b[0;34m(\u001b[0m\u001b[0mkey\u001b[0m\u001b[0;34m)\u001b[0m \u001b[0;34m-\u001b[0m \u001b[0mset\u001b[0m\u001b[0;34m(\u001b[0m\u001b[0max\u001b[0m\u001b[0;34m)\u001b[0m\u001b[0;34m)\u001b[0m\u001b[0;34m\u001b[0m\u001b[0;34m\u001b[0m\u001b[0m\n\u001b[0;32m-> 1185\u001b[0;31m                 \u001b[0;32mraise\u001b[0m \u001b[0mKeyError\u001b[0m\u001b[0;34m(\u001b[0m\u001b[0;34m\"{} not in index\"\u001b[0m\u001b[0;34m.\u001b[0m\u001b[0mformat\u001b[0m\u001b[0;34m(\u001b[0m\u001b[0mnot_found\u001b[0m\u001b[0;34m)\u001b[0m\u001b[0;34m)\u001b[0m\u001b[0;34m\u001b[0m\u001b[0;34m\u001b[0m\u001b[0m\n\u001b[0m\u001b[1;32m   1186\u001b[0m \u001b[0;34m\u001b[0m\u001b[0m\n\u001b[1;32m   1187\u001b[0m             \u001b[0;31m# we skip the warning on Categorical/Interval\u001b[0m\u001b[0;34m\u001b[0m\u001b[0;34m\u001b[0m\u001b[0;34m\u001b[0m\u001b[0m\n",
      "\u001b[0;31mKeyError\u001b[0m: \"['Average_Rating', 'No_of_Ratings', 'Age', 'No_Of_Orders'] not in index\""
     ]
    }
   ],
   "source": [
    "c = [\"No_Of_Orders\",\"Age\",\"Average_Rating\",\"No_of_Ratings\"]\n",
    "\n",
    "# fusion train & riders\n",
    "\n",
    "col = [\"Distance (KM)\",\"Pickup Lat\",\"Pickup Long\",\"Destination Lat\",\"Destination Long\",\"Temperature\",\"Platform Type1\",\"Platform Type2\",\"Platform Type3\",\"Platform Type4\",\"Personal\",\"Business\",\"Placement - Time\",\"Confirmation - Time\",\"Arrival at Pickup - Time\",\"Pickup - Time\",\"Arrival at Destination - Time\"] + rename_col(7,\"placement_weekday\",dummy_placement_week) + rename_col(31,\"placement_month\",dummy_placement_month) + c\n",
    "X = data[col]\n",
    "y = data[\"Time from Pickup to Arrival\"]\n",
    "X_train, X_test, y_train, y_test = train_test_split(X, y, test_size=0.25, random_state=42)\n",
    "\n",
    "print(X.shape)\n",
    "\n",
    "rl(X_train,y_train,X_test,y_test)"
   ]
  },
  {
   "cell_type": "code",
   "execution_count": null,
   "metadata": {
    "colab": {},
    "colab_type": "code",
    "id": "PV7BuQN64egh"
   },
   "outputs": [],
   "source": []
  },
  {
   "cell_type": "markdown",
   "metadata": {
    "colab_type": "text",
    "id": "xx3JnbRJkl7d"
   },
   "source": [
    "**KNN**"
   ]
  },
  {
   "cell_type": "code",
   "execution_count": 38,
   "metadata": {
    "colab": {
     "base_uri": "https://localhost:8080/",
     "height": 35
    },
    "colab_type": "code",
    "executionInfo": {
     "elapsed": 807,
     "status": "ok",
     "timestamp": 1572572393093,
     "user": {
      "displayName": "Armel Drey",
      "photoUrl": "",
      "userId": "16665257867221137373"
     },
     "user_tz": 0
    },
    "id": "O9uKcEJvnj4a",
    "outputId": "5a36debf-5348-4b8e-94fd-8195f392a027"
   },
   "outputs": [
    {
     "data": {
      "text/plain": [
       "(15900, 55)"
      ]
     },
     "execution_count": 38,
     "metadata": {},
     "output_type": "execute_result"
    }
   ],
   "source": [
    "X_train.shape"
   ]
  },
  {
   "cell_type": "code",
   "execution_count": 39,
   "metadata": {
    "colab": {},
    "colab_type": "code",
    "id": "wNOVBPVg4ebU"
   },
   "outputs": [
    {
     "name": "stdout",
     "output_type": "stream",
     "text": [
      "0.002452367477834371\n",
      "326.1130861431082\n",
      "(((((((--------------)))))))\n",
      "0.002452367477834371\n",
      "361.75285915572005\n",
      "(((((((--------------)))))))\n",
      "0.003018298434257687\n",
      "415.48416015777417\n",
      "(((((((--------------)))))))\n",
      "0.0028296547821165816\n",
      "467.7072693409612\n",
      "(((((((--------------)))))))\n",
      "0.0026410111299754765\n",
      "510.0710463883487\n",
      "(((((((--------------)))))))\n",
      "0.003018298434257687\n",
      "553.0655190862908\n",
      "(((((((--------------)))))))\n",
      "0.003395585738539898\n",
      "585.03958480557\n",
      "(((((((--------------)))))))\n",
      "0.003395585738539898\n",
      "614.5731996229372\n",
      "(((((((--------------)))))))\n",
      "0.0032069420863987926\n",
      "643.4445024773664\n",
      "(((((((--------------)))))))\n"
     ]
    }
   ],
   "source": [
    "# 2\n",
    "for i in range(1,10):\n",
    "  knn = KNeighborsClassifier(n_neighbors=i)\n",
    "  model = knn.fit(X_train,y_train)\n",
    "  \n",
    "  y_pred = model.predict(X_test)\n",
    "  print(model.score(X_test,y_test))\n",
    "  rmse = np.sqrt(mean_squared_error(y_test, y_pred))\n",
    "  print(rmse)\n",
    "  print(\"(((((((--------------)))))))\")"
   ]
  },
  {
   "cell_type": "markdown",
   "metadata": {
    "colab_type": "text",
    "id": "vHRiTUHmv25o"
   },
   "source": [
    "*KNeighborsRegressor*"
   ]
  },
  {
   "cell_type": "code",
   "execution_count": 40,
   "metadata": {
    "colab": {
     "base_uri": "https://localhost:8080/",
     "height": 125
    },
    "colab_type": "code",
    "executionInfo": {
     "elapsed": 8017,
     "status": "ok",
     "timestamp": 1572575459935,
     "user": {
      "displayName": "Armel Drey",
      "photoUrl": "",
      "userId": "16665257867221137373"
     },
     "user_tz": 0
    },
    "id": "1XK4NGA54eY1",
    "outputId": "36a5161b-785d-40ab-8cbc-fb528049ee34"
   },
   "outputs": [
    {
     "name": "stdout",
     "output_type": "stream",
     "text": [
      "0.9112230350302847 296.0008801232983\n",
      "0.9190974577472311 282.5686261144911\n",
      "0.9186579823146667 283.3350654512786\n",
      "0.9198146430194384 281.3133801398175\n",
      "0.9180865693138813 284.32851266943374\n",
      "0.9162164759964414 287.55582344497697\n"
     ]
    }
   ],
   "source": [
    "# 7\n",
    "for i in range(2,8):\n",
    "  knn = KNeighborsRegressor(n_neighbors=i)\n",
    "  model = knn.fit(X_train,y_train)\n",
    "  \n",
    "  y_pred = model.predict(X_test)\n",
    "  score = model.score(X_test,y_test)\n",
    "\n",
    "\n",
    "  rmse = np.sqrt(mean_squared_error(y_test, y_pred))\n",
    "\n",
    "  print(score,rmse)"
   ]
  },
  {
   "cell_type": "code",
   "execution_count": 41,
   "metadata": {
    "colab": {},
    "colab_type": "code",
    "id": "JZxme4vRqrme"
   },
   "outputs": [
    {
     "data": {
      "text/plain": [
       "Index(['Order No', 'User Id', 'Vehicle Type', 'Platform Type',\n",
       "       'Personal or Business', 'Placement - Day of Month',\n",
       "       'Placement - Weekday (Mo = 1)', 'Placement - Time',\n",
       "       'Confirmation - Day of Month', 'Confirmation - Weekday (Mo = 1)',\n",
       "       'Confirmation - Time', 'Arrival at Pickup - Day of Month',\n",
       "       'Arrival at Pickup - Weekday (Mo = 1)', 'Arrival at Pickup - Time',\n",
       "       'Pickup - Day of Month', 'Pickup - Weekday (Mo = 1)', 'Pickup - Time',\n",
       "       'Distance (KM)', 'Temperature', 'Precipitation in millimeters',\n",
       "       'Pickup Lat', 'Pickup Long', 'Destination Lat', 'Destination Long',\n",
       "       'Rider Id'],\n",
       "      dtype='object')"
      ]
     },
     "execution_count": 41,
     "metadata": {},
     "output_type": "execute_result"
    }
   ],
   "source": [
    "data2.columns"
   ]
  },
  {
   "cell_type": "code",
   "execution_count": 42,
   "metadata": {
    "colab": {},
    "colab_type": "code",
    "id": "wHJ8lUpfqrfM"
   },
   "outputs": [],
   "source": [
    "del data2[\"Precipitation in millimeters\"]\n",
    "del data2[\"Vehicle Type\"]\n",
    "data2['Temperature'] = data2['Temperature'].fillna(data2['Temperature'].mean())"
   ]
  },
  {
   "cell_type": "code",
   "execution_count": 43,
   "metadata": {
    "colab": {},
    "colab_type": "code",
    "id": "7uisaXHIqrae"
   },
   "outputs": [
    {
     "data": {
      "text/plain": [
       "Order No                                0.0\n",
       "User Id                                 0.0\n",
       "Platform Type                           0.0\n",
       "Personal or Business                    0.0\n",
       "Placement - Day of Month                0.0\n",
       "Placement - Weekday (Mo = 1)            0.0\n",
       "Placement - Time                        0.0\n",
       "Confirmation - Day of Month             0.0\n",
       "Confirmation - Weekday (Mo = 1)         0.0\n",
       "Confirmation - Time                     0.0\n",
       "Arrival at Pickup - Day of Month        0.0\n",
       "Arrival at Pickup - Weekday (Mo = 1)    0.0\n",
       "Arrival at Pickup - Time                0.0\n",
       "Pickup - Day of Month                   0.0\n",
       "Pickup - Weekday (Mo = 1)               0.0\n",
       "Pickup - Time                           0.0\n",
       "Distance (KM)                           0.0\n",
       "Temperature                             0.0\n",
       "Pickup Lat                              0.0\n",
       "Pickup Long                             0.0\n",
       "Destination Lat                         0.0\n",
       "Destination Long                        0.0\n",
       "Rider Id                                0.0\n",
       "dtype: float64"
      ]
     },
     "execution_count": 43,
     "metadata": {},
     "output_type": "execute_result"
    }
   ],
   "source": [
    "data2.isnull().sum()/len(data2)"
   ]
  },
  {
   "cell_type": "code",
   "execution_count": 44,
   "metadata": {},
   "outputs": [
    {
     "ename": "ValueError",
     "evalue": "Length of values does not match length of index",
     "output_type": "error",
     "traceback": [
      "\u001b[0;31m---------------------------------------------------------------------------\u001b[0m",
      "\u001b[0;31mValueError\u001b[0m                                Traceback (most recent call last)",
      "\u001b[0;32m<ipython-input-44-a152ddc1af15>\u001b[0m in \u001b[0;36m<module>\u001b[0;34m\u001b[0m\n\u001b[0;32m----> 1\u001b[0;31m \u001b[0mconvert_time24\u001b[0m\u001b[0;34m(\u001b[0m\u001b[0;34m\"Placement - Time\"\u001b[0m\u001b[0;34m,\u001b[0m\u001b[0mdata2\u001b[0m\u001b[0;34m[\u001b[0m\u001b[0;34m\"Placement - Time\"\u001b[0m\u001b[0;34m]\u001b[0m\u001b[0;34m)\u001b[0m\u001b[0;34m\u001b[0m\u001b[0;34m\u001b[0m\u001b[0m\n\u001b[0m\u001b[1;32m      2\u001b[0m \u001b[0mconvert_time24\u001b[0m\u001b[0;34m(\u001b[0m\u001b[0;34m\"Confirmation - Time\"\u001b[0m\u001b[0;34m,\u001b[0m\u001b[0mdata2\u001b[0m\u001b[0;34m[\u001b[0m\u001b[0;34m\"Confirmation - Time\"\u001b[0m\u001b[0;34m]\u001b[0m\u001b[0;34m)\u001b[0m\u001b[0;34m\u001b[0m\u001b[0;34m\u001b[0m\u001b[0m\n\u001b[1;32m      3\u001b[0m \u001b[0mconvert_time24\u001b[0m\u001b[0;34m(\u001b[0m\u001b[0;34m\"Arrival at Pickup - Time\"\u001b[0m\u001b[0;34m,\u001b[0m\u001b[0mdata2\u001b[0m\u001b[0;34m[\u001b[0m\u001b[0;34m\"Arrival at Pickup - Time\"\u001b[0m\u001b[0;34m]\u001b[0m\u001b[0;34m)\u001b[0m\u001b[0;34m\u001b[0m\u001b[0;34m\u001b[0m\u001b[0m\n\u001b[1;32m      4\u001b[0m \u001b[0mconvert_time24\u001b[0m\u001b[0;34m(\u001b[0m\u001b[0;34m\"Pickup - Time\"\u001b[0m\u001b[0;34m,\u001b[0m\u001b[0mdata2\u001b[0m\u001b[0;34m[\u001b[0m\u001b[0;34m\"Pickup - Time\"\u001b[0m\u001b[0;34m]\u001b[0m\u001b[0;34m)\u001b[0m\u001b[0;34m\u001b[0m\u001b[0;34m\u001b[0m\u001b[0m\n\u001b[1;32m      5\u001b[0m \u001b[0;31m#convert_time24(\"Arrival at Destination - Time\",data2[\"Arrival at Destination - Time\"])\u001b[0m\u001b[0;34m\u001b[0m\u001b[0;34m\u001b[0m\u001b[0;34m\u001b[0m\u001b[0m\n",
      "\u001b[0;32m<ipython-input-6-0d0e5bea83fa>\u001b[0m in \u001b[0;36mconvert_time24\u001b[0;34m(nom, col)\u001b[0m\n\u001b[1;32m     12\u001b[0m       \u001b[0mtime\u001b[0m \u001b[0;34m=\u001b[0m \u001b[0;34m(\u001b[0m\u001b[0mint\u001b[0m\u001b[0;34m(\u001b[0m\u001b[0mtime\u001b[0m\u001b[0;34m[\u001b[0m\u001b[0;36m0\u001b[0m\u001b[0;34m]\u001b[0m\u001b[0;34m)\u001b[0m \u001b[0;34m+\u001b[0m \u001b[0;36m12\u001b[0m\u001b[0;34m)\u001b[0m \u001b[0;34m*\u001b[0m \u001b[0;36m3600\u001b[0m \u001b[0;34m+\u001b[0m \u001b[0mint\u001b[0m\u001b[0;34m(\u001b[0m\u001b[0mtime\u001b[0m\u001b[0;34m[\u001b[0m\u001b[0;36m1\u001b[0m\u001b[0;34m]\u001b[0m\u001b[0;34m)\u001b[0m \u001b[0;34m*\u001b[0m \u001b[0;36m60\u001b[0m \u001b[0;34m+\u001b[0m \u001b[0mint\u001b[0m\u001b[0;34m(\u001b[0m\u001b[0mtime\u001b[0m\u001b[0;34m[\u001b[0m\u001b[0;36m2\u001b[0m\u001b[0;34m]\u001b[0m\u001b[0;34m)\u001b[0m\u001b[0;34m\u001b[0m\u001b[0;34m\u001b[0m\u001b[0m\n\u001b[1;32m     13\u001b[0m       \u001b[0mtab\u001b[0m\u001b[0;34m.\u001b[0m\u001b[0mappend\u001b[0m\u001b[0;34m(\u001b[0m\u001b[0mtime\u001b[0m\u001b[0;34m)\u001b[0m\u001b[0;34m\u001b[0m\u001b[0;34m\u001b[0m\u001b[0m\n\u001b[0;32m---> 14\u001b[0;31m   \u001b[0mdata\u001b[0m\u001b[0;34m[\u001b[0m\u001b[0mnom\u001b[0m\u001b[0;34m]\u001b[0m \u001b[0;34m=\u001b[0m \u001b[0mtab\u001b[0m\u001b[0;34m\u001b[0m\u001b[0;34m\u001b[0m\u001b[0m\n\u001b[0m\u001b[1;32m     15\u001b[0m   \u001b[0;32mreturn\u001b[0m \u001b[0;32mTrue\u001b[0m\u001b[0;34m\u001b[0m\u001b[0;34m\u001b[0m\u001b[0m\n",
      "\u001b[0;32m/home/moussa/snap/jupyter/common/lib/python3.7/site-packages/pandas/core/frame.py\u001b[0m in \u001b[0;36m__setitem__\u001b[0;34m(self, key, value)\u001b[0m\n\u001b[1;32m   3485\u001b[0m         \u001b[0;32melse\u001b[0m\u001b[0;34m:\u001b[0m\u001b[0;34m\u001b[0m\u001b[0;34m\u001b[0m\u001b[0m\n\u001b[1;32m   3486\u001b[0m             \u001b[0;31m# set column\u001b[0m\u001b[0;34m\u001b[0m\u001b[0;34m\u001b[0m\u001b[0;34m\u001b[0m\u001b[0m\n\u001b[0;32m-> 3487\u001b[0;31m             \u001b[0mself\u001b[0m\u001b[0;34m.\u001b[0m\u001b[0m_set_item\u001b[0m\u001b[0;34m(\u001b[0m\u001b[0mkey\u001b[0m\u001b[0;34m,\u001b[0m \u001b[0mvalue\u001b[0m\u001b[0;34m)\u001b[0m\u001b[0;34m\u001b[0m\u001b[0;34m\u001b[0m\u001b[0m\n\u001b[0m\u001b[1;32m   3488\u001b[0m \u001b[0;34m\u001b[0m\u001b[0m\n\u001b[1;32m   3489\u001b[0m     \u001b[0;32mdef\u001b[0m \u001b[0m_setitem_slice\u001b[0m\u001b[0;34m(\u001b[0m\u001b[0mself\u001b[0m\u001b[0;34m,\u001b[0m \u001b[0mkey\u001b[0m\u001b[0;34m,\u001b[0m \u001b[0mvalue\u001b[0m\u001b[0;34m)\u001b[0m\u001b[0;34m:\u001b[0m\u001b[0;34m\u001b[0m\u001b[0;34m\u001b[0m\u001b[0m\n",
      "\u001b[0;32m/home/moussa/snap/jupyter/common/lib/python3.7/site-packages/pandas/core/frame.py\u001b[0m in \u001b[0;36m_set_item\u001b[0;34m(self, key, value)\u001b[0m\n\u001b[1;32m   3562\u001b[0m \u001b[0;34m\u001b[0m\u001b[0m\n\u001b[1;32m   3563\u001b[0m         \u001b[0mself\u001b[0m\u001b[0;34m.\u001b[0m\u001b[0m_ensure_valid_index\u001b[0m\u001b[0;34m(\u001b[0m\u001b[0mvalue\u001b[0m\u001b[0;34m)\u001b[0m\u001b[0;34m\u001b[0m\u001b[0;34m\u001b[0m\u001b[0m\n\u001b[0;32m-> 3564\u001b[0;31m         \u001b[0mvalue\u001b[0m \u001b[0;34m=\u001b[0m \u001b[0mself\u001b[0m\u001b[0;34m.\u001b[0m\u001b[0m_sanitize_column\u001b[0m\u001b[0;34m(\u001b[0m\u001b[0mkey\u001b[0m\u001b[0;34m,\u001b[0m \u001b[0mvalue\u001b[0m\u001b[0;34m)\u001b[0m\u001b[0;34m\u001b[0m\u001b[0;34m\u001b[0m\u001b[0m\n\u001b[0m\u001b[1;32m   3565\u001b[0m         \u001b[0mNDFrame\u001b[0m\u001b[0;34m.\u001b[0m\u001b[0m_set_item\u001b[0m\u001b[0;34m(\u001b[0m\u001b[0mself\u001b[0m\u001b[0;34m,\u001b[0m \u001b[0mkey\u001b[0m\u001b[0;34m,\u001b[0m \u001b[0mvalue\u001b[0m\u001b[0;34m)\u001b[0m\u001b[0;34m\u001b[0m\u001b[0;34m\u001b[0m\u001b[0m\n\u001b[1;32m   3566\u001b[0m \u001b[0;34m\u001b[0m\u001b[0m\n",
      "\u001b[0;32m/home/moussa/snap/jupyter/common/lib/python3.7/site-packages/pandas/core/frame.py\u001b[0m in \u001b[0;36m_sanitize_column\u001b[0;34m(self, key, value, broadcast)\u001b[0m\n\u001b[1;32m   3747\u001b[0m \u001b[0;34m\u001b[0m\u001b[0m\n\u001b[1;32m   3748\u001b[0m             \u001b[0;31m# turn me into an ndarray\u001b[0m\u001b[0;34m\u001b[0m\u001b[0;34m\u001b[0m\u001b[0;34m\u001b[0m\u001b[0m\n\u001b[0;32m-> 3749\u001b[0;31m             \u001b[0mvalue\u001b[0m \u001b[0;34m=\u001b[0m \u001b[0msanitize_index\u001b[0m\u001b[0;34m(\u001b[0m\u001b[0mvalue\u001b[0m\u001b[0;34m,\u001b[0m \u001b[0mself\u001b[0m\u001b[0;34m.\u001b[0m\u001b[0mindex\u001b[0m\u001b[0;34m,\u001b[0m \u001b[0mcopy\u001b[0m\u001b[0;34m=\u001b[0m\u001b[0;32mFalse\u001b[0m\u001b[0;34m)\u001b[0m\u001b[0;34m\u001b[0m\u001b[0;34m\u001b[0m\u001b[0m\n\u001b[0m\u001b[1;32m   3750\u001b[0m             \u001b[0;32mif\u001b[0m \u001b[0;32mnot\u001b[0m \u001b[0misinstance\u001b[0m\u001b[0;34m(\u001b[0m\u001b[0mvalue\u001b[0m\u001b[0;34m,\u001b[0m \u001b[0;34m(\u001b[0m\u001b[0mnp\u001b[0m\u001b[0;34m.\u001b[0m\u001b[0mndarray\u001b[0m\u001b[0;34m,\u001b[0m \u001b[0mIndex\u001b[0m\u001b[0;34m)\u001b[0m\u001b[0;34m)\u001b[0m\u001b[0;34m:\u001b[0m\u001b[0;34m\u001b[0m\u001b[0;34m\u001b[0m\u001b[0m\n\u001b[1;32m   3751\u001b[0m                 \u001b[0;32mif\u001b[0m \u001b[0misinstance\u001b[0m\u001b[0;34m(\u001b[0m\u001b[0mvalue\u001b[0m\u001b[0;34m,\u001b[0m \u001b[0mlist\u001b[0m\u001b[0;34m)\u001b[0m \u001b[0;32mand\u001b[0m \u001b[0mlen\u001b[0m\u001b[0;34m(\u001b[0m\u001b[0mvalue\u001b[0m\u001b[0;34m)\u001b[0m \u001b[0;34m>\u001b[0m \u001b[0;36m0\u001b[0m\u001b[0;34m:\u001b[0m\u001b[0;34m\u001b[0m\u001b[0;34m\u001b[0m\u001b[0m\n",
      "\u001b[0;32m/home/moussa/snap/jupyter/common/lib/python3.7/site-packages/pandas/core/internals/construction.py\u001b[0m in \u001b[0;36msanitize_index\u001b[0;34m(data, index, copy)\u001b[0m\n\u001b[1;32m    610\u001b[0m \u001b[0;34m\u001b[0m\u001b[0m\n\u001b[1;32m    611\u001b[0m     \u001b[0;32mif\u001b[0m \u001b[0mlen\u001b[0m\u001b[0;34m(\u001b[0m\u001b[0mdata\u001b[0m\u001b[0;34m)\u001b[0m \u001b[0;34m!=\u001b[0m \u001b[0mlen\u001b[0m\u001b[0;34m(\u001b[0m\u001b[0mindex\u001b[0m\u001b[0;34m)\u001b[0m\u001b[0;34m:\u001b[0m\u001b[0;34m\u001b[0m\u001b[0;34m\u001b[0m\u001b[0m\n\u001b[0;32m--> 612\u001b[0;31m         \u001b[0;32mraise\u001b[0m \u001b[0mValueError\u001b[0m\u001b[0;34m(\u001b[0m\u001b[0;34m\"Length of values does not match length of index\"\u001b[0m\u001b[0;34m)\u001b[0m\u001b[0;34m\u001b[0m\u001b[0;34m\u001b[0m\u001b[0m\n\u001b[0m\u001b[1;32m    613\u001b[0m \u001b[0;34m\u001b[0m\u001b[0m\n\u001b[1;32m    614\u001b[0m     \u001b[0;32mif\u001b[0m \u001b[0misinstance\u001b[0m\u001b[0;34m(\u001b[0m\u001b[0mdata\u001b[0m\u001b[0;34m,\u001b[0m \u001b[0mABCIndexClass\u001b[0m\u001b[0;34m)\u001b[0m \u001b[0;32mand\u001b[0m \u001b[0;32mnot\u001b[0m \u001b[0mcopy\u001b[0m\u001b[0;34m:\u001b[0m\u001b[0;34m\u001b[0m\u001b[0;34m\u001b[0m\u001b[0m\n",
      "\u001b[0;31mValueError\u001b[0m: Length of values does not match length of index"
     ]
    }
   ],
   "source": [
    "convert_time24(\"Placement - Time\",data2[\"Placement - Time\"])\n",
    "convert_time24(\"Confirmation - Time\",data2[\"Confirmation - Time\"])\n",
    "convert_time24(\"Arrival at Pickup - Time\",data2[\"Arrival at Pickup - Time\"])\n",
    "convert_time24(\"Pickup - Time\",data2[\"Pickup - Time\"])\n",
    "#convert_time24(\"Arrival at Destination - Time\",data2[\"Arrival at Destination - Time\"])"
   ]
  },
  {
   "cell_type": "code",
   "execution_count": 45,
   "metadata": {},
   "outputs": [
    {
     "data": {
      "text/plain": [
       "{'Arrival at Destination - Day of Month',\n",
       " 'Arrival at Destination - Time',\n",
       " 'Arrival at Destination - Weekday (Mo = 1)',\n",
       " 'Business',\n",
       " 'Personal',\n",
       " 'Platform Type1',\n",
       " 'Platform Type2',\n",
       " 'Platform Type3',\n",
       " 'Platform Type4',\n",
       " 'Time from Pickup to Arrival',\n",
       " 'placement_month1',\n",
       " 'placement_month10',\n",
       " 'placement_month11',\n",
       " 'placement_month12',\n",
       " 'placement_month13',\n",
       " 'placement_month14',\n",
       " 'placement_month15',\n",
       " 'placement_month16',\n",
       " 'placement_month17',\n",
       " 'placement_month18',\n",
       " 'placement_month19',\n",
       " 'placement_month2',\n",
       " 'placement_month20',\n",
       " 'placement_month21',\n",
       " 'placement_month22',\n",
       " 'placement_month23',\n",
       " 'placement_month24',\n",
       " 'placement_month25',\n",
       " 'placement_month26',\n",
       " 'placement_month27',\n",
       " 'placement_month28',\n",
       " 'placement_month29',\n",
       " 'placement_month3',\n",
       " 'placement_month30',\n",
       " 'placement_month31',\n",
       " 'placement_month4',\n",
       " 'placement_month5',\n",
       " 'placement_month6',\n",
       " 'placement_month7',\n",
       " 'placement_month8',\n",
       " 'placement_month9',\n",
       " 'placement_weekday1',\n",
       " 'placement_weekday2',\n",
       " 'placement_weekday3',\n",
       " 'placement_weekday4',\n",
       " 'placement_weekday5',\n",
       " 'placement_weekday6',\n",
       " 'placement_weekday7'}"
      ]
     },
     "execution_count": 45,
     "metadata": {},
     "output_type": "execute_result"
    }
   ],
   "source": [
    "set(data.columns) - set(data2.columns)"
   ]
  },
  {
   "cell_type": "code",
   "execution_count": null,
   "metadata": {},
   "outputs": [],
   "source": []
  },
  {
   "cell_type": "code",
   "execution_count": null,
   "metadata": {},
   "outputs": [],
   "source": []
  },
  {
   "cell_type": "markdown",
   "metadata": {},
   "source": [
    "# A RECHERCHER"
   ]
  },
  {
   "cell_type": "code",
   "execution_count": 46,
   "metadata": {},
   "outputs": [
    {
     "ename": "ModuleNotFoundError",
     "evalue": "No module named 'missongno'",
     "output_type": "error",
     "traceback": [
      "\u001b[0;31m---------------------------------------------------------------------------\u001b[0m",
      "\u001b[0;31mModuleNotFoundError\u001b[0m                       Traceback (most recent call last)",
      "\u001b[0;32m<ipython-input-46-49375779df21>\u001b[0m in \u001b[0;36m<module>\u001b[0;34m\u001b[0m\n\u001b[1;32m      1\u001b[0m \u001b[0;32mimport\u001b[0m \u001b[0mpandas_profiling\u001b[0m \u001b[0;31m# faire la correlation et autres infos\u001b[0m\u001b[0;34m\u001b[0m\u001b[0;34m\u001b[0m\u001b[0m\n\u001b[0;32m----> 2\u001b[0;31m \u001b[0;32mimport\u001b[0m \u001b[0mmissongno\u001b[0m \u001b[0;32mas\u001b[0m \u001b[0mmsno\u001b[0m \u001b[0;31m# donnees manquantes\u001b[0m\u001b[0;34m\u001b[0m\u001b[0;34m\u001b[0m\u001b[0m\n\u001b[0m\u001b[1;32m      3\u001b[0m \u001b[0;32mfrom\u001b[0m \u001b[0mdython\u001b[0m \u001b[0;32mimport\u001b[0m \u001b[0mdistance\u001b[0m\u001b[0;34m\u001b[0m\u001b[0;34m\u001b[0m\u001b[0m\n",
      "\u001b[0;31mModuleNotFoundError\u001b[0m: No module named 'missongno'"
     ]
    }
   ],
   "source": [
    "import pandas_profiling # faire la correlation et autres infos\n",
    "import missongno as msno # donnees manquantes\n",
    "from dython import distance"
   ]
  },
  {
   "cell_type": "code",
   "execution_count": 48,
   "metadata": {},
   "outputs": [
    {
     "name": "stdout",
     "output_type": "stream",
     "text": [
      "Collecting missongno\n",
      "\u001b[31m  ERROR: Could not find a version that satisfies the requirement missongno (from versions: none)\u001b[0m\n",
      "\u001b[31mERROR: No matching distribution found for missongno\u001b[0m\n"
     ]
    }
   ],
   "source": [
    "!pip install missongno"
   ]
  },
  {
   "cell_type": "code",
   "execution_count": null,
   "metadata": {},
   "outputs": [],
   "source": []
  }
 ],
 "metadata": {
  "colab": {
   "collapsed_sections": [],
   "name": "zindi002_rlm.ipynb",
   "provenance": []
  },
  "kernelspec": {
   "display_name": "Python 3",
   "language": "python",
   "name": "python3"
  },
  "language_info": {
   "codemirror_mode": {
    "name": "ipython",
    "version": 3
   },
   "file_extension": ".py",
   "mimetype": "text/x-python",
   "name": "python",
   "nbconvert_exporter": "python",
   "pygments_lexer": "ipython3",
   "version": "3.7.3"
  }
 },
 "nbformat": 4,
 "nbformat_minor": 1
}
