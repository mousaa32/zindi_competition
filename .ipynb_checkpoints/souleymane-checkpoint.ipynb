{
 "cells": [
  {
   "cell_type": "code",
   "execution_count": 440,
   "metadata": {},
   "outputs": [],
   "source": [
    "import pandas as pd\n",
    "import numpy as np\n",
    "from collections import Counter\n",
    "import matplotlib.pyplot as plt\n",
    "from sklearn.neighbors import KNeighborsClassifier\n",
    "from sklearn.neighbors import KNeighborsRegressor\n",
    "from sklearn.linear_model import LinearRegression\n",
    "from sklearn.model_selection import train_test_split\n",
    "from sklearn.metrics import mean_squared_error as rmse\n",
    "import statsmodels.api as sm\n",
    "from scipy import stats\n",
    "from math import *"
   ]
  },
  {
   "cell_type": "code",
   "execution_count": 441,
   "metadata": {},
   "outputs": [],
   "source": [
    "data1 = pd.read_csv(\"/home/fatou/Bureau/zindi/Train.csv\")\n",
    "data2 = pd.read_csv(\"/home/fatou/Bureau/zindi/Test.csv\")\n",
    "data3 = pd.read_csv(\"/home/fatou/Bureau/zindi/Riders.csv\")"
   ]
  },
  {
   "cell_type": "code",
   "execution_count": null,
   "metadata": {},
   "outputs": [],
   "source": []
  },
  {
   "cell_type": "code",
   "execution_count": null,
   "metadata": {},
   "outputs": [],
   "source": []
  },
  {
   "cell_type": "markdown",
   "metadata": {},
   "source": [
    "\n",
    "\n",
    "\n",
    "\n",
    "\n",
    "# 1er knn "
   ]
  },
  {
   "cell_type": "code",
   "execution_count": 442,
   "metadata": {},
   "outputs": [],
   "source": [
    "train=data1.drop(columns='Precipitation in millimeters',axis = 1)\n",
    "train['Personal or Business']=train['Personal or Business'].replace(\"Personal\",\"1\")\n",
    "train['Personal or Business']=train['Personal or Business'].replace(\"Business\",\"2\")\n",
    "train = pd.merge(train, data3, how='left', left_on='Rider Id', right_on='Rider Id', left_index=True)\n",
    "train=train.fillna(23.26)"
   ]
  },
  {
   "cell_type": "code",
   "execution_count": null,
   "metadata": {},
   "outputs": [],
   "source": []
  },
  {
   "cell_type": "code",
   "execution_count": 443,
   "metadata": {},
   "outputs": [],
   "source": [
    "train=train[['Distance (KM)','Pickup Lat','Pickup Long','Destination Lat','Destination Long','Time from Pickup to Arrival','Average_Rating','Age']]"
   ]
  },
  {
   "cell_type": "code",
   "execution_count": 444,
   "metadata": {},
   "outputs": [],
   "source": [
    "x = train.drop(columns='Time from Pickup to Arrival',axis = 1)\n",
    "y = train['Time from Pickup to Arrival']\n",
    "X_train, X_test, y_train, y_test = train_test_split(x,y, test_size=0.2)\n"
   ]
  },
  {
   "cell_type": "code",
   "execution_count": 445,
   "metadata": {},
   "outputs": [
    {
     "name": "stdout",
     "output_type": "stream",
     "text": [
      "(4241, 7)\n",
      "(16960, 7)\n"
     ]
    }
   ],
   "source": [
    "print(X_test.shape)\n",
    "print(X_train.shape)\n"
   ]
  },
  {
   "cell_type": "code",
   "execution_count": 446,
   "metadata": {},
   "outputs": [],
   "source": [
    "K=[]\n",
    "L=[]\n",
    "for i in range(1,25,3):\n",
    "    knn=KNeighborsRegressor(n_neighbors=i)\n",
    "    knn.fit(X_train, y_train)\n",
    "    K.append(i)\n",
    "    L.append(knn.score(X_train,y_train))\n",
    "#plt.plot(L)"
   ]
  },
  {
   "cell_type": "code",
   "execution_count": 447,
   "metadata": {},
   "outputs": [
    {
     "data": {
      "text/html": [
       "<div>\n",
       "<style scoped>\n",
       "    .dataframe tbody tr th:only-of-type {\n",
       "        vertical-align: middle;\n",
       "    }\n",
       "\n",
       "    .dataframe tbody tr th {\n",
       "        vertical-align: top;\n",
       "    }\n",
       "\n",
       "    .dataframe thead th {\n",
       "        text-align: right;\n",
       "    }\n",
       "</style>\n",
       "<table border=\"1\" class=\"dataframe\">\n",
       "  <thead>\n",
       "    <tr style=\"text-align: right;\">\n",
       "      <th></th>\n",
       "      <th>0</th>\n",
       "    </tr>\n",
       "  </thead>\n",
       "  <tbody>\n",
       "    <tr>\n",
       "      <th>1</th>\n",
       "      <td>0.979351</td>\n",
       "    </tr>\n",
       "    <tr>\n",
       "      <th>4</th>\n",
       "      <td>0.562199</td>\n",
       "    </tr>\n",
       "    <tr>\n",
       "      <th>7</th>\n",
       "      <td>0.490169</td>\n",
       "    </tr>\n",
       "    <tr>\n",
       "      <th>10</th>\n",
       "      <td>0.454228</td>\n",
       "    </tr>\n",
       "    <tr>\n",
       "      <th>13</th>\n",
       "      <td>0.430299</td>\n",
       "    </tr>\n",
       "    <tr>\n",
       "      <th>16</th>\n",
       "      <td>0.411340</td>\n",
       "    </tr>\n",
       "    <tr>\n",
       "      <th>19</th>\n",
       "      <td>0.399182</td>\n",
       "    </tr>\n",
       "    <tr>\n",
       "      <th>22</th>\n",
       "      <td>0.388710</td>\n",
       "    </tr>\n",
       "  </tbody>\n",
       "</table>\n",
       "</div>"
      ],
      "text/plain": [
       "           0\n",
       "1   0.979351\n",
       "4   0.562199\n",
       "7   0.490169\n",
       "10  0.454228\n",
       "13  0.430299\n",
       "16  0.411340\n",
       "19  0.399182\n",
       "22  0.388710"
      ]
     },
     "execution_count": 447,
     "metadata": {},
     "output_type": "execute_result"
    }
   ],
   "source": [
    "pd.DataFrame(L,K)"
   ]
  },
  {
   "cell_type": "code",
   "execution_count": 448,
   "metadata": {},
   "outputs": [
    {
     "name": "stdout",
     "output_type": "stream",
     "text": [
      "score: 0.4901688347459828\n"
     ]
    }
   ],
   "source": [
    "knn=KNeighborsRegressor(n_neighbors=7)\n",
    "knn.fit(X_train, y_train)\n",
    "print(\"score:\",knn.score(X_train,y_train))\n"
   ]
  },
  {
   "cell_type": "code",
   "execution_count": null,
   "metadata": {},
   "outputs": [],
   "source": []
  },
  {
   "cell_type": "code",
   "execution_count": 449,
   "metadata": {},
   "outputs": [
    {
     "name": "stdout",
     "output_type": "stream",
     "text": [
      "     exact       predit\n",
      "650   1543   693.571429\n",
      "778    817   853.142857\n",
      "382    886  1523.000000\n",
      "71    3705  1807.142857\n",
      "101   2764  2737.571429\n"
     ]
    }
   ],
   "source": [
    "y_predi=knn.predict(X_test)\n",
    "comparaison=pd.DataFrame()\n",
    "comparaison['exact'] = y_test\n",
    "comparaison['predit'] = y_predi\n",
    "print(comparaison.head())"
   ]
  },
  {
   "cell_type": "code",
   "execution_count": 450,
   "metadata": {},
   "outputs": [
    {
     "name": "stdout",
     "output_type": "stream",
     "text": [
      "rmse:  825.9918868456693\n"
     ]
    }
   ],
   "source": [
    "print(\"rmse: \",sqrt(rmse(y_test,y_predi)))\n"
   ]
  },
  {
   "cell_type": "code",
   "execution_count": 451,
   "metadata": {},
   "outputs": [],
   "source": [
    "data2['Personal or Business'] = data2['Personal or Business'].replace(\"Personal\",int(\"1\"))\n",
    "data2['Personal or Business'] = data2['Personal or Business'].replace(\"Business\",int(\"2\"))\n",
    "\n",
    "test = pd.merge(data2, data3, how='left', left_on='Rider Id', right_on='Rider Id', left_index=True)\n",
    "\n",
    "test=test[['Distance (KM)','Pickup Lat','Pickup Long','Destination Lat','Destination Long','Average_Rating','Age']]"
   ]
  },
  {
   "cell_type": "code",
   "execution_count": 452,
   "metadata": {},
   "outputs": [
    {
     "data": {
      "text/plain": [
       "4651.0"
      ]
     },
     "execution_count": 452,
     "metadata": {},
     "output_type": "execute_result"
    }
   ],
   "source": [
    "y_predi1=knn.predict(test)\n",
    "comparaison=pd.DataFrame()\n",
    "y_predi1.max()"
   ]
  },
  {
   "cell_type": "code",
   "execution_count": 453,
   "metadata": {},
   "outputs": [
    {
     "data": {
      "text/plain": [
       "1"
      ]
     },
     "execution_count": 453,
     "metadata": {},
     "output_type": "execute_result"
    }
   ],
   "source": [
    "data1[\"Time from Pickup to Arrival\"].min()"
   ]
  },
  {
   "cell_type": "code",
   "execution_count": 454,
   "metadata": {},
   "outputs": [],
   "source": [
    "sample=pd.read_csv('/home/fatou/Bureau/zindi/SampleSubmission.csv')\n",
    "sample['Time from Pickup to Arrival']= y_predi1"
   ]
  },
  {
   "cell_type": "code",
   "execution_count": 457,
   "metadata": {},
   "outputs": [],
   "source": [
    "sample.to_csv('/home/fatou/Bureau/zindi/samplek.csv')"
   ]
  },
  {
   "cell_type": "code",
   "execution_count": null,
   "metadata": {},
   "outputs": [],
   "source": []
  },
  {
   "cell_type": "code",
   "execution_count": null,
   "metadata": {},
   "outputs": [],
   "source": []
  },
  {
   "cell_type": "code",
   "execution_count": null,
   "metadata": {},
   "outputs": [],
   "source": []
  },
  {
   "cell_type": "code",
   "execution_count": null,
   "metadata": {},
   "outputs": [],
   "source": []
  },
  {
   "cell_type": "code",
   "execution_count": null,
   "metadata": {},
   "outputs": [],
   "source": []
  },
  {
   "cell_type": "markdown",
   "metadata": {},
   "source": [
    "# 2em regression\n"
   ]
  },
  {
   "cell_type": "code",
   "execution_count": null,
   "metadata": {},
   "outputs": [],
   "source": [
    "train=data1.drop(columns='Precipitation in millimeters',axis = 1)\n"
   ]
  },
  {
   "cell_type": "code",
   "execution_count": null,
   "metadata": {},
   "outputs": [],
   "source": [
    "train['Personal or Business']=train['Personal or Business'].replace(\"Personal\",\"1\")\n",
    "train['Personal or Business']=train['Personal or Business'].replace(\"Business\",\"2\")\n"
   ]
  },
  {
   "cell_type": "code",
   "execution_count": null,
   "metadata": {},
   "outputs": [],
   "source": [
    "train=train[['Personal or Business','Distance (KM)','Pickup Lat','Pickup Long','Destination Lat','Destination Long','Time from Pickup to Arrival']]"
   ]
  },
  {
   "cell_type": "code",
   "execution_count": null,
   "metadata": {},
   "outputs": [],
   "source": [
    "train.shape\n",
    "train=train.fillna(23.26)"
   ]
  },
  {
   "cell_type": "code",
   "execution_count": null,
   "metadata": {},
   "outputs": [],
   "source": [
    "\n",
    "x = train.drop(columns='Time from Pickup to Arrival',axis = 1)\n",
    "y = train['Time from Pickup to Arrival']"
   ]
  },
  {
   "cell_type": "code",
   "execution_count": null,
   "metadata": {},
   "outputs": [],
   "source": [
    "X_train, X_test, y_train, y_test = train_test_split(x,y, test_size=0.8)"
   ]
  },
  {
   "cell_type": "code",
   "execution_count": null,
   "metadata": {},
   "outputs": [],
   "source": [
    "reg = LinearRegression()\n",
    "reg.fit(X_train, y_train)\n",
    "print(\"coefficient: \",reg.coef_)\n",
    "print(\"intercept: \",reg.intercept_)\n",
    "print(\"score:\",reg.score(X_train,y_train))"
   ]
  },
  {
   "cell_type": "code",
   "execution_count": null,
   "metadata": {},
   "outputs": [],
   "source": [
    "y_predi=reg.predict(X_test)\n",
    "comparaison=pd.DataFrame()\n",
    "comparaison['exact'] = y_test\n",
    "comparaison['predit'] = y_predi\n",
    "print(comparaison.head())"
   ]
  },
  {
   "cell_type": "code",
   "execution_count": null,
   "metadata": {},
   "outputs": [],
   "source": [
    "print(\"rmse: \",sqrt(rmse(y_test,y_predi)))\n"
   ]
  },
  {
   "cell_type": "code",
   "execution_count": null,
   "metadata": {},
   "outputs": [],
   "source": [
    "data2['Personal or Business'] = data2['Personal or Business'].replace(\"Personal\",int(\"1\"))\n",
    "data2['Personal or Business'] = data2['Personal or Business'].replace(\"Business\",int(\"2\"))\n",
    "\n",
    "test = pd.merge(data2, data3, how='left', left_on='Rider Id', right_on='Rider Id', left_index=True)\n",
    "\n",
    "test = test[['Distance (KM)','Average_Rating','Age']]\n"
   ]
  },
  {
   "cell_type": "markdown",
   "metadata": {},
   "source": [
    "# bon model"
   ]
  },
  {
   "cell_type": "code",
   "execution_count": null,
   "metadata": {},
   "outputs": [],
   "source": []
  },
  {
   "cell_type": "code",
   "execution_count": 214,
   "metadata": {},
   "outputs": [],
   "source": [
    "\n",
    "train = data1.drop(columns = 'Precipitation in millimeters',axis = 1)\n",
    "train['Personal or Business'] = train['Personal or Business'].replace(\"Personal\",int(\"1\"))\n",
    "train['Personal or Business'] = train['Personal or Business'].replace(\"Business\",int(\"2\"))\n",
    "train = pd.merge(train, data3, how='left', left_on='Rider Id', right_on='Rider Id', left_index=True)\n"
   ]
  },
  {
   "cell_type": "code",
   "execution_count": 215,
   "metadata": {},
   "outputs": [
    {
     "data": {
      "text/html": [
       "<div>\n",
       "<style scoped>\n",
       "    .dataframe tbody tr th:only-of-type {\n",
       "        vertical-align: middle;\n",
       "    }\n",
       "\n",
       "    .dataframe tbody tr th {\n",
       "        vertical-align: top;\n",
       "    }\n",
       "\n",
       "    .dataframe thead th {\n",
       "        text-align: right;\n",
       "    }\n",
       "</style>\n",
       "<table border=\"1\" class=\"dataframe\">\n",
       "  <thead>\n",
       "    <tr style=\"text-align: right;\">\n",
       "      <th></th>\n",
       "      <th>Order No</th>\n",
       "      <th>User Id</th>\n",
       "      <th>Vehicle Type</th>\n",
       "      <th>Platform Type</th>\n",
       "      <th>Personal or Business</th>\n",
       "      <th>Placement - Day of Month</th>\n",
       "      <th>Placement - Weekday (Mo = 1)</th>\n",
       "      <th>Placement - Time</th>\n",
       "      <th>Confirmation - Day of Month</th>\n",
       "      <th>Confirmation - Weekday (Mo = 1)</th>\n",
       "      <th>...</th>\n",
       "      <th>Pickup Lat</th>\n",
       "      <th>Pickup Long</th>\n",
       "      <th>Destination Lat</th>\n",
       "      <th>Destination Long</th>\n",
       "      <th>Rider Id</th>\n",
       "      <th>Time from Pickup to Arrival</th>\n",
       "      <th>No_Of_Orders</th>\n",
       "      <th>Age</th>\n",
       "      <th>Average_Rating</th>\n",
       "      <th>No_of_Ratings</th>\n",
       "    </tr>\n",
       "  </thead>\n",
       "  <tbody>\n",
       "    <tr>\n",
       "      <th>27</th>\n",
       "      <td>Order_No_4211</td>\n",
       "      <td>User_Id_633</td>\n",
       "      <td>Bike</td>\n",
       "      <td>3</td>\n",
       "      <td>2</td>\n",
       "      <td>9</td>\n",
       "      <td>5</td>\n",
       "      <td>9:35:46 AM</td>\n",
       "      <td>9</td>\n",
       "      <td>5</td>\n",
       "      <td>...</td>\n",
       "      <td>-1.317755</td>\n",
       "      <td>36.830370</td>\n",
       "      <td>-1.300406</td>\n",
       "      <td>36.829741</td>\n",
       "      <td>Rider_Id_432</td>\n",
       "      <td>745</td>\n",
       "      <td>1637</td>\n",
       "      <td>1309</td>\n",
       "      <td>13.8</td>\n",
       "      <td>549</td>\n",
       "    </tr>\n",
       "    <tr>\n",
       "      <th>739</th>\n",
       "      <td>Order_No_25375</td>\n",
       "      <td>User_Id_2285</td>\n",
       "      <td>Bike</td>\n",
       "      <td>3</td>\n",
       "      <td>1</td>\n",
       "      <td>12</td>\n",
       "      <td>5</td>\n",
       "      <td>11:16:16 AM</td>\n",
       "      <td>12</td>\n",
       "      <td>5</td>\n",
       "      <td>...</td>\n",
       "      <td>-1.351453</td>\n",
       "      <td>36.899315</td>\n",
       "      <td>-1.295004</td>\n",
       "      <td>36.814358</td>\n",
       "      <td>Rider_Id_856</td>\n",
       "      <td>1993</td>\n",
       "      <td>396</td>\n",
       "      <td>339</td>\n",
       "      <td>13.6</td>\n",
       "      <td>69</td>\n",
       "    </tr>\n",
       "    <tr>\n",
       "      <th>851</th>\n",
       "      <td>Order_No_1899</td>\n",
       "      <td>User_Id_265</td>\n",
       "      <td>Bike</td>\n",
       "      <td>3</td>\n",
       "      <td>2</td>\n",
       "      <td>30</td>\n",
       "      <td>2</td>\n",
       "      <td>12:39:25 PM</td>\n",
       "      <td>30</td>\n",
       "      <td>2</td>\n",
       "      <td>...</td>\n",
       "      <td>-1.308284</td>\n",
       "      <td>36.843419</td>\n",
       "      <td>-1.300921</td>\n",
       "      <td>36.828195</td>\n",
       "      <td>Rider_Id_155</td>\n",
       "      <td>455</td>\n",
       "      <td>1023</td>\n",
       "      <td>242</td>\n",
       "      <td>12.5</td>\n",
       "      <td>114</td>\n",
       "    </tr>\n",
       "    <tr>\n",
       "      <th>806</th>\n",
       "      <td>Order_No_9336</td>\n",
       "      <td>User_Id_1402</td>\n",
       "      <td>Bike</td>\n",
       "      <td>3</td>\n",
       "      <td>2</td>\n",
       "      <td>15</td>\n",
       "      <td>5</td>\n",
       "      <td>9:25:34 AM</td>\n",
       "      <td>15</td>\n",
       "      <td>5</td>\n",
       "      <td>...</td>\n",
       "      <td>-1.281301</td>\n",
       "      <td>36.832396</td>\n",
       "      <td>-1.257147</td>\n",
       "      <td>36.795063</td>\n",
       "      <td>Rider_Id_855</td>\n",
       "      <td>1341</td>\n",
       "      <td>886</td>\n",
       "      <td>283</td>\n",
       "      <td>14.5</td>\n",
       "      <td>113</td>\n",
       "    </tr>\n",
       "    <tr>\n",
       "      <th>159</th>\n",
       "      <td>Order_No_27883</td>\n",
       "      <td>User_Id_1737</td>\n",
       "      <td>Bike</td>\n",
       "      <td>1</td>\n",
       "      <td>1</td>\n",
       "      <td>13</td>\n",
       "      <td>1</td>\n",
       "      <td>9:55:18 AM</td>\n",
       "      <td>13</td>\n",
       "      <td>1</td>\n",
       "      <td>...</td>\n",
       "      <td>-1.266597</td>\n",
       "      <td>36.792118</td>\n",
       "      <td>-1.295041</td>\n",
       "      <td>36.809817</td>\n",
       "      <td>Rider_Id_770</td>\n",
       "      <td>1214</td>\n",
       "      <td>2311</td>\n",
       "      <td>872</td>\n",
       "      <td>14.1</td>\n",
       "      <td>533</td>\n",
       "    </tr>\n",
       "  </tbody>\n",
       "</table>\n",
       "<p>5 rows × 32 columns</p>\n",
       "</div>"
      ],
      "text/plain": [
       "           Order No       User Id Vehicle Type  Platform Type  \\\n",
       "27    Order_No_4211   User_Id_633         Bike              3   \n",
       "739  Order_No_25375  User_Id_2285         Bike              3   \n",
       "851   Order_No_1899   User_Id_265         Bike              3   \n",
       "806   Order_No_9336  User_Id_1402         Bike              3   \n",
       "159  Order_No_27883  User_Id_1737         Bike              1   \n",
       "\n",
       "     Personal or Business  Placement - Day of Month  \\\n",
       "27                      2                         9   \n",
       "739                     1                        12   \n",
       "851                     2                        30   \n",
       "806                     2                        15   \n",
       "159                     1                        13   \n",
       "\n",
       "     Placement - Weekday (Mo = 1) Placement - Time  \\\n",
       "27                              5       9:35:46 AM   \n",
       "739                             5      11:16:16 AM   \n",
       "851                             2      12:39:25 PM   \n",
       "806                             5       9:25:34 AM   \n",
       "159                             1       9:55:18 AM   \n",
       "\n",
       "     Confirmation - Day of Month  Confirmation - Weekday (Mo = 1)  \\\n",
       "27                             9                                5   \n",
       "739                           12                                5   \n",
       "851                           30                                2   \n",
       "806                           15                                5   \n",
       "159                           13                                1   \n",
       "\n",
       "         ...      Pickup Lat  Pickup Long  Destination Lat Destination Long  \\\n",
       "27       ...       -1.317755    36.830370        -1.300406        36.829741   \n",
       "739      ...       -1.351453    36.899315        -1.295004        36.814358   \n",
       "851      ...       -1.308284    36.843419        -1.300921        36.828195   \n",
       "806      ...       -1.281301    36.832396        -1.257147        36.795063   \n",
       "159      ...       -1.266597    36.792118        -1.295041        36.809817   \n",
       "\n",
       "         Rider Id  Time from Pickup to Arrival No_Of_Orders   Age  \\\n",
       "27   Rider_Id_432                          745         1637  1309   \n",
       "739  Rider_Id_856                         1993          396   339   \n",
       "851  Rider_Id_155                          455         1023   242   \n",
       "806  Rider_Id_855                         1341          886   283   \n",
       "159  Rider_Id_770                         1214         2311   872   \n",
       "\n",
       "     Average_Rating No_of_Ratings  \n",
       "27             13.8           549  \n",
       "739            13.6            69  \n",
       "851            12.5           114  \n",
       "806            14.5           113  \n",
       "159            14.1           533  \n",
       "\n",
       "[5 rows x 32 columns]"
      ]
     },
     "execution_count": 215,
     "metadata": {},
     "output_type": "execute_result"
    }
   ],
   "source": [
    "train.head()"
   ]
  },
  {
   "cell_type": "code",
   "execution_count": 216,
   "metadata": {},
   "outputs": [],
   "source": [
    "train = train[['Distance (KM)','Time from Pickup to Arrival','Average_Rating','Age']]"
   ]
  },
  {
   "cell_type": "code",
   "execution_count": null,
   "metadata": {},
   "outputs": [],
   "source": []
  },
  {
   "cell_type": "code",
   "execution_count": 217,
   "metadata": {},
   "outputs": [],
   "source": [
    "x = train.drop(columns='Time from Pickup to Arrival',axis = 1)\n",
    "y = train['Time from Pickup to Arrival']"
   ]
  },
  {
   "cell_type": "code",
   "execution_count": 218,
   "metadata": {},
   "outputs": [],
   "source": [
    "X_train, X_test, y_train, y_test = train_test_split(x,y, test_size=0.3)"
   ]
  },
  {
   "cell_type": "code",
   "execution_count": 219,
   "metadata": {},
   "outputs": [
    {
     "name": "stdout",
     "output_type": "stream",
     "text": [
      "(14840, 3)\n",
      "(6361, 3)\n"
     ]
    }
   ],
   "source": [
    "print(X_train.shape)\n",
    "print(X_test.shape)"
   ]
  },
  {
   "cell_type": "code",
   "execution_count": 220,
   "metadata": {},
   "outputs": [
    {
     "name": "stdout",
     "output_type": "stream",
     "text": [
      "coefficient:  [ 1.00827246e+02 -3.98323591e+01 -4.00626730e-02]\n",
      "intercept:  1194.2677280285752\n",
      "score: 0.3340118748499179\n",
      "                                 OLS Regression Results                                \n",
      "=======================================================================================\n",
      "Dep. Variable:     Time from Pickup to Arrival   R-squared:                       0.334\n",
      "Model:                                     OLS   Adj. R-squared:                  0.334\n",
      "Method:                          Least Squares   F-statistic:                     2480.\n",
      "Date:                         Wed, 06 Nov 2019   Prob (F-statistic):               0.00\n",
      "Time:                                 12:54:13   Log-Likelihood:            -1.2043e+05\n",
      "No. Observations:                        14840   AIC:                         2.409e+05\n",
      "Df Residuals:                            14836   BIC:                         2.409e+05\n",
      "Df Model:                                    3                                         \n",
      "Covariance Type:                     nonrobust                                         \n",
      "==================================================================================\n",
      "                     coef    std err          t      P>|t|      [0.025      0.975]\n",
      "----------------------------------------------------------------------------------\n",
      "const           1194.2677     97.253     12.280      0.000    1003.640    1384.896\n",
      "Distance (KM)    100.8272      1.173     85.965      0.000      98.528     103.126\n",
      "Average_Rating   -39.8324      6.895     -5.777      0.000     -53.348     -26.317\n",
      "Age               -0.0401      0.010     -3.907      0.000      -0.060      -0.020\n",
      "==============================================================================\n",
      "Omnibus:                     5168.535   Durbin-Watson:                   2.013\n",
      "Prob(Omnibus):                  0.000   Jarque-Bera (JB):            25647.317\n",
      "Skew:                           1.616   Prob(JB):                         0.00\n",
      "Kurtosis:                       8.570   Cond. No.                     1.73e+04\n",
      "==============================================================================\n",
      "\n",
      "Warnings:\n",
      "[1] Standard Errors assume that the covariance matrix of the errors is correctly specified.\n",
      "[2] The condition number is large, 1.73e+04. This might indicate that there are\n",
      "strong multicollinearity or other numerical problems.\n"
     ]
    }
   ],
   "source": [
    "reg = LinearRegression()\n",
    "reg.fit(X_train, y_train)\n",
    "print(\"coefficient: \",reg.coef_)\n",
    "print(\"intercept: \",reg.intercept_)\n",
    "print(\"score:\",reg.score(X_train,y_train))\n",
    "\n",
    "X2 = sm.add_constant(X_train)\n",
    "est = sm.OLS(y_train, X2)\n",
    "est2 = est.fit()\n",
    "print(est2.summary())"
   ]
  },
  {
   "cell_type": "markdown",
   "metadata": {},
   "source": [
    "# "
   ]
  },
  {
   "cell_type": "code",
   "execution_count": 221,
   "metadata": {},
   "outputs": [
    {
     "name": "stdout",
     "output_type": "stream",
     "text": [
      "     exact       predit\n",
      "472   1093   895.423095\n",
      "467      4   985.798045\n",
      "613   1998   794.538755\n",
      "424    584   913.376203\n",
      "502    684  1040.747002\n"
     ]
    }
   ],
   "source": [
    "y_predi=reg.predict(X_test)\n",
    "comparaison=pd.DataFrame()\n",
    "comparaison['exact'] = y_test\n",
    "comparaison['predit'] = y_predi\n",
    "print(comparaison.head())"
   ]
  },
  {
   "cell_type": "code",
   "execution_count": 222,
   "metadata": {},
   "outputs": [
    {
     "name": "stdout",
     "output_type": "stream",
     "text": [
      "rmse:  785.7660032443878\n"
     ]
    }
   ],
   "source": [
    "print(\"rmse: \",sqrt(rmse(y_test,y_predi)))\n"
   ]
  },
  {
   "cell_type": "code",
   "execution_count": 223,
   "metadata": {},
   "outputs": [],
   "source": [
    "data2['Personal or Business'] = data2['Personal or Business'].replace(\"Personal\",int(\"1\"))\n",
    "data2['Personal or Business'] = data2['Personal or Business'].replace(\"Business\",int(\"2\"))\n",
    "\n",
    "test = pd.merge(data2, data3, how='left', left_on='Rider Id', right_on='Rider Id', left_index=True)\n",
    "\n",
    "test = test[['Distance (KM)','Average_Rating','Age']]\n"
   ]
  },
  {
   "cell_type": "code",
   "execution_count": 224,
   "metadata": {},
   "outputs": [
    {
     "data": {
      "text/plain": [
       "5332.473961126956"
      ]
     },
     "execution_count": 224,
     "metadata": {},
     "output_type": "execute_result"
    }
   ],
   "source": [
    "y_predi1=reg.predict(test)\n",
    "comparaison=pd.DataFrame()\n",
    "y_predi1.max()"
   ]
  },
  {
   "cell_type": "code",
   "execution_count": 225,
   "metadata": {},
   "outputs": [
    {
     "data": {
      "text/plain": [
       "1"
      ]
     },
     "execution_count": 225,
     "metadata": {},
     "output_type": "execute_result"
    }
   ],
   "source": [
    "data1[\"Time from Pickup to Arrival\"].min()"
   ]
  },
  {
   "cell_type": "code",
   "execution_count": 226,
   "metadata": {},
   "outputs": [],
   "source": [
    "sample=pd.read_csv('/home/fatou/Bureau/zindi/SampleSubmission.csv')\n",
    "sample['Time from Pickup to Arrival']= y_predi1"
   ]
  },
  {
   "cell_type": "code",
   "execution_count": 227,
   "metadata": {},
   "outputs": [],
   "source": [
    "sample.to_csv('/home/fatou/Bureau/zindi/sample.csv')"
   ]
  },
  {
   "cell_type": "code",
   "execution_count": 229,
   "metadata": {},
   "outputs": [
    {
     "data": {
      "text/html": [
       "<div>\n",
       "<style scoped>\n",
       "    .dataframe tbody tr th:only-of-type {\n",
       "        vertical-align: middle;\n",
       "    }\n",
       "\n",
       "    .dataframe tbody tr th {\n",
       "        vertical-align: top;\n",
       "    }\n",
       "\n",
       "    .dataframe thead th {\n",
       "        text-align: right;\n",
       "    }\n",
       "</style>\n",
       "<table border=\"1\" class=\"dataframe\">\n",
       "  <thead>\n",
       "    <tr style=\"text-align: right;\">\n",
       "      <th></th>\n",
       "      <th>Order_No</th>\n",
       "      <th>Time from Pickup to Arrival</th>\n",
       "    </tr>\n",
       "  </thead>\n",
       "  <tbody>\n",
       "    <tr>\n",
       "      <th>0</th>\n",
       "      <td>Order_No_19248</td>\n",
       "      <td>1410.580623</td>\n",
       "    </tr>\n",
       "    <tr>\n",
       "      <th>1</th>\n",
       "      <td>Order_No_12736</td>\n",
       "      <td>1113.880879</td>\n",
       "    </tr>\n",
       "    <tr>\n",
       "      <th>2</th>\n",
       "      <td>Order_No_768</td>\n",
       "      <td>1158.171225</td>\n",
       "    </tr>\n",
       "    <tr>\n",
       "      <th>3</th>\n",
       "      <td>Order_No_15332</td>\n",
       "      <td>1130.265543</td>\n",
       "    </tr>\n",
       "    <tr>\n",
       "      <th>4</th>\n",
       "      <td>Order_No_21373</td>\n",
       "      <td>1192.724748</td>\n",
       "    </tr>\n",
       "    <tr>\n",
       "      <th>5</th>\n",
       "      <td>Order_No_14573</td>\n",
       "      <td>2220.164199</td>\n",
       "    </tr>\n",
       "    <tr>\n",
       "      <th>6</th>\n",
       "      <td>Order_No_6731</td>\n",
       "      <td>2390.982434</td>\n",
       "    </tr>\n",
       "    <tr>\n",
       "      <th>7</th>\n",
       "      <td>Order_No_18436</td>\n",
       "      <td>1417.036713</td>\n",
       "    </tr>\n",
       "    <tr>\n",
       "      <th>8</th>\n",
       "      <td>Order_No_2288</td>\n",
       "      <td>1447.707690</td>\n",
       "    </tr>\n",
       "    <tr>\n",
       "      <th>9</th>\n",
       "      <td>Order_No_9063</td>\n",
       "      <td>2111.633889</td>\n",
       "    </tr>\n",
       "    <tr>\n",
       "      <th>10</th>\n",
       "      <td>Order_No_4814</td>\n",
       "      <td>1417.077745</td>\n",
       "    </tr>\n",
       "    <tr>\n",
       "      <th>11</th>\n",
       "      <td>Order_No_16747</td>\n",
       "      <td>2579.174899</td>\n",
       "    </tr>\n",
       "    <tr>\n",
       "      <th>12</th>\n",
       "      <td>Order_No_6376</td>\n",
       "      <td>1590.139489</td>\n",
       "    </tr>\n",
       "    <tr>\n",
       "      <th>13</th>\n",
       "      <td>Order_No_1199</td>\n",
       "      <td>1331.920035</td>\n",
       "    </tr>\n",
       "    <tr>\n",
       "      <th>14</th>\n",
       "      <td>Order_No_17119</td>\n",
       "      <td>1527.765440</td>\n",
       "    </tr>\n",
       "    <tr>\n",
       "      <th>15</th>\n",
       "      <td>Order_No_14832</td>\n",
       "      <td>1215.388221</td>\n",
       "    </tr>\n",
       "    <tr>\n",
       "      <th>16</th>\n",
       "      <td>Order_No_12321</td>\n",
       "      <td>896.984570</td>\n",
       "    </tr>\n",
       "    <tr>\n",
       "      <th>17</th>\n",
       "      <td>Order_No_24820</td>\n",
       "      <td>1501.038606</td>\n",
       "    </tr>\n",
       "    <tr>\n",
       "      <th>18</th>\n",
       "      <td>Order_No_6065</td>\n",
       "      <td>1285.212959</td>\n",
       "    </tr>\n",
       "    <tr>\n",
       "      <th>19</th>\n",
       "      <td>Order_No_13176</td>\n",
       "      <td>828.774340</td>\n",
       "    </tr>\n",
       "    <tr>\n",
       "      <th>20</th>\n",
       "      <td>Order_No_23557</td>\n",
       "      <td>866.813315</td>\n",
       "    </tr>\n",
       "    <tr>\n",
       "      <th>21</th>\n",
       "      <td>Order_No_20488</td>\n",
       "      <td>2068.146390</td>\n",
       "    </tr>\n",
       "    <tr>\n",
       "      <th>22</th>\n",
       "      <td>Order_No_24214</td>\n",
       "      <td>1268.015041</td>\n",
       "    </tr>\n",
       "    <tr>\n",
       "      <th>23</th>\n",
       "      <td>Order_No_21206</td>\n",
       "      <td>2208.970651</td>\n",
       "    </tr>\n",
       "    <tr>\n",
       "      <th>24</th>\n",
       "      <td>Order_No_1930</td>\n",
       "      <td>1005.286505</td>\n",
       "    </tr>\n",
       "    <tr>\n",
       "      <th>25</th>\n",
       "      <td>Order_No_28180</td>\n",
       "      <td>1996.875864</td>\n",
       "    </tr>\n",
       "    <tr>\n",
       "      <th>26</th>\n",
       "      <td>Order_No_13329</td>\n",
       "      <td>799.351307</td>\n",
       "    </tr>\n",
       "    <tr>\n",
       "      <th>27</th>\n",
       "      <td>Order_No_19004</td>\n",
       "      <td>1006.912043</td>\n",
       "    </tr>\n",
       "    <tr>\n",
       "      <th>28</th>\n",
       "      <td>Order_No_27510</td>\n",
       "      <td>1786.958398</td>\n",
       "    </tr>\n",
       "    <tr>\n",
       "      <th>29</th>\n",
       "      <td>Order_No_25394</td>\n",
       "      <td>1931.166550</td>\n",
       "    </tr>\n",
       "    <tr>\n",
       "      <th>...</th>\n",
       "      <td>...</td>\n",
       "      <td>...</td>\n",
       "    </tr>\n",
       "    <tr>\n",
       "      <th>7038</th>\n",
       "      <td>Order_No_10317</td>\n",
       "      <td>1100.962698</td>\n",
       "    </tr>\n",
       "    <tr>\n",
       "      <th>7039</th>\n",
       "      <td>Order_No_11143</td>\n",
       "      <td>1628.094903</td>\n",
       "    </tr>\n",
       "    <tr>\n",
       "      <th>7040</th>\n",
       "      <td>Order_No_8996</td>\n",
       "      <td>2278.124385</td>\n",
       "    </tr>\n",
       "    <tr>\n",
       "      <th>7041</th>\n",
       "      <td>Order_No_14381</td>\n",
       "      <td>756.410121</td>\n",
       "    </tr>\n",
       "    <tr>\n",
       "      <th>7042</th>\n",
       "      <td>Order_No_22839</td>\n",
       "      <td>1105.794844</td>\n",
       "    </tr>\n",
       "    <tr>\n",
       "      <th>7043</th>\n",
       "      <td>Order_No_463</td>\n",
       "      <td>1188.802669</td>\n",
       "    </tr>\n",
       "    <tr>\n",
       "      <th>7044</th>\n",
       "      <td>Order_No_3700</td>\n",
       "      <td>1421.386513</td>\n",
       "    </tr>\n",
       "    <tr>\n",
       "      <th>7045</th>\n",
       "      <td>Order_No_23416</td>\n",
       "      <td>1584.060994</td>\n",
       "    </tr>\n",
       "    <tr>\n",
       "      <th>7046</th>\n",
       "      <td>Order_No_16891</td>\n",
       "      <td>773.173350</td>\n",
       "    </tr>\n",
       "    <tr>\n",
       "      <th>7047</th>\n",
       "      <td>Order_No_17710</td>\n",
       "      <td>1408.487302</td>\n",
       "    </tr>\n",
       "    <tr>\n",
       "      <th>7048</th>\n",
       "      <td>Order_No_233</td>\n",
       "      <td>1707.374431</td>\n",
       "    </tr>\n",
       "    <tr>\n",
       "      <th>7049</th>\n",
       "      <td>Order_No_15773</td>\n",
       "      <td>988.146650</td>\n",
       "    </tr>\n",
       "    <tr>\n",
       "      <th>7050</th>\n",
       "      <td>Order_No_15488</td>\n",
       "      <td>1084.835441</td>\n",
       "    </tr>\n",
       "    <tr>\n",
       "      <th>7051</th>\n",
       "      <td>Order_No_16865</td>\n",
       "      <td>1046.289149</td>\n",
       "    </tr>\n",
       "    <tr>\n",
       "      <th>7052</th>\n",
       "      <td>Order_No_1301</td>\n",
       "      <td>940.282787</td>\n",
       "    </tr>\n",
       "    <tr>\n",
       "      <th>7053</th>\n",
       "      <td>Order_No_18519</td>\n",
       "      <td>1040.720438</td>\n",
       "    </tr>\n",
       "    <tr>\n",
       "      <th>7054</th>\n",
       "      <td>Order_No_14258</td>\n",
       "      <td>1114.596007</td>\n",
       "    </tr>\n",
       "    <tr>\n",
       "      <th>7055</th>\n",
       "      <td>Order_No_8374</td>\n",
       "      <td>1408.487302</td>\n",
       "    </tr>\n",
       "    <tr>\n",
       "      <th>7056</th>\n",
       "      <td>Order_No_25128</td>\n",
       "      <td>2911.910925</td>\n",
       "    </tr>\n",
       "    <tr>\n",
       "      <th>7057</th>\n",
       "      <td>Order_No_11937</td>\n",
       "      <td>2818.540367</td>\n",
       "    </tr>\n",
       "    <tr>\n",
       "      <th>7058</th>\n",
       "      <td>Order_No_25241</td>\n",
       "      <td>1203.639796</td>\n",
       "    </tr>\n",
       "    <tr>\n",
       "      <th>7059</th>\n",
       "      <td>Order_No_5287</td>\n",
       "      <td>1410.695780</td>\n",
       "    </tr>\n",
       "    <tr>\n",
       "      <th>7060</th>\n",
       "      <td>Order_No_7712</td>\n",
       "      <td>2408.563947</td>\n",
       "    </tr>\n",
       "    <tr>\n",
       "      <th>7061</th>\n",
       "      <td>Order_No_294</td>\n",
       "      <td>1412.241193</td>\n",
       "    </tr>\n",
       "    <tr>\n",
       "      <th>7062</th>\n",
       "      <td>Order_No_16972</td>\n",
       "      <td>1150.531255</td>\n",
       "    </tr>\n",
       "    <tr>\n",
       "      <th>7063</th>\n",
       "      <td>Order_No_3612</td>\n",
       "      <td>1156.408468</td>\n",
       "    </tr>\n",
       "    <tr>\n",
       "      <th>7064</th>\n",
       "      <td>Order_No_7657</td>\n",
       "      <td>2750.548011</td>\n",
       "    </tr>\n",
       "    <tr>\n",
       "      <th>7065</th>\n",
       "      <td>Order_No_1969</td>\n",
       "      <td>1603.273077</td>\n",
       "    </tr>\n",
       "    <tr>\n",
       "      <th>7066</th>\n",
       "      <td>Order_No_10591</td>\n",
       "      <td>2412.346870</td>\n",
       "    </tr>\n",
       "    <tr>\n",
       "      <th>7067</th>\n",
       "      <td>Order_No_1603</td>\n",
       "      <td>1431.334057</td>\n",
       "    </tr>\n",
       "  </tbody>\n",
       "</table>\n",
       "<p>7068 rows × 2 columns</p>\n",
       "</div>"
      ],
      "text/plain": [
       "            Order_No  Time from Pickup to Arrival\n",
       "0     Order_No_19248                  1410.580623\n",
       "1     Order_No_12736                  1113.880879\n",
       "2       Order_No_768                  1158.171225\n",
       "3     Order_No_15332                  1130.265543\n",
       "4     Order_No_21373                  1192.724748\n",
       "5     Order_No_14573                  2220.164199\n",
       "6      Order_No_6731                  2390.982434\n",
       "7     Order_No_18436                  1417.036713\n",
       "8      Order_No_2288                  1447.707690\n",
       "9      Order_No_9063                  2111.633889\n",
       "10     Order_No_4814                  1417.077745\n",
       "11    Order_No_16747                  2579.174899\n",
       "12     Order_No_6376                  1590.139489\n",
       "13     Order_No_1199                  1331.920035\n",
       "14    Order_No_17119                  1527.765440\n",
       "15    Order_No_14832                  1215.388221\n",
       "16    Order_No_12321                   896.984570\n",
       "17    Order_No_24820                  1501.038606\n",
       "18     Order_No_6065                  1285.212959\n",
       "19    Order_No_13176                   828.774340\n",
       "20    Order_No_23557                   866.813315\n",
       "21    Order_No_20488                  2068.146390\n",
       "22    Order_No_24214                  1268.015041\n",
       "23    Order_No_21206                  2208.970651\n",
       "24     Order_No_1930                  1005.286505\n",
       "25    Order_No_28180                  1996.875864\n",
       "26    Order_No_13329                   799.351307\n",
       "27    Order_No_19004                  1006.912043\n",
       "28    Order_No_27510                  1786.958398\n",
       "29    Order_No_25394                  1931.166550\n",
       "...              ...                          ...\n",
       "7038  Order_No_10317                  1100.962698\n",
       "7039  Order_No_11143                  1628.094903\n",
       "7040   Order_No_8996                  2278.124385\n",
       "7041  Order_No_14381                   756.410121\n",
       "7042  Order_No_22839                  1105.794844\n",
       "7043    Order_No_463                  1188.802669\n",
       "7044   Order_No_3700                  1421.386513\n",
       "7045  Order_No_23416                  1584.060994\n",
       "7046  Order_No_16891                   773.173350\n",
       "7047  Order_No_17710                  1408.487302\n",
       "7048    Order_No_233                  1707.374431\n",
       "7049  Order_No_15773                   988.146650\n",
       "7050  Order_No_15488                  1084.835441\n",
       "7051  Order_No_16865                  1046.289149\n",
       "7052   Order_No_1301                   940.282787\n",
       "7053  Order_No_18519                  1040.720438\n",
       "7054  Order_No_14258                  1114.596007\n",
       "7055   Order_No_8374                  1408.487302\n",
       "7056  Order_No_25128                  2911.910925\n",
       "7057  Order_No_11937                  2818.540367\n",
       "7058  Order_No_25241                  1203.639796\n",
       "7059   Order_No_5287                  1410.695780\n",
       "7060   Order_No_7712                  2408.563947\n",
       "7061    Order_No_294                  1412.241193\n",
       "7062  Order_No_16972                  1150.531255\n",
       "7063   Order_No_3612                  1156.408468\n",
       "7064   Order_No_7657                  2750.548011\n",
       "7065   Order_No_1969                  1603.273077\n",
       "7066  Order_No_10591                  2412.346870\n",
       "7067   Order_No_1603                  1431.334057\n",
       "\n",
       "[7068 rows x 2 columns]"
      ]
     },
     "execution_count": 229,
     "metadata": {},
     "output_type": "execute_result"
    }
   ],
   "source": [
    "sample"
   ]
  },
  {
   "cell_type": "code",
   "execution_count": null,
   "metadata": {},
   "outputs": [],
   "source": [
    "\n"
   ]
  },
  {
   "cell_type": "code",
   "execution_count": null,
   "metadata": {},
   "outputs": [],
   "source": []
  },
  {
   "cell_type": "code",
   "execution_count": null,
   "metadata": {},
   "outputs": [],
   "source": []
  }
 ],
 "metadata": {
  "kernelspec": {
   "display_name": "Python 3",
   "language": "python",
   "name": "python3"
  },
  "language_info": {
   "codemirror_mode": {
    "name": "ipython",
    "version": 3
   },
   "file_extension": ".py",
   "mimetype": "text/x-python",
   "name": "python",
   "nbconvert_exporter": "python",
   "pygments_lexer": "ipython3",
   "version": "3.7.3"
  }
 },
 "nbformat": 4,
 "nbformat_minor": 2
}
