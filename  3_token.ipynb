{
 "cells": [
  {
   "cell_type": "code",
   "execution_count": 16,
   "metadata": {},
   "outputs": [],
   "source": [
    "#recuperation des données de l'API OpenRouteService\n",
    "import pandas as pd\n",
    "import datetime\n",
    "import openrouteservice as ors\n",
    "from openrouteservice.directions import directions"
   ]
  },
  {
   "cell_type": "code",
   "execution_count": 17,
   "metadata": {},
   "outputs": [],
   "source": [
    "myTok = \"5b3ce3597851110001cf62489fafc14697984956becaee559f01f2a4\"\n",
    "client = ors.Client(key=myTok)"
   ]
  },
  {
   "cell_type": "code",
   "execution_count": 18,
   "metadata": {},
   "outputs": [],
   "source": [
    "Train = pd.read_csv(\"Train.csv\")\n",
    "Test = pd.read_csv(\"Test.csv\")"
   ]
  },
  {
   "cell_type": "code",
   "execution_count": 20,
   "metadata": {},
   "outputs": [
    {
     "name": "stdout",
     "output_type": "stream",
     "text": [
      "Temps total: 0:14:16.565370\n"
     ]
    }
   ],
   "source": [
    "# exemple recuperer de 3068 a 5068\n",
    "t_ = Test[4621:5068]\n",
    "time_init = datetime.datetime.now()\n",
    "filename = \"ors_test_4621_5068.csv\"\n",
    "with open(filename,mode=\"w+\",encoding=\"utf-8\") as f:\n",
    " for i,j,k,l in zip(t_['Pickup Long'].T,t_['Pickup Lat'].T,t_['Destination Long'].T,t_['Destination Lat'].T):\n",
    "   coords = ((i,j),(k,l))\n",
    "   routes = directions(client, coords,profile='cycling-regular',language='fr')\n",
    "   info = \"{},{}\\n\"\n",
    "   f.write(info.format(routes[\"routes\"][0][\"summary\"][\"distance\"],routes[\"routes\"][0][\"summary\"][\"duration\"]))\n",
    "f.close()\n",
    "time_fin = datetime.datetime.now()\n",
    "print(\"Temps total: {}\".format(time_fin - time_init))"
   ]
  },
  {
   "cell_type": "code",
   "execution_count": null,
   "metadata": {},
   "outputs": [],
   "source": []
  }
 ],
 "metadata": {
  "kernelspec": {
   "display_name": "Python 3",
   "language": "python",
   "name": "python3"
  },
  "language_info": {
   "codemirror_mode": {
    "name": "ipython",
    "version": 3
   },
   "file_extension": ".py",
   "mimetype": "text/x-python",
   "name": "python",
   "nbconvert_exporter": "python",
   "pygments_lexer": "ipython3",
   "version": "3.7.3"
  }
 },
 "nbformat": 4,
 "nbformat_minor": 2
}
