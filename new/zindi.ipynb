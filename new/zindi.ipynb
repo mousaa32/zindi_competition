{
 "cells": [
  {
   "cell_type": "code",
   "execution_count": 159,
   "metadata": {
    "collapsed": true
   },
   "outputs": [],
   "source": [
    "# import pandas as pd\n",
    "# import matplotlib.pyplot as plt\n",
    "#testing_set = pd.read_csv('/home/fatouthink/Téléchargements/dataset/Test.csv')\n",
    "#training_set.head()\n",
    "# plt.plot(training_set['Distance (KM)'])# 'ro', markersize=4)\n",
    "# plt.show()"
   ]
  },
  {
   "cell_type": "code",
   "execution_count": 166,
   "metadata": {
    "collapsed": true
   },
   "outputs": [],
   "source": [
    "# Confirmation_Day_of_Month= training_set['Confirmation - Day of Month']\n",
    "# Platform_Type=training_set['Platform Type']\n",
    "# Personal_or_Busines=training_set['Personal or Business']\n",
    "#Placement_Day_of_Month=training_set['Placement - Day of Month']\n",
    "#Placement_Weekday=training_set['Placement - Weekday (Mo = 1)']\n",
    "#Placement_Time=training_set['Placement - Time']\n",
    "# Confirmation_Day_of_Month=training_set['Confirmation - Day of Month']\n",
    "# Confirmation__Weekday=training_set['Confirmation - Weekday (Mo = 1)']\n",
    "#Pickup_Time=training_set['Pickup - Time']\n",
    "#Distance=training_set['Distance (KM)']\n",
    "#Temperature=training_set['Temperature']\n",
    "#Precipitation=training_set['Precipitation in millimeters']\n",
    "#Pickup_Lat=training_set['Pickup Lat']\n",
    "#Pickup_Long=training_set['Pickup Long']\n",
    "# Destination_Lat=training_set['Destination Lat']\n",
    "# Destination_Long=training_set['Destination Long']\n",
    "#training_set['Personal or Busines'].head() \n",
    "\n",
    "\n",
    "# plt.plot(rider['Average_Rating'], 'ro', markersize=4)\n",
    "# plt.show()\n",
    "#del training_set['Precipitation in millimeters']\n",
    "#data.describe()\n",
    "# data = training_set.copy()\n",
    "# data[\"Temperature\"] = data[\"Temperature\"].fillna(data[\"Temperature\"].median())\n",
    "# plt.plot(data['Platform Type'], 'ro', markersize=4)\n",
    "# # plt.show()\n",
    "# plt.boxplot(data['Platform Type'])\n",
    "# plt.show()\n",
    "# plt.boxplot(data['jour_du mois(commande_confirmation)'])\n",
    "# # plt.show()\n",
    "# plt.boxplot(data['jour_du mois(commande_confirmation)'], meanline=True, showmeans=True)\n",
    "# plt.show()\n",
    "# plt.boxplot(data['Type de client'])\n",
    "# plt.show()"
   ]
  },
  {
   "cell_type": "code",
   "execution_count": 168,
   "metadata": {
    "collapsed": true
   },
   "outputs": [],
   "source": [
    "#le mot le plus fréquent\n",
    "# def most_common_words(labels):\n",
    "#     words = []\n",
    "#     for lab in labels:\n",
    "#         words += lab.split(\" \")\n",
    "#     counter = Counter(words)\n",
    "#     for word in counter.most_common(100):\n",
    "#         print(word)\n",
    "#most_common_words(training_set['Vehicle Type'].values)\n",
    "Train_last.csv"
   ]
  },
  {
   "cell_type": "code",
   "execution_count": 24,
   "metadata": {},
   "outputs": [
    {
     "data": {
      "text/html": [
       "<div>\n",
       "<style>\n",
       "    .dataframe thead tr:only-child th {\n",
       "        text-align: right;\n",
       "    }\n",
       "\n",
       "    .dataframe thead th {\n",
       "        text-align: left;\n",
       "    }\n",
       "\n",
       "    .dataframe tbody tr th {\n",
       "        vertical-align: top;\n",
       "    }\n",
       "</style>\n",
       "<table border=\"1\" class=\"dataframe\">\n",
       "  <thead>\n",
       "    <tr style=\"text-align: right;\">\n",
       "      <th></th>\n",
       "      <th>Unnamed: 0</th>\n",
       "      <th>num_commande</th>\n",
       "      <th>platform_type</th>\n",
       "      <th>type_client</th>\n",
       "      <th>jour_mois(commande_confirmation)</th>\n",
       "      <th>jour_semaine(commande_confirmation)</th>\n",
       "      <th>heure(commande_confirmation)</th>\n",
       "      <th>jour_mois(confirmationlivreur_arrivedepot)</th>\n",
       "      <th>jour_semaine(confirmationlivreur_arrivedepot)</th>\n",
       "      <th>heure(confirmationlivreur_arrivedepot)</th>\n",
       "      <th>...</th>\n",
       "      <th>heure(livreurrecoitcommande)</th>\n",
       "      <th>distance(KM)</th>\n",
       "      <th>temperature</th>\n",
       "      <th>pickup_lat</th>\n",
       "      <th>pickup_long</th>\n",
       "      <th>destination_lat</th>\n",
       "      <th>destination_long</th>\n",
       "      <th>rider_id</th>\n",
       "      <th>moyenne</th>\n",
       "      <th>time_from_pickup_to_arrival</th>\n",
       "    </tr>\n",
       "  </thead>\n",
       "  <tbody>\n",
       "    <tr>\n",
       "      <th>0</th>\n",
       "      <td>0</td>\n",
       "      <td>Order_No_4211</td>\n",
       "      <td>3</td>\n",
       "      <td>1</td>\n",
       "      <td>0</td>\n",
       "      <td>0</td>\n",
       "      <td>264</td>\n",
       "      <td>0</td>\n",
       "      <td>0</td>\n",
       "      <td>1477</td>\n",
       "      <td>...</td>\n",
       "      <td>37650</td>\n",
       "      <td>4</td>\n",
       "      <td>20.4</td>\n",
       "      <td>-1.317755</td>\n",
       "      <td>36.830370</td>\n",
       "      <td>-1.300406</td>\n",
       "      <td>36.829741</td>\n",
       "      <td>Rider_Id_432</td>\n",
       "      <td>13.8</td>\n",
       "      <td>745</td>\n",
       "    </tr>\n",
       "    <tr>\n",
       "      <th>1</th>\n",
       "      <td>1</td>\n",
       "      <td>Order_No_25375</td>\n",
       "      <td>3</td>\n",
       "      <td>0</td>\n",
       "      <td>0</td>\n",
       "      <td>0</td>\n",
       "      <td>425</td>\n",
       "      <td>0</td>\n",
       "      <td>0</td>\n",
       "      <td>1021</td>\n",
       "      <td>...</td>\n",
       "      <td>42249</td>\n",
       "      <td>16</td>\n",
       "      <td>26.4</td>\n",
       "      <td>-1.351453</td>\n",
       "      <td>36.899315</td>\n",
       "      <td>-1.295004</td>\n",
       "      <td>36.814358</td>\n",
       "      <td>Rider_Id_856</td>\n",
       "      <td>13.6</td>\n",
       "      <td>1993</td>\n",
       "    </tr>\n",
       "    <tr>\n",
       "      <th>2</th>\n",
       "      <td>2</td>\n",
       "      <td>Order_No_1899</td>\n",
       "      <td>3</td>\n",
       "      <td>1</td>\n",
       "      <td>0</td>\n",
       "      <td>0</td>\n",
       "      <td>199</td>\n",
       "      <td>0</td>\n",
       "      <td>0</td>\n",
       "      <td>410</td>\n",
       "      <td>...</td>\n",
       "      <td>46383</td>\n",
       "      <td>3</td>\n",
       "      <td>23.5</td>\n",
       "      <td>-1.308284</td>\n",
       "      <td>36.843419</td>\n",
       "      <td>-1.300921</td>\n",
       "      <td>36.828195</td>\n",
       "      <td>Rider_Id_155</td>\n",
       "      <td>12.5</td>\n",
       "      <td>455</td>\n",
       "    </tr>\n",
       "    <tr>\n",
       "      <th>3</th>\n",
       "      <td>3</td>\n",
       "      <td>Order_No_9336</td>\n",
       "      <td>3</td>\n",
       "      <td>1</td>\n",
       "      <td>0</td>\n",
       "      <td>0</td>\n",
       "      <td>31</td>\n",
       "      <td>0</td>\n",
       "      <td>0</td>\n",
       "      <td>711</td>\n",
       "      <td>...</td>\n",
       "      <td>34986</td>\n",
       "      <td>9</td>\n",
       "      <td>19.2</td>\n",
       "      <td>-1.281301</td>\n",
       "      <td>36.832396</td>\n",
       "      <td>-1.257147</td>\n",
       "      <td>36.795063</td>\n",
       "      <td>Rider_Id_855</td>\n",
       "      <td>14.5</td>\n",
       "      <td>1341</td>\n",
       "    </tr>\n",
       "    <tr>\n",
       "      <th>4</th>\n",
       "      <td>4</td>\n",
       "      <td>Order_No_27883</td>\n",
       "      <td>1</td>\n",
       "      <td>0</td>\n",
       "      <td>0</td>\n",
       "      <td>0</td>\n",
       "      <td>60</td>\n",
       "      <td>0</td>\n",
       "      <td>0</td>\n",
       "      <td>455</td>\n",
       "      <td>...</td>\n",
       "      <td>36323</td>\n",
       "      <td>9</td>\n",
       "      <td>15.4</td>\n",
       "      <td>-1.266597</td>\n",
       "      <td>36.792118</td>\n",
       "      <td>-1.295041</td>\n",
       "      <td>36.809817</td>\n",
       "      <td>Rider_Id_770</td>\n",
       "      <td>14.1</td>\n",
       "      <td>1214</td>\n",
       "    </tr>\n",
       "  </tbody>\n",
       "</table>\n",
       "<p>5 rows × 25 columns</p>\n",
       "</div>"
      ],
      "text/plain": [
       "   Unnamed: 0    num_commande  platform_type  type_client  \\\n",
       "0           0   Order_No_4211              3            1   \n",
       "1           1  Order_No_25375              3            0   \n",
       "2           2   Order_No_1899              3            1   \n",
       "3           3   Order_No_9336              3            1   \n",
       "4           4  Order_No_27883              1            0   \n",
       "\n",
       "   jour_mois(commande_confirmation)  jour_semaine(commande_confirmation)  \\\n",
       "0                                 0                                    0   \n",
       "1                                 0                                    0   \n",
       "2                                 0                                    0   \n",
       "3                                 0                                    0   \n",
       "4                                 0                                    0   \n",
       "\n",
       "   heure(commande_confirmation)  jour_mois(confirmationlivreur_arrivedepot)  \\\n",
       "0                           264                                           0   \n",
       "1                           425                                           0   \n",
       "2                           199                                           0   \n",
       "3                            31                                           0   \n",
       "4                            60                                           0   \n",
       "\n",
       "   jour_semaine(confirmationlivreur_arrivedepot)  \\\n",
       "0                                              0   \n",
       "1                                              0   \n",
       "2                                              0   \n",
       "3                                              0   \n",
       "4                                              0   \n",
       "\n",
       "   heure(confirmationlivreur_arrivedepot)             ...               \\\n",
       "0                                    1477             ...                \n",
       "1                                    1021             ...                \n",
       "2                                     410             ...                \n",
       "3                                     711             ...                \n",
       "4                                     455             ...                \n",
       "\n",
       "   heure(livreurrecoitcommande)  distance(KM)  temperature  pickup_lat  \\\n",
       "0                         37650             4         20.4   -1.317755   \n",
       "1                         42249            16         26.4   -1.351453   \n",
       "2                         46383             3         23.5   -1.308284   \n",
       "3                         34986             9         19.2   -1.281301   \n",
       "4                         36323             9         15.4   -1.266597   \n",
       "\n",
       "   pickup_long  destination_lat  destination_long      rider_id  moyenne  \\\n",
       "0    36.830370        -1.300406         36.829741  Rider_Id_432     13.8   \n",
       "1    36.899315        -1.295004         36.814358  Rider_Id_856     13.6   \n",
       "2    36.843419        -1.300921         36.828195  Rider_Id_155     12.5   \n",
       "3    36.832396        -1.257147         36.795063  Rider_Id_855     14.5   \n",
       "4    36.792118        -1.295041         36.809817  Rider_Id_770     14.1   \n",
       "\n",
       "   time_from_pickup_to_arrival  \n",
       "0                          745  \n",
       "1                         1993  \n",
       "2                          455  \n",
       "3                         1341  \n",
       "4                         1214  \n",
       "\n",
       "[5 rows x 25 columns]"
      ]
     },
     "execution_count": 24,
     "metadata": {},
     "output_type": "execute_result"
    }
   ],
   "source": [
    "import pandas as pd\n",
    "import matplotlib.pyplot as plt\n",
    "train_dataset = pd.read_csv('/home/fatouthink/Téléchargements/dataset/Train_last1.csv', sep = ';')\n",
    "train_dataset.head()"
   ]
  },
  {
   "cell_type": "code",
   "execution_count": 27,
   "metadata": {},
   "outputs": [],
   "source": [
    "data = train_dataset[['jour_mois(livreurrecoitcommande)',\n",
    "                      'jour_semaine(livreurrecoitcommande)',\n",
    "                       'heure(livreurrecoitcommande)',\n",
    "                      'distance(KM)',\n",
    "                      'temperature',\n",
    "                      'moyenne',\n",
    "                      'time_from_pickup_to_arrival']]\n"
   ]
  },
  {
   "cell_type": "code",
   "execution_count": 1,
   "metadata": {},
   "outputs": [],
   "source": [
    "from sklearn.model_selection import train_test_split\n",
    "from sklearn.linear_model import LinearRegression\n"
   ]
  },
  {
   "cell_type": "code",
   "execution_count": 32,
   "metadata": {},
   "outputs": [],
   "source": [
    "x = data[['jour_mois(livreurrecoitcommande)',\n",
    "                      'jour_semaine(livreurrecoitcommande)',\n",
    "                       'heure(livreurrecoitcommande)',\n",
    "                      'distance(KM)',\n",
    "                      'temperature',\n",
    "                      'time_from_pickup_to_arrival']]\n",
    "y = data['time_from_pickup_to_arrival']\n",
    "x_train, x_test, y_train, y_test = train_test_split(x, y, test_size=0.2)\n",
    "reg = LinearRegression().fit(x_train, y_train)"
   ]
  },
  {
   "cell_type": "code",
   "execution_count": 37,
   "metadata": {},
   "outputs": [
    {
     "name": "stdout",
     "output_type": "stream",
     "text": [
      "2414.000000000001\n"
     ]
    },
    {
     "data": {
      "text/plain": [
       "1.0"
      ]
     },
     "execution_count": 37,
     "metadata": {},
     "output_type": "execute_result"
    }
   ],
   "source": [
    "from sklearn.metrics import mean_squared_error,r2_score\n",
    "y_pred = reg.predict(x_test)\n",
    "print(y_pred[1])\n",
    "mean_squared_error(y_test, y_pred)\n",
    "r2_score(y_test, y_pred)"
   ]
  },
  {
   "cell_type": "code",
   "execution_count": 35,
   "metadata": {},
   "outputs": [
    {
     "name": "stdout",
     "output_type": "stream",
     "text": [
      "13918     599\n",
      "11112    2414\n",
      "18258    3223\n",
      "19584    1806\n",
      "4759     1553\n",
      "1099      544\n",
      "21022    4096\n",
      "19477    1174\n",
      "19631    1291\n",
      "7179      744\n",
      "103      1495\n",
      "465      1979\n",
      "17028    1598\n",
      "20908    1954\n",
      "1711     2375\n",
      "882      1057\n",
      "18819     880\n",
      "18583    1138\n",
      "21098    1647\n",
      "14271     948\n",
      "10159    1120\n",
      "1411     1926\n",
      "5289     1962\n",
      "2072     2172\n",
      "20487     740\n",
      "10617    3463\n",
      "20689    1292\n",
      "19809     942\n",
      "12397    1575\n",
      "2065     1242\n",
      "         ... \n",
      "9690     2538\n",
      "11744     536\n",
      "19497    1029\n",
      "2955     1757\n",
      "14825    1492\n",
      "11004     598\n",
      "19270    1318\n",
      "11964    2256\n",
      "14792    2797\n",
      "3340     2081\n",
      "7715      886\n",
      "3625     2822\n",
      "20246    1740\n",
      "12853     958\n",
      "17936     927\n",
      "10083    2767\n",
      "7444     4997\n",
      "9418     1540\n",
      "12380     598\n",
      "3115     1132\n",
      "17684       4\n",
      "15650    1123\n",
      "370       808\n",
      "16692     946\n",
      "8801      430\n",
      "3575     1512\n",
      "2899     1637\n",
      "964       774\n",
      "6819      815\n",
      "14496    1917\n",
      "Name: time_from_pickup_to_arrival, Length: 4230, dtype: int64\n"
     ]
    }
   ],
   "source": [
    "print(y_test)"
   ]
  },
  {
   "cell_type": "code",
   "execution_count": 1,
   "metadata": {},
   "outputs": [],
   "source": [
    "import pandas as pd"
   ]
  },
  {
   "cell_type": "code",
   "execution_count": 2,
   "metadata": {},
   "outputs": [],
   "source": [
    "tr = pd.read_csv(\"testRoot.csv\")"
   ]
  },
  {
   "cell_type": "code",
   "execution_count": 4,
   "metadata": {},
   "outputs": [],
   "source": [
    "tr = tr.T"
   ]
  },
  {
   "cell_type": "code",
   "execution_count": 12,
   "metadata": {},
   "outputs": [
    {
     "data": {
      "text/plain": [
       "(7069, 3)"
      ]
     },
     "execution_count": 12,
     "metadata": {},
     "output_type": "execute_result"
    }
   ],
   "source": [
    "tr.shape"
   ]
  },
  {
   "cell_type": "code",
   "execution_count": 20,
   "metadata": {},
   "outputs": [
    {
     "name": "stdout",
     "output_type": "stream",
     "text": [
      "{'distance': 8596.0, 'duration': 621.2}\n",
      "{'distance': 8417.1, 'duration': 678.6}\n",
      "{'distance': 4966.0, 'duration': 412.7}\n",
      "{'distance': 3694.4, 'duration': 352.0}\n",
      "{'distance': 4554.1, 'duration': 344.8}\n",
      "{'distance': 15333.1, 'duration': 977.3}\n",
      "{'distance': 15486.6, 'duration': 1073.0}\n",
      "{'distance': 7641.2, 'duration': 690.5}\n",
      "{'distance': 8016.5, 'duration': 675.4}\n"
     ]
    }
   ],
   "source": [
    "with open(\"ors.csv\",\"w+\") as f:\n",
    "    \n",
    "    for i in tr.iloc[1:,0]:\n",
    "        print(eval(i)[0][\"summary\"])"
   ]
  },
  {
   "cell_type": "code",
   "execution_count": null,
   "metadata": {},
   "outputs": [],
   "source": []
  }
 ],
 "metadata": {
  "kernelspec": {
   "display_name": "Python 3",
   "language": "python",
   "name": "python3"
  },
  "language_info": {
   "codemirror_mode": {
    "name": "ipython",
    "version": 3
   },
   "file_extension": ".py",
   "mimetype": "text/x-python",
   "name": "python",
   "nbconvert_exporter": "python",
   "pygments_lexer": "ipython3",
   "version": "3.7.3"
  }
 },
 "nbformat": 4,
 "nbformat_minor": 2
}
