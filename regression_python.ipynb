{
 "cells": [
  {
   "cell_type": "code",
   "execution_count": 3,
   "metadata": {},
   "outputs": [],
   "source": [
    "import os\n",
    "import numpy as np\n",
    "import pandas as pd\n",
    "from sklearn.metrics import mean_squared_error\n",
    "from sklearn.model_selection import train_test_split\n",
    "from sklearn.linear_model import Ridge"
   ]
  },
  {
   "cell_type": "code",
   "execution_count": 5,
   "metadata": {},
   "outputs": [],
   "source": [
    "def write_submission_file(prediction, filename,\n",
    "                          path_to_sample=os.path.join('SampleSubmission.csv')):\n",
    "    submission = pd.read_csv(path_to_sample, index_col='Order_No')\n",
    "    \n",
    "    submission['Time from Pickup to Arrival'] = prediction\n",
    "    submission.to_csv(filename)"
   ]
  },
  {
   "cell_type": "code",
   "execution_count": 6,
   "metadata": {},
   "outputs": [],
   "source": [
    "def rmse(y_true, y_pred):\n",
    "    return np.sqrt(mean_squared_error(y_true, y_pred))"
   ]
  },
  {
   "cell_type": "markdown",
   "metadata": {},
   "source": [
    "### Preparing the dataset\n"
   ]
  },
  {
   "cell_type": "code",
   "execution_count": 7,
   "metadata": {},
   "outputs": [],
   "source": [
    "train = pd.read_csv('Train.csv', sep=',') \n",
    "test = pd.read_csv('Test.csv', sep=',') \n",
    "riders = pd.read_csv('Riders.csv', sep=',')"
   ]
  },
  {
   "cell_type": "code",
   "execution_count": null,
   "metadata": {},
   "outputs": [],
   "source": []
  },
  {
   "cell_type": "code",
   "execution_count": 8,
   "metadata": {},
   "outputs": [],
   "source": [
    "train = pd.merge(train, riders, how='left', left_on='Rider Id', right_on='Rider Id', left_index=True)\n",
    "test = pd.merge(test, riders, how='left', left_on='Rider Id', right_on='Rider Id', left_index=True)"
   ]
  },
  {
   "cell_type": "code",
   "execution_count": 9,
   "metadata": {},
   "outputs": [
    {
     "name": "stdout",
     "output_type": "stream",
     "text": [
      "       Platform Type  Placement - Day of Month  Placement - Weekday (Mo = 1)  \\\n",
      "count   21201.000000              21201.000000                  21201.000000   \n",
      "mean        2.752182                 15.653696                      3.240083   \n",
      "std         0.625178                  8.798916                      1.567295   \n",
      "min         1.000000                  1.000000                      1.000000   \n",
      "25%         3.000000                  8.000000                      2.000000   \n",
      "50%         3.000000                 15.000000                      3.000000   \n",
      "75%         3.000000                 23.000000                      5.000000   \n",
      "max         4.000000                 31.000000                      7.000000   \n",
      "\n",
      "       Confirmation - Day of Month  Confirmation - Weekday (Mo = 1)  \\\n",
      "count                 21201.000000                     21201.000000   \n",
      "mean                     15.653837                         3.240225   \n",
      "std                       8.798886                         1.567228   \n",
      "min                       1.000000                         1.000000   \n",
      "25%                       8.000000                         2.000000   \n",
      "50%                      15.000000                         3.000000   \n",
      "75%                      23.000000                         5.000000   \n",
      "max                      31.000000                         7.000000   \n",
      "\n",
      "       Arrival at Pickup - Day of Month  Arrival at Pickup - Weekday (Mo = 1)  \\\n",
      "count                      21201.000000                          21201.000000   \n",
      "mean                          15.653837                              3.240225   \n",
      "std                            8.798886                              1.567228   \n",
      "min                            1.000000                              1.000000   \n",
      "25%                            8.000000                              2.000000   \n",
      "50%                           15.000000                              3.000000   \n",
      "75%                           23.000000                              5.000000   \n",
      "max                           31.000000                              7.000000   \n",
      "\n",
      "       Pickup - Day of Month  Pickup - Weekday (Mo = 1)  \\\n",
      "count           21201.000000               21201.000000   \n",
      "mean               15.653837                   3.240225   \n",
      "std                 8.798886                   1.567228   \n",
      "min                 1.000000                   1.000000   \n",
      "25%                 8.000000                   2.000000   \n",
      "50%                15.000000                   3.000000   \n",
      "75%                23.000000                   5.000000   \n",
      "max                31.000000                   7.000000   \n",
      "\n",
      "       Arrival at Destination - Day of Month  ...  \\\n",
      "count                           21201.000000  ...   \n",
      "mean                               15.653837  ...   \n",
      "std                                 8.798886  ...   \n",
      "min                                 1.000000  ...   \n",
      "25%                                 8.000000  ...   \n",
      "50%                                15.000000  ...   \n",
      "75%                                23.000000  ...   \n",
      "max                                31.000000  ...   \n",
      "\n",
      "       Precipitation in millimeters    Pickup Lat   Pickup Long  \\\n",
      "count                    552.000000  21201.000000  21201.000000   \n",
      "mean                       7.905797     -1.281470     36.811264   \n",
      "std                       17.089971      0.030507      0.037473   \n",
      "min                        0.100000     -1.438302     36.653621   \n",
      "25%                        1.075000     -1.300921     36.784605   \n",
      "50%                        2.900000     -1.279395     36.807040   \n",
      "75%                        4.900000     -1.257147     36.829741   \n",
      "max                       99.100000     -1.147170     36.991046   \n",
      "\n",
      "       Destination Lat  Destination Long  Time from Pickup to Arrival  \\\n",
      "count     21201.000000      21201.000000                 21201.000000   \n",
      "mean         -1.282581         36.811220                  1556.920947   \n",
      "std           0.034824          0.044721                   987.270788   \n",
      "min          -1.430298         36.606594                     1.000000   \n",
      "25%          -1.301201         36.785661                   882.000000   \n",
      "50%          -1.284382         36.808002                  1369.000000   \n",
      "75%          -1.261177         36.829477                  2040.000000   \n",
      "max          -1.030225         37.016779                  7883.000000   \n",
      "\n",
      "       No_Of_Orders           Age  Average_Rating  No_of_Ratings  \n",
      "count  21201.000000  21201.000000    21201.000000   21201.000000  \n",
      "mean    1692.423706    984.742842       13.882520     341.067119  \n",
      "std     1574.308302    646.652835        0.916071     402.867746  \n",
      "min        2.000000     96.000000        0.000000       0.000000  \n",
      "25%      557.000000    495.000000       13.600000      61.000000  \n",
      "50%     1212.000000    872.000000       14.000000     161.000000  \n",
      "75%     2311.000000   1236.000000       14.300000     495.000000  \n",
      "max     9756.000000   3764.000000       15.200000    2298.000000  \n",
      "\n",
      "[8 rows x 23 columns]\n"
     ]
    }
   ],
   "source": [
    "print(train.describe())"
   ]
  },
  {
   "cell_type": "code",
   "execution_count": 10,
   "metadata": {},
   "outputs": [],
   "source": [
    "#Only 'Distance (KM)', 'Average_Rating', 'Pickup - Weekday (Mo = 1)', 'Temperature' are used in this model.\n",
    "X_train = train[['Order No', 'Distance (KM)', 'Average_Rating', 'Pickup - Weekday (Mo = 1)', 'Temperature']].\\\n",
    "                set_index('Order No')\n",
    "X_test = test[['Order No','Distance (KM)', 'Average_Rating','Pickup - Weekday (Mo = 1)', 'Temperature']].\\\n",
    "                set_index('Order No')\n",
    "#Replace missing values with median values\n",
    "X_train = X_train.fillna(X_train.median())\n",
    "X_test = X_test.fillna(X_test.median())"
   ]
  },
  {
   "cell_type": "code",
   "execution_count": null,
   "metadata": {},
   "outputs": [],
   "source": []
  },
  {
   "cell_type": "code",
   "execution_count": 11,
   "metadata": {},
   "outputs": [],
   "source": [
    "y_train = train['Time from Pickup to Arrival']"
   ]
  },
  {
   "cell_type": "markdown",
   "metadata": {},
   "source": [
    "### Model quality check"
   ]
  },
  {
   "cell_type": "code",
   "execution_count": 12,
   "metadata": {},
   "outputs": [],
   "source": [
    "ridge = Ridge(alpha=0.01, normalize = True, random_state=42)"
   ]
  },
  {
   "cell_type": "code",
   "execution_count": 13,
   "metadata": {},
   "outputs": [],
   "source": [
    "X_train_part, X_valid, y_train_part, y_valid = train_test_split(X_train, y_train, test_size=0.3, random_state=42)"
   ]
  },
  {
   "cell_type": "code",
   "execution_count": 14,
   "metadata": {},
   "outputs": [],
   "source": [
    "ridge.fit(X_train_part, y_train_part)\n",
    "ridge_valid_pred = ridge.predict(X_valid)\n",
    "#In case delivery time is forecasted negative\n",
    "ridge_valid_pred[ridge_valid_pred < 0] = 0"
   ]
  },
  {
   "cell_type": "code",
   "execution_count": 15,
   "metadata": {},
   "outputs": [
    {
     "data": {
      "text/plain": [
       "808.3919523552674"
      ]
     },
     "execution_count": 15,
     "metadata": {},
     "output_type": "execute_result"
    }
   ],
   "source": [
    "#On the leaderboard 785.648\n",
    "rmse(y_valid, ridge_valid_pred)"
   ]
  },
  {
   "cell_type": "markdown",
   "metadata": {},
   "source": [
    "### Model training and submission creation"
   ]
  },
  {
   "cell_type": "code",
   "execution_count": null,
   "metadata": {},
   "outputs": [],
   "source": []
  },
  {
   "cell_type": "code",
   "execution_count": 16,
   "metadata": {},
   "outputs": [],
   "source": [
    "ridge.fit(X_train, y_train)\n",
    "ridge_prediction = ridge.predict(X_test)"
   ]
  },
  {
   "cell_type": "code",
   "execution_count": 19,
   "metadata": {},
   "outputs": [
    {
     "data": {
      "text/plain": [
       "7068"
      ]
     },
     "execution_count": 19,
     "metadata": {},
     "output_type": "execute_result"
    }
   ],
   "source": [
    "len(ridge_prediction)"
   ]
  },
  {
   "cell_type": "code",
   "execution_count": 17,
   "metadata": {},
   "outputs": [],
   "source": [
    "write_submission_file(prediction=ridge_prediction, filename='submission.csv')"
   ]
  },
  {
   "cell_type": "code",
   "execution_count": null,
   "metadata": {},
   "outputs": [],
   "source": []
  }
 ],
 "metadata": {
  "kernelspec": {
   "display_name": "Python 3",
   "language": "python",
   "name": "python3"
  },
  "language_info": {
   "codemirror_mode": {
    "name": "ipython",
    "version": 3
   },
   "file_extension": ".py",
   "mimetype": "text/x-python",
   "name": "python",
   "nbconvert_exporter": "python",
   "pygments_lexer": "ipython3",
   "version": "3.7.3"
  }
 },
 "nbformat": 4,
 "nbformat_minor": 2
}
